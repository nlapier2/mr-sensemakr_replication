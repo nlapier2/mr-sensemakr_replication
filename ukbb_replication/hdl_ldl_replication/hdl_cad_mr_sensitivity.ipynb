{
 "cells": [
  {
   "cell_type": "code",
   "execution_count": 1,
   "metadata": {},
   "outputs": [
    {
     "name": "stderr",
     "output_type": "stream",
     "text": [
      "See details in:\n",
      "\n",
      "Carlos Cinelli and Chad Hazlett (2020). Making Sense of Sensitivity: Extending Omitted Variable Bias. Journal of the Royal Statistical Society, Series B (Statistical Methodology).\n",
      "\n",
      "Loading required package: car\n",
      "\n",
      "Loading required package: carData\n",
      "\n",
      "Loading required package: lmtest\n",
      "\n",
      "Loading required package: zoo\n",
      "\n",
      "\n",
      "Attaching package: ‘zoo’\n",
      "\n",
      "\n",
      "The following objects are masked from ‘package:base’:\n",
      "\n",
      "    as.Date, as.Date.numeric\n",
      "\n",
      "\n",
      "Loading required package: sandwich\n",
      "\n",
      "Loading required package: survival\n",
      "\n",
      "\n",
      "Attaching package: ‘dplyr’\n",
      "\n",
      "\n",
      "The following object is masked from ‘package:car’:\n",
      "\n",
      "    recode\n",
      "\n",
      "\n",
      "The following objects are masked from ‘package:stats’:\n",
      "\n",
      "    filter, lag\n",
      "\n",
      "\n",
      "The following objects are masked from ‘package:base’:\n",
      "\n",
      "    intersect, setdiff, setequal, union\n",
      "\n",
      "\n",
      "\n",
      "Attaching package: ‘data.table’\n",
      "\n",
      "\n",
      "The following objects are masked from ‘package:dplyr’:\n",
      "\n",
      "    between, first, last\n",
      "\n",
      "\n"
     ]
    }
   ],
   "source": [
    "library(sensemakr)\n",
    "library(ivmodel)\n",
    "library(AER)\n",
    "library(dplyr)\n",
    "library(data.table)\n",
    "#library(stargazer)\n",
    "#library(speedglm)\n",
    "options(digits = 4, scipen = 99)"
   ]
  },
  {
   "cell_type": "code",
   "execution_count": 16,
   "metadata": {
    "collapsed": true
   },
   "outputs": [],
   "source": [
    "# reads processed and filtered data\n",
    "data <- readRDS(\"processed_data/filter4_data.rds\")"
   ]
  },
  {
   "cell_type": "code",
   "execution_count": 17,
   "metadata": {},
   "outputs": [],
   "source": [
    "# standardize PRS\n",
    "data[ ,prs_std_hdl  := as.numeric(scale(prs_hdl))]\n",
    "data[ ,prs_std_ldl  := as.numeric(scale(prs_ldl))]\n",
    "data[ ,hdl_std  := as.numeric(scale(hdl))]\n",
    "data[ ,ldl_std  := as.numeric(scale(ldl))]\n",
    "data[ ,trig_std  := as.numeric(scale(triglycerides))]\n",
    "data[ ,bmi_std  := as.numeric(scale(bmi))]\n",
    "#data[ ,town_std:= as.numeric(scale(townsend))]\n",
    "#data[ ,sbp_std:= as.numeric(scale(sbp))]\n",
    "#data[ ,dbp_std:= as.numeric(scale(dbp))]"
   ]
  },
  {
   "cell_type": "code",
   "execution_count": 19,
   "metadata": {},
   "outputs": [],
   "source": [
    "data <- na.omit(data, cols = c(\"prs_hdl\", \"prs_ldl\",\n",
    "                                \"hdl_std\", \"chd\", \"ldl_std\", \"trig_std\",\n",
    "                                \"bmi_std\",\n",
    "                                \"age\",\n",
    "                                \"sex\",\n",
    "                                \"alcohol\",\n",
    "                                \"smoking\",\n",
    "                                \"assessment_centre\",\n",
    "                                \"genotype_batch\",\n",
    "                                \"PC1\", \"PC2\", \"PC3\", \"PC4\", \"PC5\", \"PC6\",\n",
    "                                \"PC7\", \"PC8\", \"PC9\", \"PC10\", \"PC11\",\n",
    "                                \"PC12\", \"PC13\", \"PC14\", \"PC15\", \"PC16\", \"PC17\",\n",
    "                                \"PC18\", \"PC19\", \"PC20\"))"
   ]
  },
  {
   "cell_type": "code",
   "execution_count": 7,
   "metadata": {
    "collapsed": true
   },
   "outputs": [],
   "source": [
    "X_no_ldl_tri <- model.matrix(~age + I(age^2) + sex +\n",
    "                         #ldl_std + trig_std +\n",
    "                         #alcohol + smoking +\n",
    "                         assessment_centre + genotype_batch +\n",
    "                         PC1 + PC2 + PC3 +  PC4 + PC5 + PC6 +\n",
    "                         PC7 + PC8 + PC9 + PC10 + PC11 +\n",
    "                         PC12 + PC13 + PC14 + PC15 + PC16 + PC17 +\n",
    "                         PC18 + PC19 + PC20, data= data)"
   ]
  },
  {
   "cell_type": "code",
   "execution_count": 8,
   "metadata": {},
   "outputs": [
    {
     "name": "stderr",
     "output_type": "stream",
     "text": [
      "Warning message in ivmodel(Y = data$chd, D = data$hdl_std, Z = data$prs_std_hdl, :\n",
      "“Trying to add the intercept term of ones, \n",
      "                    but X already contains a constant covariate! Check your X. For now,\n",
      "                    we'll not add an intercept term in X to avoid rank deficiency.”\n"
     ]
    }
   ],
   "source": [
    "ivmodel.chd.no_ldl_tri <- ivmodel(Y = data$chd, D = data$hdl_std, Z = data$prs_std_hdl, X = X_no_ldl_tri)"
   ]
  },
  {
   "cell_type": "code",
   "execution_count": 9,
   "metadata": {},
   "outputs": [
    {
     "data": {
      "text/plain": [
       "\n",
       "Call:\n",
       "ivmodel(Y = data$chd, D = data$hdl_std, Z = data$prs_std_hdl, \n",
       "    X = X_no_ldl_tri)\n",
       "sample size: 252854\n",
       "_ _ _ _ _ _ _ _ _ _ _ _ _ _ _ _ _ _ _ _ _ _ _ _ _ _ _ _ _ _ \n",
       "\n",
       "First Stage Regression Result:\n",
       "\n",
       "F=20822, df1=1, df2=252704, p-value is <0.0000000000000002\n",
       "R-squared=0.07613,   Adjusted R-squared=0.07612\n",
       "Residual standard error: 0.8689 on 252705 degrees of freedom\n",
       "_ _ _ _ _ _ _ _ _ _ _ _ _ _ _ _ _ _ _ _ _ _ _ _ _ _ _ _ _ _ \n",
       "\n",
       "Coefficients of k-Class Estimators:\n",
       "\n",
       "               k  Estimate Std. Error t value             Pr(>|t|)    \n",
       "OLS     0.000000 -0.021002   0.000437   -48.0 < 0.0000000000000002 ***\n",
       "Fuller  0.999996 -0.012835   0.001585    -8.1  0.00000000000000044 ***\n",
       "LIML    1.000000 -0.012834   0.001585    -8.1  0.00000000000000044 ***\n",
       "TSLS    1.000000 -0.012834   0.001585    -8.1  0.00000000000000044 ***\n",
       "---\n",
       "Signif. codes:  0 ‘***’ 0.001 ‘**’ 0.01 ‘*’ 0.05 ‘.’ 0.1 ‘ ’ 1\n",
       "_ _ _ _ _ _ _ _ _ _ _ _ _ _ _ _ _ _ _ _ _ _ _ _ _ _ _ _ _ _ \n",
       "\n",
       "Alternative tests for the treatment effect under H_0: beta=0.\n",
       "\n",
       "Anderson-Rubin test (under F distribution):\n",
       "F=65.05, df1=1, df2=252704, p-value is 0.00000000000000067\n",
       "95 percent confidence interval:\n",
       " [-0.0159402574867016, -0.00972494430135234]\n",
       "\n",
       "Conditional Likelihood Ratio test (under Normal approximation):\n",
       "Test Stat=65.05, p-value is 0.00000000000000067\n",
       "95 percent confidence interval:\n",
       " [-0.0159402469596336, -0.00972495485054601]"
      ]
     },
     "metadata": {},
     "output_type": "display_data"
    },
    {
     "data": {
      "text/html": [
       "<table class=\"dataframe\">\n",
       "<caption>A matrix: 6 × 2 of type dbl</caption>\n",
       "<thead>\n",
       "\t<tr><th></th><th scope=col>2.5%</th><th scope=col>97.5%</th></tr>\n",
       "</thead>\n",
       "<tbody>\n",
       "\t<tr><th scope=row>OLS</th><td>-0.02186</td><td>-0.020145</td></tr>\n",
       "\t<tr><th scope=row>Fuller</th><td>-0.01594</td><td>-0.009727</td></tr>\n",
       "\t<tr><th scope=row>LIML</th><td>-0.01594</td><td>-0.009727</td></tr>\n",
       "\t<tr><th scope=row>TSLS</th><td>-0.01594</td><td>-0.009727</td></tr>\n",
       "\t<tr><th scope=row>AR</th><td>-0.01594</td><td>-0.009725</td></tr>\n",
       "\t<tr><th scope=row>CLR</th><td>-0.01594</td><td>-0.009725</td></tr>\n",
       "</tbody>\n",
       "</table>\n"
      ],
      "text/latex": [
       "A matrix: 6 × 2 of type dbl\n",
       "\\begin{tabular}{r|ll}\n",
       "  & 2.5\\% & 97.5\\%\\\\\n",
       "\\hline\n",
       "\tOLS & -0.02186 & -0.020145\\\\\n",
       "\tFuller & -0.01594 & -0.009727\\\\\n",
       "\tLIML & -0.01594 & -0.009727\\\\\n",
       "\tTSLS & -0.01594 & -0.009727\\\\\n",
       "\tAR & -0.01594 & -0.009725\\\\\n",
       "\tCLR & -0.01594 & -0.009725\\\\\n",
       "\\end{tabular}\n"
      ],
      "text/markdown": [
       "\n",
       "A matrix: 6 × 2 of type dbl\n",
       "\n",
       "| <!--/--> | 2.5% | 97.5% |\n",
       "|---|---|---|\n",
       "| OLS | -0.02186 | -0.020145 |\n",
       "| Fuller | -0.01594 | -0.009727 |\n",
       "| LIML | -0.01594 | -0.009727 |\n",
       "| TSLS | -0.01594 | -0.009727 |\n",
       "| AR | -0.01594 | -0.009725 |\n",
       "| CLR | -0.01594 | -0.009725 |\n",
       "\n"
      ],
      "text/plain": [
       "       2.5%     97.5%    \n",
       "OLS    -0.02186 -0.020145\n",
       "Fuller -0.01594 -0.009727\n",
       "LIML   -0.01594 -0.009727\n",
       "TSLS   -0.01594 -0.009727\n",
       "AR     -0.01594 -0.009725\n",
       "CLR    -0.01594 -0.009725"
      ]
     },
     "metadata": {},
     "output_type": "display_data"
    }
   ],
   "source": [
    "summary(ivmodel.chd.no_ldl_tri)\n",
    "confint(ivmodel.chd.no_ldl_tri)"
   ]
  },
  {
   "cell_type": "code",
   "execution_count": 11,
   "metadata": {
    "collapsed": true
   },
   "outputs": [],
   "source": [
    "X_ldl_tri <- model.matrix(~age + I(age^2) + sex +\n",
    "                         ldl_std + trig_std +\n",
    "                         #alcohol + smoking +\n",
    "                         assessment_centre + genotype_batch +\n",
    "                         PC1 + PC2 + PC3 +  PC4 + PC5 + PC6 +\n",
    "                         PC7 + PC8 + PC9 + PC10 + PC11 +\n",
    "                         PC12 + PC13 + PC14 + PC15 + PC16 + PC17 +\n",
    "                         PC18 + PC19 + PC20, data= data)"
   ]
  },
  {
   "cell_type": "code",
   "execution_count": 12,
   "metadata": {},
   "outputs": [
    {
     "name": "stderr",
     "output_type": "stream",
     "text": [
      "Warning message in ivmodel(Y = data$chd, D = data$hdl_std, Z = data$prs_std_hdl, :\n",
      "“Trying to add the intercept term of ones, \n",
      "                    but X already contains a constant covariate! Check your X. For now,\n",
      "                    we'll not add an intercept term in X to avoid rank deficiency.”\n"
     ]
    }
   ],
   "source": [
    "ivmodel.chd.ldl_tri <- ivmodel(Y = data$chd, D = data$hdl_std, Z = data$prs_std_hdl, X = X_ldl_tri)"
   ]
  },
  {
   "cell_type": "code",
   "execution_count": 13,
   "metadata": {},
   "outputs": [
    {
     "data": {
      "text/plain": [
       "\n",
       "Call:\n",
       "ivmodel(Y = data$chd, D = data$hdl_std, Z = data$prs_std_hdl, \n",
       "    X = X_ldl_tri)\n",
       "sample size: 252854\n",
       "_ _ _ _ _ _ _ _ _ _ _ _ _ _ _ _ _ _ _ _ _ _ _ _ _ _ _ _ _ _ \n",
       "\n",
       "First Stage Regression Result:\n",
       "\n",
       "F=18387, df1=1, df2=252702, p-value is <0.0000000000000002\n",
       "R-squared=0.06783,   Adjusted R-squared=0.06782\n",
       "Residual standard error: 0.7861 on 252703 degrees of freedom\n",
       "_ _ _ _ _ _ _ _ _ _ _ _ _ _ _ _ _ _ _ _ _ _ _ _ _ _ _ _ _ _ \n",
       "\n",
       "Coefficients of k-Class Estimators:\n",
       "\n",
       "               k  Estimate Std. Error t value             Pr(>|t|)    \n",
       "OLS     0.000000 -0.015863   0.000476  -33.29 < 0.0000000000000002 ***\n",
       "Fuller  0.999996 -0.011946   0.001830   -6.53       0.000000000067 ***\n",
       "LIML    1.000000 -0.011945   0.001830   -6.53       0.000000000067 ***\n",
       "TSLS    1.000000 -0.011945   0.001830   -6.53       0.000000000067 ***\n",
       "---\n",
       "Signif. codes:  0 ‘***’ 0.001 ‘**’ 0.01 ‘*’ 0.05 ‘.’ 0.1 ‘ ’ 1\n",
       "_ _ _ _ _ _ _ _ _ _ _ _ _ _ _ _ _ _ _ _ _ _ _ _ _ _ _ _ _ _ \n",
       "\n",
       "Alternative tests for the treatment effect under H_0: beta=0.\n",
       "\n",
       "Anderson-Rubin test (under F distribution):\n",
       "F=42.45, df1=1, df2=252702, p-value is 0.000000000073\n",
       "95 percent confidence interval:\n",
       " [-0.0155313161965653, -0.00835767734884268]\n",
       "\n",
       "Conditional Likelihood Ratio test (under Normal approximation):\n",
       "Test Stat=42.45, p-value is 0.000000000073\n",
       "95 percent confidence interval:\n",
       " [-0.0155313163113825, -0.00835767723391331]"
      ]
     },
     "metadata": {},
     "output_type": "display_data"
    },
    {
     "data": {
      "text/html": [
       "<table class=\"dataframe\">\n",
       "<caption>A matrix: 6 × 2 of type dbl</caption>\n",
       "<thead>\n",
       "\t<tr><th></th><th scope=col>2.5%</th><th scope=col>97.5%</th></tr>\n",
       "</thead>\n",
       "<tbody>\n",
       "\t<tr><th scope=row>OLS</th><td>-0.01680</td><td>-0.014929</td></tr>\n",
       "\t<tr><th scope=row>Fuller</th><td>-0.01553</td><td>-0.008359</td></tr>\n",
       "\t<tr><th scope=row>LIML</th><td>-0.01553</td><td>-0.008359</td></tr>\n",
       "\t<tr><th scope=row>TSLS</th><td>-0.01553</td><td>-0.008359</td></tr>\n",
       "\t<tr><th scope=row>AR</th><td>-0.01553</td><td>-0.008358</td></tr>\n",
       "\t<tr><th scope=row>CLR</th><td>-0.01553</td><td>-0.008358</td></tr>\n",
       "</tbody>\n",
       "</table>\n"
      ],
      "text/latex": [
       "A matrix: 6 × 2 of type dbl\n",
       "\\begin{tabular}{r|ll}\n",
       "  & 2.5\\% & 97.5\\%\\\\\n",
       "\\hline\n",
       "\tOLS & -0.01680 & -0.014929\\\\\n",
       "\tFuller & -0.01553 & -0.008359\\\\\n",
       "\tLIML & -0.01553 & -0.008359\\\\\n",
       "\tTSLS & -0.01553 & -0.008359\\\\\n",
       "\tAR & -0.01553 & -0.008358\\\\\n",
       "\tCLR & -0.01553 & -0.008358\\\\\n",
       "\\end{tabular}\n"
      ],
      "text/markdown": [
       "\n",
       "A matrix: 6 × 2 of type dbl\n",
       "\n",
       "| <!--/--> | 2.5% | 97.5% |\n",
       "|---|---|---|\n",
       "| OLS | -0.01680 | -0.014929 |\n",
       "| Fuller | -0.01553 | -0.008359 |\n",
       "| LIML | -0.01553 | -0.008359 |\n",
       "| TSLS | -0.01553 | -0.008359 |\n",
       "| AR | -0.01553 | -0.008358 |\n",
       "| CLR | -0.01553 | -0.008358 |\n",
       "\n"
      ],
      "text/plain": [
       "       2.5%     97.5%    \n",
       "OLS    -0.01680 -0.014929\n",
       "Fuller -0.01553 -0.008359\n",
       "LIML   -0.01553 -0.008359\n",
       "TSLS   -0.01553 -0.008359\n",
       "AR     -0.01553 -0.008358\n",
       "CLR    -0.01553 -0.008358"
      ]
     },
     "metadata": {},
     "output_type": "display_data"
    }
   ],
   "source": [
    "summary(ivmodel.chd.ldl_tri)\n",
    "confint(ivmodel.chd.ldl_tri)"
   ]
  },
  {
   "cell_type": "code",
   "execution_count": 11,
   "metadata": {
    "collapsed": true
   },
   "outputs": [],
   "source": [
    "# First Stage\n",
    "first.stage <- lm(hdl_std ~ prs_std_hdl + age + I(age^2) + sex +\n",
    "                         ldl_std + trig_std +\n",
    "                         alcohol + smoking  +\n",
    "                         assessment_centre + genotype_batch +\n",
    "                         PC1 + PC2 + PC3 +  PC4 + PC5 + PC6 +\n",
    "                         PC7 + PC8 + PC9 + PC10 + PC11 +\n",
    "                         PC12 + PC13 + PC14 + PC15 + PC16 + PC17 +\n",
    "                         PC18 + PC19 + PC20,\n",
    "                         data = data)"
   ]
  },
  {
   "cell_type": "code",
   "execution_count": 12,
   "metadata": {},
   "outputs": [],
   "source": [
    "# variable groups\n",
    "assessment_centre <- grep(names(coef(first.stage)), pattern = \"assessment_centre\", value = T)\n",
    "batch_effects     <- grep(names(coef(first.stage)), pattern = \"genotype_batch\", value = T)\n",
    "PCs               <- grep(names(coef(first.stage)), pattern = \"PC\", value = T)\n",
    "smoking           <- grep(\"smoking\",names(coef(first.stage)), value = T)\n",
    "alcohol           <- grep(\"alcohol\",names(coef(first.stage)), value = T)\n",
    "age               <- grep(\"age\",names(coef(first.stage)), value = T)\n",
    "sex               <- grep(\"sex\",names(coef(first.stage)), value = T)\n",
    "ldl               <- grep(\"ldl_std\",names(coef(first.stage)), value = T)\n",
    "trig               <- grep(\"trig_std\",names(coef(first.stage)), value = T)\n",
    "all               <- c(assessment_centre, batch_effects, PCs, smoking, alcohol, age, sex, ldl, trig)"
   ]
  },
  {
   "cell_type": "code",
   "execution_count": 16,
   "metadata": {
    "collapsed": true
   },
   "outputs": [],
   "source": [
    "# we can use for checking partial association of PRS with other variables\n",
    "instrument.model <- lm(prs_std_hdl ~  age + I(age^2) + sex +\n",
    "                         ldl_std + trig_std +\n",
    "                         alcohol + smoking  +\n",
    "                         assessment_centre + genotype_batch +\n",
    "                         PC1 + PC2 + PC3 +  PC4 + PC5 + PC6 +\n",
    "                         PC7 + PC8 + PC9 + PC10 + PC11 +\n",
    "                         PC12 + PC13 + PC14 + PC15 + PC16 + PC17 +\n",
    "                         PC18 + PC19 + PC20,\n",
    "                         data = data)"
   ]
  },
  {
   "cell_type": "code",
   "execution_count": 17,
   "metadata": {},
   "outputs": [
    {
     "data": {
      "text/html": [
       "<table class=\"dataframe\">\n",
       "<caption>A data.frame: 1 × 9</caption>\n",
       "<thead>\n",
       "\t<tr><th scope=col>treatment</th><th scope=col>estimate</th><th scope=col>se</th><th scope=col>t_statistic</th><th scope=col>r2yd.x</th><th scope=col>rv_q</th><th scope=col>rv_qa</th><th scope=col>f2yd.x</th><th scope=col>dof</th></tr>\n",
       "\t<tr><th scope=col>&lt;chr&gt;</th><th scope=col>&lt;dbl&gt;</th><th scope=col>&lt;dbl&gt;</th><th scope=col>&lt;dbl&gt;</th><th scope=col>&lt;dbl&gt;</th><th scope=col>&lt;numeric&gt;</th><th scope=col>&lt;numeric&gt;</th><th scope=col>&lt;dbl&gt;</th><th scope=col>&lt;int&gt;</th></tr>\n",
       "</thead>\n",
       "<tbody>\n",
       "\t<tr><td>prs_std_hdl</td><td>0.2139</td><td>0.001499</td><td>142.7</td><td>0.07457</td><td>0.2464</td><td>0.2435</td><td>0.08057</td><td>252695</td></tr>\n",
       "</tbody>\n",
       "</table>\n"
      ],
      "text/latex": [
       "A data.frame: 1 × 9\n",
       "\\begin{tabular}{lllllllll}\n",
       " treatment & estimate & se & t\\_statistic & r2yd.x & rv\\_q & rv\\_qa & f2yd.x & dof\\\\\n",
       " <chr> & <dbl> & <dbl> & <dbl> & <dbl> & <numeric> & <numeric> & <dbl> & <int>\\\\\n",
       "\\hline\n",
       "\t prs\\_std\\_hdl & 0.2139 & 0.001499 & 142.7 & 0.07457 & 0.2464 & 0.2435 & 0.08057 & 252695\\\\\n",
       "\\end{tabular}\n"
      ],
      "text/markdown": [
       "\n",
       "A data.frame: 1 × 9\n",
       "\n",
       "| treatment &lt;chr&gt; | estimate &lt;dbl&gt; | se &lt;dbl&gt; | t_statistic &lt;dbl&gt; | r2yd.x &lt;dbl&gt; | rv_q &lt;numeric&gt; | rv_qa &lt;numeric&gt; | f2yd.x &lt;dbl&gt; | dof &lt;int&gt; |\n",
       "|---|---|---|---|---|---|---|---|---|\n",
       "| prs_std_hdl | 0.2139 | 0.001499 | 142.7 | 0.07457 | 0.2464 | 0.2435 | 0.08057 | 252695 |\n",
       "\n"
      ],
      "text/plain": [
       "  treatment   estimate se       t_statistic r2yd.x  rv_q   rv_qa  f2yd.x \n",
       "1 prs_std_hdl 0.2139   0.001499 142.7       0.07457 0.2464 0.2435 0.08057\n",
       "  dof   \n",
       "1 252695"
      ]
     },
     "metadata": {},
     "output_type": "display_data"
    }
   ],
   "source": [
    "sensitivity_stats(model = first.stage,  treatment = \"prs_std_hdl\")"
   ]
  },
  {
   "cell_type": "code",
   "execution_count": 18,
   "metadata": {},
   "outputs": [
    {
     "data": {
      "text/html": [
       "0.402113014891263"
      ],
      "text/latex": [
       "0.402113014891263"
      ],
      "text/markdown": [
       "0.402113014891263"
      ],
      "text/plain": [
       "[1] 0.4021"
      ]
     },
     "metadata": {},
     "output_type": "display_data"
    }
   ],
   "source": [
    "group_partial_r2(model = first.stage, covariates = all)"
   ]
  },
  {
   "cell_type": "code",
   "execution_count": 19,
   "metadata": {},
   "outputs": [
    {
     "data": {
      "text/html": [
       "0.0118098190892934"
      ],
      "text/latex": [
       "0.0118098190892934"
      ],
      "text/markdown": [
       "0.0118098190892934"
      ],
      "text/plain": [
       "[1] 0.01181"
      ]
     },
     "metadata": {},
     "output_type": "display_data"
    },
    {
     "data": {
      "text/html": [
       "0.0118098190892935"
      ],
      "text/latex": [
       "0.0118098190892935"
      ],
      "text/markdown": [
       "0.0118098190892935"
      ],
      "text/plain": [
       "[1] 0.01181"
      ]
     },
     "metadata": {},
     "output_type": "display_data"
    }
   ],
   "source": [
    "summary(instrument.model)$r.\n",
    "group_partial_r2(model = instrument.model, covariates = all)"
   ]
  },
  {
   "cell_type": "code",
   "execution_count": 20,
   "metadata": {},
   "outputs": [
    {
     "data": {
      "text/plain": [
       "\n",
       "Call:\n",
       "lm(formula = hdl_std ~ prs_std_hdl + age + I(age^2) + sex + ldl_std + \n",
       "    trig_std + alcohol + smoking + assessment_centre + genotype_batch + \n",
       "    PC1 + PC2 + PC3 + PC4 + PC5 + PC6 + PC7 + PC8 + PC9 + PC10 + \n",
       "    PC11 + PC12 + PC13 + PC14 + PC15 + PC16 + PC17 + PC18 + PC19 + \n",
       "    PC20, data = data)\n",
       "\n",
       "Residuals:\n",
       "   Min     1Q Median     3Q    Max \n",
       "-2.939 -0.504 -0.075  0.414  6.969 \n",
       "\n",
       "Coefficients:\n",
       "                                    Estimate Std. Error t value\n",
       "(Intercept)                       -0.9420207  0.0771825  -12.21\n",
       "prs_std_hdl                        0.2139340  0.0014993  142.69\n",
       "age                                0.0573956  0.0027319   21.01\n",
       "I(age^2)                          -0.0004552  0.0000246  -18.49\n",
       "sexMale                           -0.7357156  0.0031536 -233.29\n",
       "ldl_std                            0.1412382  0.0015551   90.82\n",
       "trig_std                          -0.3659512  0.0015961 -229.27\n",
       "alcoholNever                      -0.6789812  0.0067651 -100.37\n",
       "alcoholOnce or twice a week       -0.4542500  0.0043973 -103.30\n",
       "alcoholOne to three times a month -0.6222919  0.0055887 -111.35\n",
       "alcoholPrefer not to answer       -0.2033292  0.0550191   -3.70\n",
       "alcoholSpecial occasions only     -0.7030526  0.0057270 -122.76\n",
       "alcoholThree or four times a week -0.2325073  0.0044332  -52.45\n",
       "smoking                           -0.0336696  0.0021660  -15.54\n",
       "assessment_centreBirmingham       -0.0649574  0.0124832   -5.20\n",
       "assessment_centreBristol          -0.0638039  0.0116272   -5.49\n",
       "assessment_centreBury             -0.1577151  0.0123587  -12.76\n",
       "assessment_centreCardiff          -0.1663064  0.0132855  -12.52\n",
       "assessment_centreCroydon          -0.0002765  0.0123783   -0.02\n",
       "assessment_centreEdinburgh        -0.0755451  0.0133674   -5.65\n",
       "assessment_centreGlasgow          -0.1065882  0.0134408   -7.93\n",
       "assessment_centreHounslow         -0.0179970  0.0124271   -1.45\n",
       "assessment_centreLeeds            -0.1278728  0.0117461  -10.89\n",
       "assessment_centreLiverpool        -0.1200485  0.0122308   -9.82\n",
       "assessment_centreManchester       -0.1302329  0.0138313   -9.42\n",
       "assessment_centreMiddlesborough   -0.0734997  0.0129518   -5.67\n",
       "assessment_centreNewcastle        -0.1167483  0.0121354   -9.62\n",
       "assessment_centreNottingham       -0.1156385  0.0119618   -9.67\n",
       "assessment_centreOxford           -0.1094218  0.0134660   -8.13\n",
       "assessment_centreReading          -0.0931433  0.0119471   -7.80\n",
       "assessment_centreSheffield        -0.0410828  0.0121931   -3.37\n",
       "assessment_centreStoke            -0.1476550  0.0131773  -11.21\n",
       "assessment_centreSwansea          -0.0642161  0.0233249   -2.75\n",
       "assessment_centreWrexham          -0.0650662  0.0406915   -1.60\n",
       "genotype_batchBatch_b002          -0.0195496  0.0215302   -0.91\n",
       "genotype_batchBatch_b003           0.0018618  0.0215731    0.09\n",
       "genotype_batchBatch_b004           0.0257961  0.0214683    1.20\n",
       "genotype_batchBatch_b005           0.0002550  0.0214556    0.01\n",
       "genotype_batchBatch_b006           0.0169579  0.0213734    0.79\n",
       "genotype_batchBatch_b007          -0.0140122  0.0214804   -0.65\n",
       "genotype_batchBatch_b008           0.0290572  0.0213681    1.36\n",
       "genotype_batchBatch_b009           0.0077985  0.0213809    0.36\n",
       "genotype_batchBatch_b010           0.0315386  0.0215648    1.46\n",
       "genotype_batchBatch_b011          -0.0030109  0.0213562   -0.14\n",
       "genotype_batchBatch_b012          -0.0028092  0.0214316   -0.13\n",
       "genotype_batchBatch_b013           0.0150194  0.0214427    0.70\n",
       "genotype_batchBatch_b014           0.0052245  0.0213524    0.24\n",
       "genotype_batchBatch_b015           0.0146090  0.0214187    0.68\n",
       "genotype_batchBatch_b016          -0.0056227  0.0215687   -0.26\n",
       "genotype_batchBatch_b017          -0.0116645  0.0216022   -0.54\n",
       "genotype_batchBatch_b018          -0.0096780  0.0214868   -0.45\n",
       "genotype_batchBatch_b019           0.0050906  0.0215648    0.24\n",
       "genotype_batchBatch_b020           0.0124663  0.0216583    0.58\n",
       "genotype_batchBatch_b021           0.0112022  0.0215718    0.52\n",
       "genotype_batchBatch_b022           0.0063046  0.0215114    0.29\n",
       "genotype_batchBatch_b023           0.0027029  0.0214517    0.13\n",
       "genotype_batchBatch_b024           0.0186520  0.0215138    0.87\n",
       "genotype_batchBatch_b025           0.0048743  0.0216344    0.23\n",
       "genotype_batchBatch_b026          -0.0087288  0.0214206   -0.41\n",
       "genotype_batchBatch_b027          -0.0105647  0.0217493   -0.49\n",
       "genotype_batchBatch_b028          -0.0008723  0.0213296   -0.04\n",
       "genotype_batchBatch_b029          -0.0014248  0.0215808   -0.07\n",
       "genotype_batchBatch_b030           0.0105766  0.0214591    0.49\n",
       "genotype_batchBatch_b031           0.0265339  0.0213981    1.24\n",
       "genotype_batchBatch_b032          -0.0245628  0.0213732   -1.15\n",
       "genotype_batchBatch_b033           0.0014955  0.0216123    0.07\n",
       "genotype_batchBatch_b034           0.0040451  0.0216036    0.19\n",
       "genotype_batchBatch_b035           0.0065471  0.0215507    0.30\n",
       "genotype_batchBatch_b036           0.0174678  0.0215292    0.81\n",
       "genotype_batchBatch_b037           0.0120438  0.0215559    0.56\n",
       "genotype_batchBatch_b038           0.0035323  0.0215012    0.16\n",
       "genotype_batchBatch_b039           0.0198595  0.0216469    0.92\n",
       "genotype_batchBatch_b040           0.0228831  0.0215057    1.06\n",
       "genotype_batchBatch_b041          -0.0026552  0.0215413   -0.12\n",
       "genotype_batchBatch_b042          -0.0070635  0.0215712   -0.33\n",
       "genotype_batchBatch_b043           0.0376924  0.0214796    1.75\n",
       "genotype_batchBatch_b044           0.0290657  0.0214623    1.35\n",
       "genotype_batchBatch_b045          -0.0167166  0.0215086   -0.78\n",
       "genotype_batchBatch_b046           0.0285214  0.0214739    1.33\n",
       "genotype_batchBatch_b047           0.0245338  0.0217098    1.13\n",
       "genotype_batchBatch_b048          -0.0115750  0.0215637   -0.54\n",
       "genotype_batchBatch_b049           0.0023960  0.0216946    0.11\n",
       "genotype_batchBatch_b050           0.0053279  0.0215472    0.25\n",
       "genotype_batchBatch_b051           0.0326413  0.0214275    1.52\n",
       "genotype_batchBatch_b052           0.0030448  0.0217445    0.14\n",
       "genotype_batchBatch_b053          -0.0047075  0.0215938   -0.22\n",
       "genotype_batchBatch_b054           0.0256556  0.0214745    1.19\n",
       "genotype_batchBatch_b055           0.0118946  0.0216141    0.55\n",
       "genotype_batchBatch_b056          -0.0099563  0.0215327   -0.46\n",
       "genotype_batchBatch_b057           0.0061098  0.0217497    0.28\n",
       "genotype_batchBatch_b058          -0.0000154  0.0214171    0.00\n",
       "genotype_batchBatch_b059          -0.0167150  0.0215529   -0.78\n",
       "genotype_batchBatch_b060          -0.0086234  0.0215065   -0.40\n",
       "genotype_batchBatch_b061           0.0182315  0.0216310    0.84\n",
       "genotype_batchBatch_b062           0.0125452  0.0214116    0.59\n",
       "genotype_batchBatch_b063           0.0149368  0.0214999    0.69\n",
       "genotype_batchBatch_b064          -0.0184969  0.0215266   -0.86\n",
       "genotype_batchBatch_b065           0.0311305  0.0215967    1.44\n",
       "genotype_batchBatch_b066           0.0014157  0.0217825    0.06\n",
       "genotype_batchBatch_b067           0.0319363  0.0215020    1.49\n",
       "genotype_batchBatch_b068          -0.0178632  0.0215943   -0.83\n",
       "genotype_batchBatch_b069           0.0125142  0.0215834    0.58\n",
       "genotype_batchBatch_b070          -0.0029242  0.0214808   -0.14\n",
       "genotype_batchBatch_b071           0.0032719  0.0215495    0.15\n",
       "genotype_batchBatch_b072           0.0261203  0.0217387    1.20\n",
       "genotype_batchBatch_b073           0.0151158  0.0215324    0.70\n",
       "genotype_batchBatch_b074          -0.0124928  0.0215460   -0.58\n",
       "genotype_batchBatch_b075          -0.0218135  0.0216505   -1.01\n",
       "genotype_batchBatch_b076           0.0039382  0.0218125    0.18\n",
       "genotype_batchBatch_b077           0.0214909  0.0216014    0.99\n",
       "genotype_batchBatch_b078          -0.0008248  0.0214575   -0.04\n",
       "genotype_batchBatch_b079          -0.0023192  0.0216728   -0.11\n",
       "genotype_batchBatch_b080           0.0063276  0.0215495    0.29\n",
       "genotype_batchBatch_b081           0.0170718  0.0215898    0.79\n",
       "genotype_batchBatch_b082          -0.0016546  0.0214924   -0.08\n",
       "genotype_batchBatch_b083          -0.0056389  0.0216093   -0.26\n",
       "genotype_batchBatch_b084          -0.0011172  0.0218108   -0.05\n",
       "genotype_batchBatch_b085           0.0134925  0.0212739    0.63\n",
       "genotype_batchBatch_b086           0.0049954  0.0215617    0.23\n",
       "genotype_batchBatch_b087           0.0215770  0.0216083    1.00\n",
       "genotype_batchBatch_b088           0.0272241  0.0215419    1.26\n",
       "genotype_batchBatch_b089           0.0143900  0.0216857    0.66\n",
       "genotype_batchBatch_b090           0.0104044  0.0213761    0.49\n",
       "genotype_batchBatch_b091          -0.0085550  0.0217688   -0.39\n",
       "genotype_batchBatch_b092          -0.0029641  0.0216524   -0.14\n",
       "genotype_batchBatch_b093           0.0125889  0.0214690    0.59\n",
       "genotype_batchBatch_b094           0.0247200  0.0270767    0.91\n",
       "genotype_batchBatch_b095          -0.0057718  0.0228425   -0.25\n",
       "genotype_batchUKBiLEVEAX_b1       -0.0030621  0.0213053   -0.14\n",
       "genotype_batchUKBiLEVEAX_b10       0.0039830  0.0213125    0.19\n",
       "genotype_batchUKBiLEVEAX_b11      -0.0334057  0.0212650   -1.57\n",
       "genotype_batchUKBiLEVEAX_b2       -0.0360084  0.0213161   -1.69\n",
       "genotype_batchUKBiLEVEAX_b3       -0.0201069  0.0213623   -0.94\n",
       "genotype_batchUKBiLEVEAX_b4       -0.0223466  0.0213598   -1.05\n",
       "genotype_batchUKBiLEVEAX_b5       -0.0094797  0.0212042   -0.45\n",
       "genotype_batchUKBiLEVEAX_b6       -0.0211535  0.0212782   -0.99\n",
       "genotype_batchUKBiLEVEAX_b7       -0.0340259  0.0213616   -1.59\n",
       "genotype_batchUKBiLEVEAX_b8       -0.0303976  0.0211779   -1.44\n",
       "genotype_batchUKBiLEVEAX_b9        0.0002167  0.0212994    0.01\n",
       "PC1                                0.0004059  0.0004785    0.85\n",
       "PC2                               -0.0002582  0.0005437   -0.47\n",
       "PC3                               -0.0001350  0.0007260   -0.19\n",
       "PC4                               -0.0012360  0.0003580   -3.45\n",
       "PC5                               -0.0004207  0.0002610   -1.61\n",
       "PC6                               -0.0001252  0.0008064   -0.16\n",
       "PC7                               -0.0005834  0.0005250   -1.11\n",
       "PC8                                0.0011764  0.0005975    1.97\n",
       "PC9                               -0.0004440  0.0003732   -1.19\n",
       "PC10                              -0.0005267  0.0007585   -0.69\n",
       "PC11                               0.0023636  0.0006046    3.91\n",
       "PC12                               0.0008334  0.0007794    1.07\n",
       "PC13                              -0.0008305  0.0009087   -0.91\n",
       "PC14                               0.0007574  0.0005092    1.49\n",
       "PC15                              -0.0008942  0.0008434   -1.06\n",
       "PC16                               0.0004151  0.0005258    0.79\n",
       "PC17                               0.0001196  0.0007410    0.16\n",
       "PC18                               0.0002073  0.0005348    0.39\n",
       "PC19                              -0.0009513  0.0005126   -1.86\n",
       "PC20                               0.0000639  0.0005237    0.12\n",
       "                                              Pr(>|t|)    \n",
       "(Intercept)                       < 0.0000000000000002 ***\n",
       "prs_std_hdl                       < 0.0000000000000002 ***\n",
       "age                               < 0.0000000000000002 ***\n",
       "I(age^2)                          < 0.0000000000000002 ***\n",
       "sexMale                           < 0.0000000000000002 ***\n",
       "ldl_std                           < 0.0000000000000002 ***\n",
       "trig_std                          < 0.0000000000000002 ***\n",
       "alcoholNever                      < 0.0000000000000002 ***\n",
       "alcoholOnce or twice a week       < 0.0000000000000002 ***\n",
       "alcoholOne to three times a month < 0.0000000000000002 ***\n",
       "alcoholPrefer not to answer                    0.00022 ***\n",
       "alcoholSpecial occasions only     < 0.0000000000000002 ***\n",
       "alcoholThree or four times a week < 0.0000000000000002 ***\n",
       "smoking                           < 0.0000000000000002 ***\n",
       "assessment_centreBirmingham        0.00000019563010844 ***\n",
       "assessment_centreBristol           0.00000004080773143 ***\n",
       "assessment_centreBury             < 0.0000000000000002 ***\n",
       "assessment_centreCardiff          < 0.0000000000000002 ***\n",
       "assessment_centreCroydon                       0.98218    \n",
       "assessment_centreEdinburgh         0.00000001592771486 ***\n",
       "assessment_centreGlasgow           0.00000000000000220 ***\n",
       "assessment_centreHounslow                      0.14756    \n",
       "assessment_centreLeeds            < 0.0000000000000002 ***\n",
       "assessment_centreLiverpool        < 0.0000000000000002 ***\n",
       "assessment_centreManchester       < 0.0000000000000002 ***\n",
       "assessment_centreMiddlesborough    0.00000001389419319 ***\n",
       "assessment_centreNewcastle        < 0.0000000000000002 ***\n",
       "assessment_centreNottingham       < 0.0000000000000002 ***\n",
       "assessment_centreOxford            0.00000000000000045 ***\n",
       "assessment_centreReading           0.00000000000000640 ***\n",
       "assessment_centreSheffield                     0.00075 ***\n",
       "assessment_centreStoke            < 0.0000000000000002 ***\n",
       "assessment_centreSwansea                       0.00590 ** \n",
       "assessment_centreWrexham                       0.10982    \n",
       "genotype_batchBatch_b002                       0.36388    \n",
       "genotype_batchBatch_b003                       0.93123    \n",
       "genotype_batchBatch_b004                       0.22952    \n",
       "genotype_batchBatch_b005                       0.99052    \n",
       "genotype_batchBatch_b006                       0.42754    \n",
       "genotype_batchBatch_b007                       0.51419    \n",
       "genotype_batchBatch_b008                       0.17388    \n",
       "genotype_batchBatch_b009                       0.71530    \n",
       "genotype_batchBatch_b010                       0.14360    \n",
       "genotype_batchBatch_b011                       0.88788    \n",
       "genotype_batchBatch_b012                       0.89572    \n",
       "genotype_batchBatch_b013                       0.48365    \n",
       "genotype_batchBatch_b014                       0.80670    \n",
       "genotype_batchBatch_b015                       0.49520    \n",
       "genotype_batchBatch_b016                       0.79433    \n",
       "genotype_batchBatch_b017                       0.58922    \n",
       "genotype_batchBatch_b018                       0.65241    \n",
       "genotype_batchBatch_b019                       0.81339    \n",
       "genotype_batchBatch_b020                       0.56489    \n",
       "genotype_batchBatch_b021                       0.60355    \n",
       "genotype_batchBatch_b022                       0.76946    \n",
       "genotype_batchBatch_b023                       0.89973    \n",
       "genotype_batchBatch_b024                       0.38596    \n",
       "genotype_batchBatch_b025                       0.82175    \n",
       "genotype_batchBatch_b026                       0.68364    \n",
       "genotype_batchBatch_b027                       0.62714    \n",
       "genotype_batchBatch_b028                       0.96738    \n",
       "genotype_batchBatch_b029                       0.94736    \n",
       "genotype_batchBatch_b030                       0.62210    \n",
       "genotype_batchBatch_b031                       0.21497    \n",
       "genotype_batchBatch_b032                       0.25046    \n",
       "genotype_batchBatch_b033                       0.94483    \n",
       "genotype_batchBatch_b034                       0.85147    \n",
       "genotype_batchBatch_b035                       0.76128    \n",
       "genotype_batchBatch_b036                       0.41716    \n",
       "genotype_batchBatch_b037                       0.57635    \n",
       "genotype_batchBatch_b038                       0.86951    \n",
       "genotype_batchBatch_b039                       0.35892    \n",
       "genotype_batchBatch_b040                       0.28731    \n",
       "genotype_batchBatch_b041                       0.90190    \n",
       "genotype_batchBatch_b042                       0.74333    \n",
       "genotype_batchBatch_b043                       0.07929 .  \n",
       "genotype_batchBatch_b044                       0.17565    \n",
       "genotype_batchBatch_b045                       0.43704    \n",
       "genotype_batchBatch_b046                       0.18412    \n",
       "genotype_batchBatch_b047                       0.25844    \n",
       "genotype_batchBatch_b048                       0.59142    \n",
       "genotype_batchBatch_b049                       0.91206    \n",
       "genotype_batchBatch_b050                       0.80470    \n",
       "genotype_batchBatch_b051                       0.12768    \n",
       "genotype_batchBatch_b052                       0.88864    \n",
       "genotype_batchBatch_b053                       0.82743    \n",
       "genotype_batchBatch_b054                       0.23221    \n",
       "genotype_batchBatch_b055                       0.58210    \n",
       "genotype_batchBatch_b056                       0.64381    \n",
       "genotype_batchBatch_b057                       0.77878    \n",
       "genotype_batchBatch_b058                       0.99942    \n",
       "genotype_batchBatch_b059                       0.43803    \n",
       "genotype_batchBatch_b060                       0.68844    \n",
       "genotype_batchBatch_b061                       0.39932    \n",
       "genotype_batchBatch_b062                       0.55794    \n",
       "genotype_batchBatch_b063                       0.48722    \n",
       "genotype_batchBatch_b064                       0.39020    \n",
       "genotype_batchBatch_b065                       0.14946    \n",
       "genotype_batchBatch_b066                       0.94818    \n",
       "genotype_batchBatch_b067                       0.13747    \n",
       "genotype_batchBatch_b068                       0.40811    \n",
       "genotype_batchBatch_b069                       0.56204    \n",
       "genotype_batchBatch_b070                       0.89172    \n",
       "genotype_batchBatch_b071                       0.87932    \n",
       "genotype_batchBatch_b072                       0.22954    \n",
       "genotype_batchBatch_b073                       0.48268    \n",
       "genotype_batchBatch_b074                       0.56204    \n",
       "genotype_batchBatch_b075                       0.31368    \n",
       "genotype_batchBatch_b076                       0.85672    \n",
       "genotype_batchBatch_b077                       0.31979    \n",
       "genotype_batchBatch_b078                       0.96934    \n",
       "genotype_batchBatch_b079                       0.91478    \n",
       "genotype_batchBatch_b080                       0.76904    \n",
       "genotype_batchBatch_b081                       0.42910    \n",
       "genotype_batchBatch_b082                       0.93863    \n",
       "genotype_batchBatch_b083                       0.79413    \n",
       "genotype_batchBatch_b084                       0.95915    \n",
       "genotype_batchBatch_b085                       0.52593    \n",
       "genotype_batchBatch_b086                       0.81679    \n",
       "genotype_batchBatch_b087                       0.31801    \n",
       "genotype_batchBatch_b088                       0.20631    \n",
       "genotype_batchBatch_b089                       0.50697    \n",
       "genotype_batchBatch_b090                       0.62645    \n",
       "genotype_batchBatch_b091                       0.69433    \n",
       "genotype_batchBatch_b092                       0.89111    \n",
       "genotype_batchBatch_b093                       0.55762    \n",
       "genotype_batchBatch_b094                       0.36126    \n",
       "genotype_batchBatch_b095                       0.80052    \n",
       "genotype_batchUKBiLEVEAX_b1                    0.88572    \n",
       "genotype_batchUKBiLEVEAX_b10                   0.85175    \n",
       "genotype_batchUKBiLEVEAX_b11                   0.11620    \n",
       "genotype_batchUKBiLEVEAX_b2                    0.09117 .  \n",
       "genotype_batchUKBiLEVEAX_b3                    0.34659    \n",
       "genotype_batchUKBiLEVEAX_b4                    0.29547    \n",
       "genotype_batchUKBiLEVEAX_b5                    0.65483    \n",
       "genotype_batchUKBiLEVEAX_b6                    0.32016    \n",
       "genotype_batchUKBiLEVEAX_b7                    0.11119    \n",
       "genotype_batchUKBiLEVEAX_b8                    0.15119    \n",
       "genotype_batchUKBiLEVEAX_b9                    0.99188    \n",
       "PC1                                            0.39625    \n",
       "PC2                                            0.63487    \n",
       "PC3                                            0.85249    \n",
       "PC4                                            0.00056 ***\n",
       "PC5                                            0.10697    \n",
       "PC6                                            0.87663    \n",
       "PC7                                            0.26642    \n",
       "PC8                                            0.04896 *  \n",
       "PC9                                            0.23408    \n",
       "PC10                                           0.48743    \n",
       "PC11                               0.00009258627130680 ***\n",
       "PC12                                           0.28494    \n",
       "PC13                                           0.36074    \n",
       "PC14                                           0.13687    \n",
       "PC15                                           0.28906    \n",
       "PC16                                           0.42979    \n",
       "PC17                                           0.87175    \n",
       "PC18                                           0.69824    \n",
       "PC19                                           0.06350 .  \n",
       "PC20                                           0.90285    \n",
       "---\n",
       "Signif. codes:  0 ‘***’ 0.001 ‘**’ 0.01 ‘*’ 0.05 ‘.’ 0.1 ‘ ’ 1\n",
       "\n",
       "Residual standard error: 0.749 on 252695 degrees of freedom\n",
       "Multiple R-squared:  0.439,\tAdjusted R-squared:  0.439 \n",
       "F-statistic: 1.25e+03 on 158 and 252695 DF,  p-value: <0.0000000000000002\n"
      ]
     },
     "metadata": {},
     "output_type": "display_data"
    }
   ],
   "source": [
    "summary(first.stage)"
   ]
  },
  {
   "cell_type": "code",
   "execution_count": 21,
   "metadata": {},
   "outputs": [
    {
     "data": {
      "text/plain": [
       "\n",
       "Call:\n",
       "lm(formula = prs_std_hdl ~ age + I(age^2) + sex + ldl_std + trig_std + \n",
       "    alcohol + smoking + assessment_centre + genotype_batch + \n",
       "    PC1 + PC2 + PC3 + PC4 + PC5 + PC6 + PC7 + PC8 + PC9 + PC10 + \n",
       "    PC11 + PC12 + PC13 + PC14 + PC15 + PC16 + PC17 + PC18 + PC19 + \n",
       "    PC20, data = data)\n",
       "\n",
       "Residuals:\n",
       "   Min     1Q Median     3Q    Max \n",
       "-4.336 -0.668 -0.001  0.664  4.539 \n",
       "\n",
       "Coefficients:\n",
       "                                    Estimate Std. Error t value\n",
       "(Intercept)                       -0.4723990  0.1024036   -4.61\n",
       "age                                0.0120178  0.0036246    3.32\n",
       "I(age^2)                          -0.0000987  0.0000327   -3.02\n",
       "sexMale                            0.0496287  0.0041832   11.86\n",
       "ldl_std                            0.0129830  0.0020632    6.29\n",
       "trig_std                          -0.1072819  0.0021070  -50.92\n",
       "alcoholNever                       0.0113040  0.0089761    1.26\n",
       "alcoholOnce or twice a week       -0.0036642  0.0058345   -0.63\n",
       "alcoholOne to three times a month  0.0107478  0.0074151    1.45\n",
       "alcoholPrefer not to answer       -0.1773527  0.0730001   -2.43\n",
       "alcoholSpecial occasions only      0.0031147  0.0075987    0.41\n",
       "alcoholThree or four times a week  0.0015643  0.0058821    0.27\n",
       "smoking                            0.0100996  0.0028739    3.51\n",
       "assessment_centreBirmingham        0.0141145  0.0165630    0.85\n",
       "assessment_centreBristol           0.0079930  0.0154272    0.52\n",
       "assessment_centreBury              0.0347327  0.0163977    2.12\n",
       "assessment_centreCardiff           0.0220041  0.0176276    1.25\n",
       "assessment_centreCroydon           0.0007636  0.0164239    0.05\n",
       "assessment_centreEdinburgh         0.0189639  0.0177362    1.07\n",
       "assessment_centreGlasgow           0.0271401  0.0178335    1.52\n",
       "assessment_centreHounslow          0.0153650  0.0164886    0.93\n",
       "assessment_centreLeeds             0.0130404  0.0155851    0.84\n",
       "assessment_centreLiverpool         0.0208063  0.0162281    1.28\n",
       "assessment_centreManchester        0.0199065  0.0183517    1.08\n",
       "assessment_centreMiddlesborough    0.0160335  0.0171848    0.93\n",
       "assessment_centreNewcastle         0.0151247  0.0161016    0.94\n",
       "assessment_centreNottingham        0.0181698  0.0158712    1.14\n",
       "assessment_centreOxford            0.0416450  0.0178668    2.33\n",
       "assessment_centreReading           0.0140610  0.0158517    0.89\n",
       "assessment_centreSheffield        -0.0057078  0.0161781   -0.35\n",
       "assessment_centreStoke             0.0124962  0.0174840    0.71\n",
       "assessment_centreSwansea          -0.0018981  0.0309481   -0.06\n",
       "assessment_centreWrexham           0.0384398  0.0539905    0.71\n",
       "genotype_batchBatch_b002           0.0299146  0.0285668    1.05\n",
       "genotype_batchBatch_b003           0.0437126  0.0286236    1.53\n",
       "genotype_batchBatch_b004           0.0390043  0.0284847    1.37\n",
       "genotype_batchBatch_b005           0.0244319  0.0284678    0.86\n",
       "genotype_batchBatch_b006           0.0245757  0.0283588    0.87\n",
       "genotype_batchBatch_b007           0.0265423  0.0285007    0.93\n",
       "genotype_batchBatch_b008           0.0340919  0.0283517    1.20\n",
       "genotype_batchBatch_b009           0.0228420  0.0283687    0.81\n",
       "genotype_batchBatch_b010           0.0579407  0.0286125    2.03\n",
       "genotype_batchBatch_b011           0.0219826  0.0283360    0.78\n",
       "genotype_batchBatch_b012           0.0258210  0.0284360    0.91\n",
       "genotype_batchBatch_b013           0.0271610  0.0284507    0.95\n",
       "genotype_batchBatch_b014           0.0050250  0.0283309    0.18\n",
       "genotype_batchBatch_b015           0.0019986  0.0284189    0.07\n",
       "genotype_batchBatch_b016           0.0032975  0.0286180    0.12\n",
       "genotype_batchBatch_b017           0.0376956  0.0286624    1.32\n",
       "genotype_batchBatch_b018           0.0300196  0.0285092    1.05\n",
       "genotype_batchBatch_b019           0.0279291  0.0286127    0.98\n",
       "genotype_batchBatch_b020           0.0188557  0.0287368    0.66\n",
       "genotype_batchBatch_b021          -0.0089586  0.0286220   -0.31\n",
       "genotype_batchBatch_b022           0.0388281  0.0285418    1.36\n",
       "genotype_batchBatch_b023           0.0693130  0.0284624    2.44\n",
       "genotype_batchBatch_b024           0.0123749  0.0285451    0.43\n",
       "genotype_batchBatch_b025           0.0390703  0.0287051    1.36\n",
       "genotype_batchBatch_b026           0.0442934  0.0284213    1.56\n",
       "genotype_batchBatch_b027           0.0073630  0.0288575    0.26\n",
       "genotype_batchBatch_b028           0.0228962  0.0283007    0.81\n",
       "genotype_batchBatch_b029           0.0494083  0.0286338    1.73\n",
       "genotype_batchBatch_b030           0.0287506  0.0284724    1.01\n",
       "genotype_batchBatch_b031           0.0248929  0.0283916    0.88\n",
       "genotype_batchBatch_b032           0.0158025  0.0283585    0.56\n",
       "genotype_batchBatch_b033           0.0470538  0.0286757    1.64\n",
       "genotype_batchBatch_b034          -0.0021963  0.0286642   -0.08\n",
       "genotype_batchBatch_b035           0.0246507  0.0285940    0.86\n",
       "genotype_batchBatch_b036           0.0126922  0.0285656    0.44\n",
       "genotype_batchBatch_b037           0.0481401  0.0286008    1.68\n",
       "genotype_batchBatch_b038           0.0176204  0.0285284    0.62\n",
       "genotype_batchBatch_b039           0.0435797  0.0287215    1.52\n",
       "genotype_batchBatch_b040           0.0535680  0.0285341    1.88\n",
       "genotype_batchBatch_b041           0.0046731  0.0285816    0.16\n",
       "genotype_batchBatch_b042           0.0605816  0.0286211    2.12\n",
       "genotype_batchBatch_b043          -0.0119639  0.0284997   -0.42\n",
       "genotype_batchBatch_b044           0.0353976  0.0284767    1.24\n",
       "genotype_batchBatch_b045           0.0451217  0.0285381    1.58\n",
       "genotype_batchBatch_b046           0.0483000  0.0284920    1.70\n",
       "genotype_batchBatch_b047          -0.0345086  0.0288050   -1.20\n",
       "genotype_batchBatch_b048           0.0136247  0.0286113    0.48\n",
       "genotype_batchBatch_b049           0.0281914  0.0287849    0.98\n",
       "genotype_batchBatch_b050           0.0588625  0.0285892    2.06\n",
       "genotype_batchBatch_b051          -0.0005185  0.0284306   -0.02\n",
       "genotype_batchBatch_b052           0.0338296  0.0288512    1.17\n",
       "genotype_batchBatch_b053           0.0149563  0.0286513    0.52\n",
       "genotype_batchBatch_b054           0.0371470  0.0284928    1.30\n",
       "genotype_batchBatch_b055           0.0349476  0.0286781    1.22\n",
       "genotype_batchBatch_b056           0.0438406  0.0285701    1.53\n",
       "genotype_batchBatch_b057           0.0659702  0.0288579    2.29\n",
       "genotype_batchBatch_b058           0.0551633  0.0284166    1.94\n",
       "genotype_batchBatch_b059           0.0120386  0.0285970    0.42\n",
       "genotype_batchBatch_b060           0.0025893  0.0285354    0.09\n",
       "genotype_batchBatch_b061           0.0162886  0.0287006    0.57\n",
       "genotype_batchBatch_b062           0.0645600  0.0284092    2.27\n",
       "genotype_batchBatch_b063          -0.0003642  0.0285267   -0.01\n",
       "genotype_batchBatch_b064           0.0043565  0.0285620    0.15\n",
       "genotype_batchBatch_b065           0.0232453  0.0286550    0.81\n",
       "genotype_batchBatch_b066           0.0108599  0.0289016    0.38\n",
       "genotype_batchBatch_b067           0.0410387  0.0285293    1.44\n",
       "genotype_batchBatch_b068           0.0315966  0.0286518    1.10\n",
       "genotype_batchBatch_b069           0.0579278  0.0286373    2.02\n",
       "genotype_batchBatch_b070           0.0460742  0.0285012    1.62\n",
       "genotype_batchBatch_b071           0.0478453  0.0285923    1.67\n",
       "genotype_batchBatch_b072           0.0084733  0.0288436    0.29\n",
       "genotype_batchBatch_b073           0.0451754  0.0285696    1.58\n",
       "genotype_batchBatch_b074           0.0261308  0.0285878    0.91\n",
       "genotype_batchBatch_b075           0.0583594  0.0287263    2.03\n",
       "genotype_batchBatch_b076           0.0358954  0.0289414    1.24\n",
       "genotype_batchBatch_b077           0.0128766  0.0286614    0.45\n",
       "genotype_batchBatch_b078           0.0461902  0.0284703    1.62\n",
       "genotype_batchBatch_b079           0.0167927  0.0287561    0.58\n",
       "genotype_batchBatch_b080           0.0079541  0.0285925    0.28\n",
       "genotype_batchBatch_b081           0.0255535  0.0286459    0.89\n",
       "genotype_batchBatch_b082           0.0735108  0.0285163    2.58\n",
       "genotype_batchBatch_b083           0.0392624  0.0286716    1.37\n",
       "genotype_batchBatch_b084           0.0460609  0.0289391    1.59\n",
       "genotype_batchBatch_b085           0.0379386  0.0282266    1.34\n",
       "genotype_batchBatch_b086           0.0324969  0.0286086    1.14\n",
       "genotype_batchBatch_b087           0.0704768  0.0286702    2.46\n",
       "genotype_batchBatch_b088           0.0527857  0.0285822    1.85\n",
       "genotype_batchBatch_b089           0.0375606  0.0287731    1.31\n",
       "genotype_batchBatch_b090           0.0209600  0.0283623    0.74\n",
       "genotype_batchBatch_b091           0.0271319  0.0288833    0.94\n",
       "genotype_batchBatch_b092           0.0054371  0.0287290    0.19\n",
       "genotype_batchBatch_b093           0.0786388  0.0284852    2.76\n",
       "genotype_batchBatch_b094           0.0176206  0.0359261    0.49\n",
       "genotype_batchBatch_b095           0.0449658  0.0303079    1.48\n",
       "genotype_batchUKBiLEVEAX_b1        0.0127216  0.0282685    0.45\n",
       "genotype_batchUKBiLEVEAX_b10       0.0126230  0.0282780    0.45\n",
       "genotype_batchUKBiLEVEAX_b11       0.0350477  0.0282149    1.24\n",
       "genotype_batchUKBiLEVEAX_b2        0.0585019  0.0282826    2.07\n",
       "genotype_batchUKBiLEVEAX_b3        0.0203012  0.0283441    0.72\n",
       "genotype_batchUKBiLEVEAX_b4        0.0452182  0.0283406    1.60\n",
       "genotype_batchUKBiLEVEAX_b5        0.0510254  0.0281341    1.81\n",
       "genotype_batchUKBiLEVEAX_b6        0.0663335  0.0282323    2.35\n",
       "genotype_batchUKBiLEVEAX_b7        0.0107947  0.0283432    0.38\n",
       "genotype_batchUKBiLEVEAX_b8       -0.0110149  0.0280994   -0.39\n",
       "genotype_batchUKBiLEVEAX_b9       -0.0029743  0.0282606   -0.11\n",
       "PC1                               -0.0030675  0.0006349   -4.83\n",
       "PC2                                0.0012719  0.0007213    1.76\n",
       "PC3                                0.0024092  0.0009633    2.50\n",
       "PC4                                0.0019733  0.0004750    4.15\n",
       "PC5                               -0.0003319  0.0003462   -0.96\n",
       "PC6                                0.0026412  0.0010700    2.47\n",
       "PC7                               -0.0000090  0.0006965   -0.01\n",
       "PC8                               -0.0028042  0.0007927   -3.54\n",
       "PC9                                0.0010553  0.0004951    2.13\n",
       "PC10                              -0.0001197  0.0010064   -0.12\n",
       "PC11                               0.0032473  0.0008022    4.05\n",
       "PC12                               0.0040453  0.0010342    3.91\n",
       "PC13                              -0.0012248  0.0012057   -1.02\n",
       "PC14                              -0.0030312  0.0006755   -4.49\n",
       "PC15                               0.0007730  0.0011191    0.69\n",
       "PC16                              -0.0007240  0.0006976   -1.04\n",
       "PC17                               0.0010118  0.0009832    1.03\n",
       "PC18                               0.0008285  0.0007096    1.17\n",
       "PC19                               0.0018378  0.0006802    2.70\n",
       "PC20                               0.0004330  0.0006949    0.62\n",
       "                                              Pr(>|t|)    \n",
       "(Intercept)                              0.00000396884 ***\n",
       "age                                            0.00091 ***\n",
       "I(age^2)                                       0.00251 ** \n",
       "sexMale                           < 0.0000000000000002 ***\n",
       "ldl_std                                  0.00000000031 ***\n",
       "trig_std                          < 0.0000000000000002 ***\n",
       "alcoholNever                                   0.20791    \n",
       "alcoholOnce or twice a week                    0.52998    \n",
       "alcoholOne to three times a month              0.14721    \n",
       "alcoholPrefer not to answer                    0.01512 *  \n",
       "alcoholSpecial occasions only                  0.68188    \n",
       "alcoholThree or four times a week              0.79029    \n",
       "smoking                                        0.00044 ***\n",
       "assessment_centreBirmingham                    0.39412    \n",
       "assessment_centreBristol                       0.60438    \n",
       "assessment_centreBury                          0.03416 *  \n",
       "assessment_centreCardiff                       0.21193    \n",
       "assessment_centreCroydon                       0.96292    \n",
       "assessment_centreEdinburgh                     0.28497    \n",
       "assessment_centreGlasgow                       0.12805    \n",
       "assessment_centreHounslow                      0.35141    \n",
       "assessment_centreLeeds                         0.40275    \n",
       "assessment_centreLiverpool                     0.19980    \n",
       "assessment_centreManchester                    0.27805    \n",
       "assessment_centreMiddlesborough                0.35082    \n",
       "assessment_centreNewcastle                     0.34756    \n",
       "assessment_centreNottingham                    0.25228    \n",
       "assessment_centreOxford                        0.01976 *  \n",
       "assessment_centreReading                       0.37506    \n",
       "assessment_centreSheffield                     0.72423    \n",
       "assessment_centreStoke                         0.47478    \n",
       "assessment_centreSwansea                       0.95109    \n",
       "assessment_centreWrexham                       0.47648    \n",
       "genotype_batchBatch_b002                       0.29502    \n",
       "genotype_batchBatch_b003                       0.12672    \n",
       "genotype_batchBatch_b004                       0.17090    \n",
       "genotype_batchBatch_b005                       0.39077    \n",
       "genotype_batchBatch_b006                       0.38616    \n",
       "genotype_batchBatch_b007                       0.35171    \n",
       "genotype_batchBatch_b008                       0.22918    \n",
       "genotype_batchBatch_b009                       0.42072    \n",
       "genotype_batchBatch_b010                       0.04287 *  \n",
       "genotype_batchBatch_b011                       0.43788    \n",
       "genotype_batchBatch_b012                       0.36386    \n",
       "genotype_batchBatch_b013                       0.33975    \n",
       "genotype_batchBatch_b014                       0.85922    \n",
       "genotype_batchBatch_b015                       0.94393    \n",
       "genotype_batchBatch_b016                       0.90827    \n",
       "genotype_batchBatch_b017                       0.18846    \n",
       "genotype_batchBatch_b018                       0.29235    \n",
       "genotype_batchBatch_b019                       0.32901    \n",
       "genotype_batchBatch_b020                       0.51173    \n",
       "genotype_batchBatch_b021                       0.75428    \n",
       "genotype_batchBatch_b022                       0.17371    \n",
       "genotype_batchBatch_b023                       0.01488 *  \n",
       "genotype_batchBatch_b024                       0.66464    \n",
       "genotype_batchBatch_b025                       0.17349    \n",
       "genotype_batchBatch_b026                       0.11913    \n",
       "genotype_batchBatch_b027                       0.79861    \n",
       "genotype_batchBatch_b028                       0.41850    \n",
       "genotype_batchBatch_b029                       0.08443 .  \n",
       "genotype_batchBatch_b030                       0.31261    \n",
       "genotype_batchBatch_b031                       0.38061    \n",
       "genotype_batchBatch_b032                       0.57736    \n",
       "genotype_batchBatch_b033                       0.10082    \n",
       "genotype_batchBatch_b034                       0.93892    \n",
       "genotype_batchBatch_b035                       0.38864    \n",
       "genotype_batchBatch_b036                       0.65681    \n",
       "genotype_batchBatch_b037                       0.09234 .  \n",
       "genotype_batchBatch_b038                       0.53681    \n",
       "genotype_batchBatch_b039                       0.12919    \n",
       "genotype_batchBatch_b040                       0.06047 .  \n",
       "genotype_batchBatch_b041                       0.87012    \n",
       "genotype_batchBatch_b042                       0.03429 *  \n",
       "genotype_batchBatch_b043                       0.67464    \n",
       "genotype_batchBatch_b044                       0.21386    \n",
       "genotype_batchBatch_b045                       0.11386    \n",
       "genotype_batchBatch_b046                       0.09004 .  \n",
       "genotype_batchBatch_b047                       0.23092    \n",
       "genotype_batchBatch_b048                       0.63393    \n",
       "genotype_batchBatch_b049                       0.32739    \n",
       "genotype_batchBatch_b050                       0.03950 *  \n",
       "genotype_batchBatch_b051                       0.98545    \n",
       "genotype_batchBatch_b052                       0.24097    \n",
       "genotype_batchBatch_b053                       0.60166    \n",
       "genotype_batchBatch_b054                       0.19233    \n",
       "genotype_batchBatch_b055                       0.22299    \n",
       "genotype_batchBatch_b056                       0.12491    \n",
       "genotype_batchBatch_b057                       0.02225 *  \n",
       "genotype_batchBatch_b058                       0.05223 .  \n",
       "genotype_batchBatch_b059                       0.67377    \n",
       "genotype_batchBatch_b060                       0.92770    \n",
       "genotype_batchBatch_b061                       0.57035    \n",
       "genotype_batchBatch_b062                       0.02306 *  \n",
       "genotype_batchBatch_b063                       0.98981    \n",
       "genotype_batchBatch_b064                       0.87877    \n",
       "genotype_batchBatch_b065                       0.41724    \n",
       "genotype_batchBatch_b066                       0.70710    \n",
       "genotype_batchBatch_b067                       0.15030    \n",
       "genotype_batchBatch_b068                       0.27012    \n",
       "genotype_batchBatch_b069                       0.04309 *  \n",
       "genotype_batchBatch_b070                       0.10597    \n",
       "genotype_batchBatch_b071                       0.09426 .  \n",
       "genotype_batchBatch_b072                       0.76894    \n",
       "genotype_batchBatch_b073                       0.11382    \n",
       "genotype_batchBatch_b074                       0.36069    \n",
       "genotype_batchBatch_b075                       0.04220 *  \n",
       "genotype_batchBatch_b076                       0.21487    \n",
       "genotype_batchBatch_b077                       0.65324    \n",
       "genotype_batchBatch_b078                       0.10472    \n",
       "genotype_batchBatch_b079                       0.55924    \n",
       "genotype_batchBatch_b080                       0.78087    \n",
       "genotype_batchBatch_b081                       0.37237    \n",
       "genotype_batchBatch_b082                       0.00994 ** \n",
       "genotype_batchBatch_b083                       0.17088    \n",
       "genotype_batchBatch_b084                       0.11146    \n",
       "genotype_batchBatch_b085                       0.17893    \n",
       "genotype_batchBatch_b086                       0.25599    \n",
       "genotype_batchBatch_b087                       0.01396 *  \n",
       "genotype_batchBatch_b088                       0.06478 .  \n",
       "genotype_batchBatch_b089                       0.19176    \n",
       "genotype_batchBatch_b090                       0.45990    \n",
       "genotype_batchBatch_b091                       0.34755    \n",
       "genotype_batchBatch_b092                       0.84989    \n",
       "genotype_batchBatch_b093                       0.00577 ** \n",
       "genotype_batchBatch_b094                       0.62380    \n",
       "genotype_batchBatch_b095                       0.13791    \n",
       "genotype_batchUKBiLEVEAX_b1                    0.65269    \n",
       "genotype_batchUKBiLEVEAX_b10                   0.65532    \n",
       "genotype_batchUKBiLEVEAX_b11                   0.21417    \n",
       "genotype_batchUKBiLEVEAX_b2                    0.03860 *  \n",
       "genotype_batchUKBiLEVEAX_b3                    0.47384    \n",
       "genotype_batchUKBiLEVEAX_b4                    0.11060    \n",
       "genotype_batchUKBiLEVEAX_b5                    0.06973 .  \n",
       "genotype_batchUKBiLEVEAX_b6                    0.01880 *  \n",
       "genotype_batchUKBiLEVEAX_b7                    0.70331    \n",
       "genotype_batchUKBiLEVEAX_b8                    0.69506    \n",
       "genotype_batchUKBiLEVEAX_b9                    0.91618    \n",
       "PC1                                      0.00000135417 ***\n",
       "PC2                                            0.07785 .  \n",
       "PC3                                            0.01238 *  \n",
       "PC4                                      0.00003264344 ***\n",
       "PC5                                            0.33779    \n",
       "PC6                                            0.01357 *  \n",
       "PC7                                            0.98969    \n",
       "PC8                                            0.00040 ***\n",
       "PC9                                            0.03306 *  \n",
       "PC10                                           0.90535    \n",
       "PC11                                     0.00005165367 ***\n",
       "PC12                                     0.00009167443 ***\n",
       "PC13                                           0.30970    \n",
       "PC14                                     0.00000722513 ***\n",
       "PC15                                           0.48970    \n",
       "PC16                                           0.29934    \n",
       "PC17                                           0.30342    \n",
       "PC18                                           0.24295    \n",
       "PC19                                           0.00689 ** \n",
       "PC20                                           0.53317    \n",
       "---\n",
       "Signif. codes:  0 ‘***’ 0.001 ‘**’ 0.01 ‘*’ 0.05 ‘.’ 0.1 ‘ ’ 1\n",
       "\n",
       "Residual standard error: 0.994 on 252696 degrees of freedom\n",
       "Multiple R-squared:  0.0118,\tAdjusted R-squared:  0.0112 \n",
       "F-statistic: 19.2 on 157 and 252696 DF,  p-value: <0.0000000000000002\n"
      ]
     },
     "metadata": {},
     "output_type": "display_data"
    }
   ],
   "source": [
    "summary(instrument.model)"
   ]
  },
  {
   "cell_type": "code",
   "execution_count": 22,
   "metadata": {},
   "outputs": [],
   "source": [
    "sens.first.stage.all <- sensemakr(model = first.stage,\n",
    "                              treatment = \"prs_std_hdl\",\n",
    "                              benchmark_covariates = list(`All` = all),\n",
    "                              kd = c(0.2, 0.4, 0.6, 0.8, 1))\n",
    "                              #kd = c(2, 4, 6, 8))"
   ]
  },
  {
   "cell_type": "code",
   "execution_count": 23,
   "metadata": {},
   "outputs": [
    {
     "name": "stdout",
     "output_type": "stream",
     "text": [
      "Sensitivity Analysis to Unobserved Confounding\n",
      "\n",
      "Model Formula: hdl_std ~ prs_std_hdl + age + I(age^2) + sex + ldl_std + trig_std + \n",
      "    alcohol + smoking + assessment_centre + genotype_batch + \n",
      "    PC1 + PC2 + PC3 + PC4 + PC5 + PC6 + PC7 + PC8 + PC9 + PC10 + \n",
      "    PC11 + PC12 + PC13 + PC14 + PC15 + PC16 + PC17 + PC18 + PC19 + \n",
      "    PC20\n",
      "\n",
      "Null hypothesis: q = 1 and reduce = TRUE \n",
      "-- This means we are considering biases that reduce the absolute value of the current estimate.\n",
      "-- The null hypothesis deemed problematic is H0:tau = 0 \n",
      "\n",
      "Unadjusted Estimates of 'prs_std_hdl': \n",
      "  Coef. estimate: 0.214 \n",
      "  Standard Error: 0.001 \n",
      "  t-value (H0:tau = 0): 142.7 \n",
      "\n",
      "Sensitivity Statistics:\n",
      "  Partial R2 of treatment with outcome: 0.075 \n",
      "  Robustness Value, q = 1: 0.246 \n",
      "  Robustness Value, q = 1, alpha = 0.05: 0.243 \n",
      "\n",
      "Verbal interpretation of sensitivity statistics:\n",
      "\n",
      "-- Partial R2 of the treatment with the outcome: an extreme confounder (orthogonal to the covariates) that explains 100% of the residual variance of the outcome, would need to explain at least 7.5% of the residual variance of the treatment to fully account for the observed estimated effect.\n",
      "\n",
      "-- Robustness Value, q = 1: unobserved confounders (orthogonal to the covariates) that explain more than 24.6% of the residual variance of both the treatment and the outcome are strong enough to bring the point estimate to 0 (a bias of 100% of the original estimate). Conversely, unobserved confounders that do not explain more than 24.6% of the residual variance of both the treatment and the outcome are not strong enough to bring the point estimate to 0.\n",
      "\n",
      "-- Robustness Value, q = 1, alpha = 0.05: unobserved confounders (orthogonal to the covariates) that explain more than 24.3% of the residual variance of both the treatment and the outcome are strong enough to bring the estimate to a range where it is no longer 'statistically different' from 0 (a bias of 100% of the original estimate), at the significance level of alpha = 0.05. Conversely, unobserved confounders that do not explain more than 24.3% of the residual variance of both the treatment and the outcome are not strong enough to bring the estimate to a range where it is no longer 'statistically different' from 0, at the significance level of alpha = 0.05.\n",
      "\n",
      "Bounds on omitted variable bias:\n",
      "\n",
      "--The table below shows the maximum strength of unobserved confounders with association with the treatment and the outcome bounded by a multiple of the observed explanatory power of the chosen benchmark covariate(s).\n",
      "\n",
      " Bound Label R2dz.x R2yz.dx   Treatment Adjusted Estimate Adjusted Se\n",
      "    0.2x All  0.002   0.138 prs_std_hdl             0.200       0.001\n",
      "    0.4x All  0.005   0.275 prs_std_hdl             0.187       0.001\n",
      "    0.6x All  0.007   0.413 prs_std_hdl             0.173       0.001\n",
      "    0.8x All  0.010   0.551 prs_std_hdl             0.159       0.001\n",
      "      1x All  0.012   0.689 prs_std_hdl             0.145       0.001\n",
      " Adjusted T Adjusted Lower CI Adjusted Upper CI\n",
      "      143.7             0.198             0.203\n",
      "      145.8             0.184             0.189\n",
      "      149.9             0.171             0.175\n",
      "      157.5             0.157             0.161\n",
      "      172.5             0.143             0.147\n"
     ]
    }
   ],
   "source": [
    "summary(sens.first.stage.all)"
   ]
  },
  {
   "cell_type": "code",
   "execution_count": 24,
   "metadata": {},
   "outputs": [
    {
     "data": {
      "image/png": "[encoded data removed]",
      "text/plain": [
       "plot without title"
      ]
     },
     "metadata": {
      "image/png": {
       "height": 450,
       "width": 600
      }
     },
     "output_type": "display_data"
    }
   ],
   "source": [
    "options(repr.plot.width = 6, repr.plot.height = 4.5, repr.plot.res = 200)\n",
    "plot(sens.first.stage.all, sensitivity.of = \"t-value\", lim = 0.05)"
   ]
  },
  {
   "cell_type": "code",
   "execution_count": 25,
   "metadata": {},
   "outputs": [],
   "source": [
    "# RF Coronary Heart Disease Sensitivity\n",
    "\n",
    "reduced.form.chd <- lm(chd ~ prs_std_hdl + age + I(age^2) + sex +\n",
    "                         ldl_std + trig_std +\n",
    "                         alcohol + smoking +\n",
    "                         assessment_centre + genotype_batch +\n",
    "                         PC1 + PC2 + PC3 +  PC4 + PC5 + PC6 +\n",
    "                         PC7 + PC8 + PC9 + PC10 + PC11 +\n",
    "                         PC12 + PC13 + PC14 + PC15 + PC16 + PC17 +\n",
    "                         PC18 + PC19 + PC20,\n",
    "                         data = data)"
   ]
  },
  {
   "cell_type": "code",
   "execution_count": 26,
   "metadata": {},
   "outputs": [
    {
     "data": {
      "text/html": [
       "<strong>prs_std_hdl:</strong> 0.00017851063639634"
      ],
      "text/latex": [
       "\\textbf{prs\\textbackslash{}\\_std\\textbackslash{}\\_hdl:} 0.00017851063639634"
      ],
      "text/markdown": [
       "**prs_std_hdl:** 0.00017851063639634"
      ],
      "text/plain": [
       "prs_std_hdl \n",
       "  0.0001785 "
      ]
     },
     "metadata": {},
     "output_type": "display_data"
    }
   ],
   "source": [
    "partial_r2(reduced.form.chd, covariates = \"prs_std_hdl\")"
   ]
  },
  {
   "cell_type": "code",
   "execution_count": 27,
   "metadata": {},
   "outputs": [
    {
     "data": {
      "text/html": [
       "<table class=\"dataframe\">\n",
       "<caption>A data.frame: 1 × 9</caption>\n",
       "<thead>\n",
       "\t<tr><th scope=col>treatment</th><th scope=col>estimate</th><th scope=col>se</th><th scope=col>t_statistic</th><th scope=col>r2yd.x</th><th scope=col>rv_q</th><th scope=col>rv_qa</th><th scope=col>f2yd.x</th><th scope=col>dof</th></tr>\n",
       "\t<tr><th scope=col>&lt;chr&gt;</th><th scope=col>&lt;dbl&gt;</th><th scope=col>&lt;dbl&gt;</th><th scope=col>&lt;dbl&gt;</th><th scope=col>&lt;dbl&gt;</th><th scope=col>&lt;numeric&gt;</th><th scope=col>&lt;numeric&gt;</th><th scope=col>&lt;dbl&gt;</th><th scope=col>&lt;int&gt;</th></tr>\n",
       "</thead>\n",
       "<tbody>\n",
       "\t<tr><td>prs_std_hdl</td><td>-0.002623</td><td>0.0003906</td><td>-6.717</td><td>0.0001785</td><td>0.01327</td><td>0.009418</td><td>0.0001785</td><td>252695</td></tr>\n",
       "</tbody>\n",
       "</table>\n"
      ],
      "text/latex": [
       "A data.frame: 1 × 9\n",
       "\\begin{tabular}{lllllllll}\n",
       " treatment & estimate & se & t\\_statistic & r2yd.x & rv\\_q & rv\\_qa & f2yd.x & dof\\\\\n",
       " <chr> & <dbl> & <dbl> & <dbl> & <dbl> & <numeric> & <numeric> & <dbl> & <int>\\\\\n",
       "\\hline\n",
       "\t prs\\_std\\_hdl & -0.002623 & 0.0003906 & -6.717 & 0.0001785 & 0.01327 & 0.009418 & 0.0001785 & 252695\\\\\n",
       "\\end{tabular}\n"
      ],
      "text/markdown": [
       "\n",
       "A data.frame: 1 × 9\n",
       "\n",
       "| treatment &lt;chr&gt; | estimate &lt;dbl&gt; | se &lt;dbl&gt; | t_statistic &lt;dbl&gt; | r2yd.x &lt;dbl&gt; | rv_q &lt;numeric&gt; | rv_qa &lt;numeric&gt; | f2yd.x &lt;dbl&gt; | dof &lt;int&gt; |\n",
       "|---|---|---|---|---|---|---|---|---|\n",
       "| prs_std_hdl | -0.002623 | 0.0003906 | -6.717 | 0.0001785 | 0.01327 | 0.009418 | 0.0001785 | 252695 |\n",
       "\n"
      ],
      "text/plain": [
       "  treatment   estimate  se        t_statistic r2yd.x    rv_q    rv_qa   \n",
       "1 prs_std_hdl -0.002623 0.0003906 -6.717      0.0001785 0.01327 0.009418\n",
       "  f2yd.x    dof   \n",
       "1 0.0001785 252695"
      ]
     },
     "metadata": {},
     "output_type": "display_data"
    }
   ],
   "source": [
    "sensitivity_stats(reduced.form.chd, treatment = \"prs_std_hdl\")"
   ]
  },
  {
   "cell_type": "code",
   "execution_count": 28,
   "metadata": {},
   "outputs": [],
   "source": [
    "sense.rf.chd <- sensemakr(model = reduced.form.chd,\n",
    "                              treatment = \"prs_std_hdl\")#,\n",
    "                              #benchmark_covariates = list(`All` = all),\n",
    "                              #kd = c(1))"
   ]
  },
  {
   "cell_type": "code",
   "execution_count": 29,
   "metadata": {},
   "outputs": [
    {
     "name": "stdout",
     "output_type": "stream",
     "text": [
      "Sensitivity Analysis to Unobserved Confounding\n",
      "\n",
      "Model Formula: chd ~ prs_std_hdl + age + I(age^2) + sex + ldl_std + trig_std + \n",
      "    alcohol + smoking + assessment_centre + genotype_batch + \n",
      "    PC1 + PC2 + PC3 + PC4 + PC5 + PC6 + PC7 + PC8 + PC9 + PC10 + \n",
      "    PC11 + PC12 + PC13 + PC14 + PC15 + PC16 + PC17 + PC18 + PC19 + \n",
      "    PC20\n",
      "\n",
      "Null hypothesis: q = 1 and reduce = TRUE \n",
      "-- This means we are considering biases that reduce the absolute value of the current estimate.\n",
      "-- The null hypothesis deemed problematic is H0:tau = 0 \n",
      "\n",
      "Unadjusted Estimates of 'prs_std_hdl': \n",
      "  Coef. estimate: -0.003 \n",
      "  Standard Error: 0 \n",
      "  t-value (H0:tau = 0): -6.717 \n",
      "\n",
      "Sensitivity Statistics:\n",
      "  Partial R2 of treatment with outcome: 0 \n",
      "  Robustness Value, q = 1: 0.013 \n",
      "  Robustness Value, q = 1, alpha = 0.05: 0.009 \n",
      "\n",
      "Verbal interpretation of sensitivity statistics:\n",
      "\n",
      "-- Partial R2 of the treatment with the outcome: an extreme confounder (orthogonal to the covariates) that explains 100% of the residual variance of the outcome, would need to explain at least 0% of the residual variance of the treatment to fully account for the observed estimated effect.\n",
      "\n",
      "-- Robustness Value, q = 1: unobserved confounders (orthogonal to the covariates) that explain more than 1.3% of the residual variance of both the treatment and the outcome are strong enough to bring the point estimate to 0 (a bias of 100% of the original estimate). Conversely, unobserved confounders that do not explain more than 1.3% of the residual variance of both the treatment and the outcome are not strong enough to bring the point estimate to 0.\n",
      "\n",
      "-- Robustness Value, q = 1, alpha = 0.05: unobserved confounders (orthogonal to the covariates) that explain more than 0.9% of the residual variance of both the treatment and the outcome are strong enough to bring the estimate to a range where it is no longer 'statistically different' from 0 (a bias of 100% of the original estimate), at the significance level of alpha = 0.05. Conversely, unobserved confounders that do not explain more than 0.9% of the residual variance of both the treatment and the outcome are not strong enough to bring the estimate to a range where it is no longer 'statistically different' from 0, at the significance level of alpha = 0.05.\n",
      "\n"
     ]
    }
   ],
   "source": [
    "summary(sense.rf.chd)"
   ]
  },
  {
   "cell_type": "code",
   "execution_count": 30,
   "metadata": {},
   "outputs": [
    {
     "name": "stdout",
     "output_type": "stream",
     "text": [
      "'data.frame':\t1 obs. of  9 variables:\n",
      " $ treatment  : chr \"prs_std_hdl\"\n",
      " $ estimate   : num -0.00262\n",
      " $ se         : num 0.000391\n",
      " $ t_statistic: num -6.72\n",
      " $ r2yd.x     : num 0.000179\n",
      " $ rv_q       : num 0.0133\n",
      "  ..- attr(*, \"q\")= num 1\n",
      "  ..- attr(*, \"alpha\")= num 1\n",
      " $ rv_qa      : num 0.00942\n",
      "  ..- attr(*, \"q\")= num 1\n",
      "  ..- attr(*, \"alpha\")= num 0.05\n",
      " $ f2yd.x     : num 0.000179\n",
      " $ dof        : int 252695\n"
     ]
    }
   ],
   "source": [
    "str(sense.rf.chd$sensitivity_stats)"
   ]
  },
  {
   "cell_type": "code",
   "execution_count": 31,
   "metadata": {},
   "outputs": [
    {
     "data": {
      "image/png": "[encoded data removed]",
      "text/plain": [
       "plot without title"
      ]
     },
     "metadata": {
      "image/png": {
       "height": 450,
       "width": 600
      }
     },
     "output_type": "display_data"
    }
   ],
   "source": [
    "# Contour plot for bounding on Coronary Heart Disease (CHD)\n",
    "xlab <- expression(paste(\"Partial \", R^2, \" of unobservables with PRS\"))\n",
    "ylab <- expression(paste(\"Partial \", R^2, \" of unobservables with CHD\"))\n",
    "options(repr.plot.width = 6, repr.plot.height = 4.5, repr.plot.res = 200)\n",
    "plot(sense.rf.chd, \n",
    "     sensitivity.of = \"t-value\",\n",
    "     nlevels = 5,\n",
    "     lim = 0.06, lim.y = 0.06,\n",
    "     xlab=xlab, ylab=ylab)\n",
    "#add_bound_to_contour(model = reduced.form.chd,\n",
    "#                              treatment = \"prs_std_hdl\",\n",
    "#                              benchmark_covariates = list(`All` = all),\n",
    "#                              kd=0.25,\n",
    "#                              label.bump.x = -0.0005, label.bump.y = 0.0035) \n",
    "#add_bound_to_contour(model = reduced.form.chd,\n",
    "#                              treatment = \"prs_std_hdl\",\n",
    "#                              benchmark_covariates = list(`Alcohol + Smoking` = c(alcohol, smoking)),\n",
    "#                              kd=7)\n",
    "add_bound_to_contour(model = reduced.form.chd,\n",
    "                              treatment = \"prs_std_hdl\",\n",
    "                              benchmark_covariates = list(`LDL + Triglycerides` = c(ldl, trig)),\n",
    "                              kd=1,\n",
    "                              label.bump.x = 0.005, label.bump.y = 0.0020)\n",
    "add_bound_to_contour(model = reduced.form.chd,\n",
    "                              treatment = \"prs_std_hdl\",\n",
    "                              benchmark_covariates = list(`Obs. Centre + Batch` = c(assessment_centre, batch_effects)),\n",
    "                              kd=8,\n",
    "                              label.bump.x = 0.0135, label.bump.y = 0.0005)\n",
    "add_bound_to_contour(model = reduced.form.chd,\n",
    "                              treatment = \"prs_std_hdl\",\n",
    "                              benchmark_covariates = list(`First 20 Princ. Comp.` = PCs),\n",
    "                              kd=18,\n",
    "                              label.bump.x = 0.0110, label.bump.y = 0.0005)"
   ]
  },
  {
   "cell_type": "code",
   "execution_count": 32,
   "metadata": {},
   "outputs": [
    {
     "data": {
      "text/html": [
       "<strong>png:</strong> 2"
      ],
      "text/latex": [
       "\\textbf{png:} 2"
      ],
      "text/markdown": [
       "**png:** 2"
      ],
      "text/plain": [
       "png \n",
       "  2 "
      ]
     },
     "metadata": {},
     "output_type": "display_data"
    }
   ],
   "source": [
    "# Now do same plot but save to PDF (add pdf command at beginning and dev.off command at end)\n",
    "pdf(\"chd_rf_combined.pdf\", width = 4.5, height = 4.5)\n",
    "xlab <- expression(paste(\"Partial \", R^2, \" of unobservables with PRS\"))\n",
    "ylab <- expression(paste(\"Partial \", R^2, \" of unobservables with CHD\"))\n",
    "options(repr.plot.width = 6, repr.plot.height = 4.5, repr.plot.res = 200)\n",
    "plot(sense.rf.chd, \n",
    "     sensitivity.of = \"t-value\",\n",
    "     nlevels = 5,\n",
    "     lim = 0.06, lim.y = 0.06,\n",
    "     xlab=xlab, ylab=ylab)\n",
    "#add_bound_to_contour(model = reduced.form.chd,\n",
    "#                              treatment = \"prs_std_hdl\",\n",
    "#                              benchmark_covariates = list(`All` = all),\n",
    "#                              kd=0.25,\n",
    "#                              label.bump.x = -0.0005, label.bump.y = 0.0035) \n",
    "#add_bound_to_contour(model = reduced.form.chd,\n",
    "#                              treatment = \"prs_std_hdl\",\n",
    "#                              benchmark_covariates = list(`Alcohol + Smoking` = c(alcohol, smoking)),\n",
    "#                              kd=7)\n",
    "add_bound_to_contour(model = reduced.form.chd,\n",
    "                              treatment = \"prs_std_hdl\",\n",
    "                              benchmark_covariates = list(`LDL + Triglycerides` = c(ldl, trig)),\n",
    "                              kd=1,\n",
    "                              label.bump.x = 0.005, label.bump.y = 0.0020)\n",
    "add_bound_to_contour(model = reduced.form.chd,\n",
    "                              treatment = \"prs_std_hdl\",\n",
    "                              benchmark_covariates = list(`Obs. Centre + Batch` = c(assessment_centre, batch_effects)),\n",
    "                              kd=8,\n",
    "                              label.bump.x = 0.0135, label.bump.y = 0.0005)\n",
    "add_bound_to_contour(model = reduced.form.chd,\n",
    "                              treatment = \"prs_std_hdl\",\n",
    "                              benchmark_covariates = list(`First 20 Princ. Comp.` = PCs),\n",
    "                              kd=18,\n",
    "                              label.bump.x = 0.0110, label.bump.y = 0.0005)\n",
    "dev.off()"
   ]
  },
  {
   "cell_type": "code",
   "execution_count": 33,
   "metadata": {},
   "outputs": [
    {
     "data": {
      "text/html": [
       "<table class=\"dataframe\">\n",
       "<caption>A ovb_bounds: 1 × 9</caption>\n",
       "<thead>\n",
       "\t<tr><th scope=col>bound_label</th><th scope=col>r2dz.x</th><th scope=col>r2yz.dx</th><th scope=col>treatment</th><th scope=col>adjusted_estimate</th><th scope=col>adjusted_se</th><th scope=col>adjusted_t</th><th scope=col>adjusted_lower_CI</th><th scope=col>adjusted_upper_CI</th></tr>\n",
       "\t<tr><th scope=col>&lt;chr&gt;</th><th scope=col>&lt;dbl&gt;</th><th scope=col>&lt;dbl&gt;</th><th scope=col>&lt;chr&gt;</th><th scope=col>&lt;dbl&gt;</th><th scope=col>&lt;dbl&gt;</th><th scope=col>&lt;numeric&gt;</th><th scope=col>&lt;dbl&gt;</th><th scope=col>&lt;dbl&gt;</th></tr>\n",
       "</thead>\n",
       "<tbody>\n",
       "\t<tr><td>1x Pop. Strat.</td><td>0.0008269</td><td>0.0003191</td><td>prs_std_hdl</td><td>-0.002523</td><td>0.0003907</td><td>-6.457</td><td>-0.003288</td><td>-0.001757</td></tr>\n",
       "</tbody>\n",
       "</table>\n"
      ],
      "text/latex": [
       "A ovb\\_bounds: 1 × 9\n",
       "\\begin{tabular}{lllllllll}\n",
       " bound\\_label & r2dz.x & r2yz.dx & treatment & adjusted\\_estimate & adjusted\\_se & adjusted\\_t & adjusted\\_lower\\_CI & adjusted\\_upper\\_CI\\\\\n",
       " <chr> & <dbl> & <dbl> & <chr> & <dbl> & <dbl> & <numeric> & <dbl> & <dbl>\\\\\n",
       "\\hline\n",
       "\t 1x Pop. Strat. & 0.0008269 & 0.0003191 & prs\\_std\\_hdl & -0.002523 & 0.0003907 & -6.457 & -0.003288 & -0.001757\\\\\n",
       "\\end{tabular}\n"
      ],
      "text/markdown": [
       "\n",
       "A ovb_bounds: 1 × 9\n",
       "\n",
       "| bound_label &lt;chr&gt; | r2dz.x &lt;dbl&gt; | r2yz.dx &lt;dbl&gt; | treatment &lt;chr&gt; | adjusted_estimate &lt;dbl&gt; | adjusted_se &lt;dbl&gt; | adjusted_t &lt;numeric&gt; | adjusted_lower_CI &lt;dbl&gt; | adjusted_upper_CI &lt;dbl&gt; |\n",
       "|---|---|---|---|---|---|---|---|---|\n",
       "| 1x Pop. Strat. | 0.0008269 | 0.0003191 | prs_std_hdl | -0.002523 | 0.0003907 | -6.457 | -0.003288 | -0.001757 |\n",
       "\n"
      ],
      "text/plain": [
       "  bound_label    r2dz.x    r2yz.dx   treatment   adjusted_estimate adjusted_se\n",
       "1 1x Pop. Strat. 0.0008269 0.0003191 prs_std_hdl -0.002523         0.0003907  \n",
       "  adjusted_t adjusted_lower_CI adjusted_upper_CI\n",
       "1 -6.457     -0.003288         -0.001757        "
      ]
     },
     "metadata": {},
     "output_type": "display_data"
    }
   ],
   "source": [
    "sense.rf.chd.pcs <- sensemakr(model = reduced.form.chd,\n",
    "                              treatment = \"prs_std_hdl\",\n",
    "                              benchmark_covariates = list(`Pop. Strat.` = PCs),\n",
    "                              kd = c(1))\n",
    "sense.rf.chd.pcs$bounds"
   ]
  },
  {
   "cell_type": "code",
   "execution_count": 34,
   "metadata": {},
   "outputs": [
    {
     "data": {
      "text/html": [
       "<table class=\"dataframe\">\n",
       "<caption>A ovb_bounds: 1 × 9</caption>\n",
       "<thead>\n",
       "\t<tr><th scope=col>bound_label</th><th scope=col>r2dz.x</th><th scope=col>r2yz.dx</th><th scope=col>treatment</th><th scope=col>adjusted_estimate</th><th scope=col>adjusted_se</th><th scope=col>adjusted_t</th><th scope=col>adjusted_lower_CI</th><th scope=col>adjusted_upper_CI</th></tr>\n",
       "\t<tr><th scope=col>&lt;chr&gt;</th><th scope=col>&lt;dbl&gt;</th><th scope=col>&lt;dbl&gt;</th><th scope=col>&lt;chr&gt;</th><th scope=col>&lt;dbl&gt;</th><th scope=col>&lt;dbl&gt;</th><th scope=col>&lt;numeric&gt;</th><th scope=col>&lt;dbl&gt;</th><th scope=col>&lt;dbl&gt;</th></tr>\n",
       "</thead>\n",
       "<tbody>\n",
       "\t<tr><td>1x Centre + Batch</td><td>0.0005622</td><td>0.00205</td><td>prs_std_hdl</td><td>-0.002413</td><td>0.0003903</td><td>-6.182</td><td>-0.003178</td><td>-0.001648</td></tr>\n",
       "</tbody>\n",
       "</table>\n"
      ],
      "text/latex": [
       "A ovb\\_bounds: 1 × 9\n",
       "\\begin{tabular}{lllllllll}\n",
       " bound\\_label & r2dz.x & r2yz.dx & treatment & adjusted\\_estimate & adjusted\\_se & adjusted\\_t & adjusted\\_lower\\_CI & adjusted\\_upper\\_CI\\\\\n",
       " <chr> & <dbl> & <dbl> & <chr> & <dbl> & <dbl> & <numeric> & <dbl> & <dbl>\\\\\n",
       "\\hline\n",
       "\t 1x Centre + Batch & 0.0005622 & 0.00205 & prs\\_std\\_hdl & -0.002413 & 0.0003903 & -6.182 & -0.003178 & -0.001648\\\\\n",
       "\\end{tabular}\n"
      ],
      "text/markdown": [
       "\n",
       "A ovb_bounds: 1 × 9\n",
       "\n",
       "| bound_label &lt;chr&gt; | r2dz.x &lt;dbl&gt; | r2yz.dx &lt;dbl&gt; | treatment &lt;chr&gt; | adjusted_estimate &lt;dbl&gt; | adjusted_se &lt;dbl&gt; | adjusted_t &lt;numeric&gt; | adjusted_lower_CI &lt;dbl&gt; | adjusted_upper_CI &lt;dbl&gt; |\n",
       "|---|---|---|---|---|---|---|---|---|\n",
       "| 1x Centre + Batch | 0.0005622 | 0.00205 | prs_std_hdl | -0.002413 | 0.0003903 | -6.182 | -0.003178 | -0.001648 |\n",
       "\n"
      ],
      "text/plain": [
       "  bound_label       r2dz.x    r2yz.dx treatment   adjusted_estimate adjusted_se\n",
       "1 1x Centre + Batch 0.0005622 0.00205 prs_std_hdl -0.002413         0.0003903  \n",
       "  adjusted_t adjusted_lower_CI adjusted_upper_CI\n",
       "1 -6.182     -0.003178         -0.001648        "
      ]
     },
     "metadata": {},
     "output_type": "display_data"
    }
   ],
   "source": [
    "sense.rf.chd.batch <- sensemakr(model = reduced.form.chd,\n",
    "                              treatment = \"prs_std_hdl\",\n",
    "                              benchmark_covariates = list(`Centre + Batch` = c(assessment_centre, batch_effects)),\n",
    "                              kd = c(1))\n",
    "sense.rf.chd.batch$bounds"
   ]
  },
  {
   "cell_type": "code",
   "execution_count": 35,
   "metadata": {},
   "outputs": [
    {
     "data": {
      "text/html": [
       "<table class=\"dataframe\">\n",
       "<caption>A ovb_bounds: 1 × 9</caption>\n",
       "<thead>\n",
       "\t<tr><th scope=col>bound_label</th><th scope=col>r2dz.x</th><th scope=col>r2yz.dx</th><th scope=col>treatment</th><th scope=col>adjusted_estimate</th><th scope=col>adjusted_se</th><th scope=col>adjusted_t</th><th scope=col>adjusted_lower_CI</th><th scope=col>adjusted_upper_CI</th></tr>\n",
       "\t<tr><th scope=col>&lt;chr&gt;</th><th scope=col>&lt;dbl&gt;</th><th scope=col>&lt;dbl&gt;</th><th scope=col>&lt;chr&gt;</th><th scope=col>&lt;dbl&gt;</th><th scope=col>&lt;dbl&gt;</th><th scope=col>&lt;numeric&gt;</th><th scope=col>&lt;dbl&gt;</th><th scope=col>&lt;dbl&gt;</th></tr>\n",
       "</thead>\n",
       "<tbody>\n",
       "\t<tr><td>1x Smoking + Alcohol</td><td>0.00009562</td><td>0.003756</td><td>prs_std_hdl</td><td>-0.002506</td><td>0.0003899</td><td>-6.427</td><td>-0.00327</td><td>-0.001742</td></tr>\n",
       "</tbody>\n",
       "</table>\n"
      ],
      "text/latex": [
       "A ovb\\_bounds: 1 × 9\n",
       "\\begin{tabular}{lllllllll}\n",
       " bound\\_label & r2dz.x & r2yz.dx & treatment & adjusted\\_estimate & adjusted\\_se & adjusted\\_t & adjusted\\_lower\\_CI & adjusted\\_upper\\_CI\\\\\n",
       " <chr> & <dbl> & <dbl> & <chr> & <dbl> & <dbl> & <numeric> & <dbl> & <dbl>\\\\\n",
       "\\hline\n",
       "\t 1x Smoking + Alcohol & 0.00009562 & 0.003756 & prs\\_std\\_hdl & -0.002506 & 0.0003899 & -6.427 & -0.00327 & -0.001742\\\\\n",
       "\\end{tabular}\n"
      ],
      "text/markdown": [
       "\n",
       "A ovb_bounds: 1 × 9\n",
       "\n",
       "| bound_label &lt;chr&gt; | r2dz.x &lt;dbl&gt; | r2yz.dx &lt;dbl&gt; | treatment &lt;chr&gt; | adjusted_estimate &lt;dbl&gt; | adjusted_se &lt;dbl&gt; | adjusted_t &lt;numeric&gt; | adjusted_lower_CI &lt;dbl&gt; | adjusted_upper_CI &lt;dbl&gt; |\n",
       "|---|---|---|---|---|---|---|---|---|\n",
       "| 1x Smoking + Alcohol | 0.00009562 | 0.003756 | prs_std_hdl | -0.002506 | 0.0003899 | -6.427 | -0.00327 | -0.001742 |\n",
       "\n"
      ],
      "text/plain": [
       "  bound_label          r2dz.x     r2yz.dx  treatment   adjusted_estimate\n",
       "1 1x Smoking + Alcohol 0.00009562 0.003756 prs_std_hdl -0.002506        \n",
       "  adjusted_se adjusted_t adjusted_lower_CI adjusted_upper_CI\n",
       "1 0.0003899   -6.427     -0.00327          -0.001742        "
      ]
     },
     "metadata": {},
     "output_type": "display_data"
    }
   ],
   "source": [
    "sense.rf.chd.smokealc <- sensemakr(model = reduced.form.chd,\n",
    "                              treatment = \"prs_std_hdl\",\n",
    "                              benchmark_covariates = list(`Smoking + Alcohol` = c(smoking, alcohol)),\n",
    "                              kd = c(1))\n",
    "sense.rf.chd.smokealc$bounds"
   ]
  },
  {
   "cell_type": "code",
   "execution_count": 36,
   "metadata": {},
   "outputs": [
    {
     "data": {
      "text/html": [
       "<table class=\"dataframe\">\n",
       "<caption>A ovb_bounds: 1 × 9</caption>\n",
       "<thead>\n",
       "\t<tr><th scope=col>bound_label</th><th scope=col>r2dz.x</th><th scope=col>r2yz.dx</th><th scope=col>treatment</th><th scope=col>adjusted_estimate</th><th scope=col>adjusted_se</th><th scope=col>adjusted_t</th><th scope=col>adjusted_lower_CI</th><th scope=col>adjusted_upper_CI</th></tr>\n",
       "\t<tr><th scope=col>&lt;chr&gt;</th><th scope=col>&lt;dbl&gt;</th><th scope=col>&lt;dbl&gt;</th><th scope=col>&lt;chr&gt;</th><th scope=col>&lt;dbl&gt;</th><th scope=col>&lt;dbl&gt;</th><th scope=col>&lt;numeric&gt;</th><th scope=col>&lt;dbl&gt;</th><th scope=col>&lt;dbl&gt;</th></tr>\n",
       "</thead>\n",
       "<tbody>\n",
       "\t<tr><td>1x LDL + Triglycerides</td><td>0.01042</td><td>0.04198</td><td>prs_std_hdl</td><td>0.001505</td><td>0.0003843</td><td>3.916</td><td>0.0007516</td><td>0.002258</td></tr>\n",
       "</tbody>\n",
       "</table>\n"
      ],
      "text/latex": [
       "A ovb\\_bounds: 1 × 9\n",
       "\\begin{tabular}{lllllllll}\n",
       " bound\\_label & r2dz.x & r2yz.dx & treatment & adjusted\\_estimate & adjusted\\_se & adjusted\\_t & adjusted\\_lower\\_CI & adjusted\\_upper\\_CI\\\\\n",
       " <chr> & <dbl> & <dbl> & <chr> & <dbl> & <dbl> & <numeric> & <dbl> & <dbl>\\\\\n",
       "\\hline\n",
       "\t 1x LDL + Triglycerides & 0.01042 & 0.04198 & prs\\_std\\_hdl & 0.001505 & 0.0003843 & 3.916 & 0.0007516 & 0.002258\\\\\n",
       "\\end{tabular}\n"
      ],
      "text/markdown": [
       "\n",
       "A ovb_bounds: 1 × 9\n",
       "\n",
       "| bound_label &lt;chr&gt; | r2dz.x &lt;dbl&gt; | r2yz.dx &lt;dbl&gt; | treatment &lt;chr&gt; | adjusted_estimate &lt;dbl&gt; | adjusted_se &lt;dbl&gt; | adjusted_t &lt;numeric&gt; | adjusted_lower_CI &lt;dbl&gt; | adjusted_upper_CI &lt;dbl&gt; |\n",
       "|---|---|---|---|---|---|---|---|---|\n",
       "| 1x LDL + Triglycerides | 0.01042 | 0.04198 | prs_std_hdl | 0.001505 | 0.0003843 | 3.916 | 0.0007516 | 0.002258 |\n",
       "\n"
      ],
      "text/plain": [
       "  bound_label            r2dz.x  r2yz.dx treatment   adjusted_estimate\n",
       "1 1x LDL + Triglycerides 0.01042 0.04198 prs_std_hdl 0.001505         \n",
       "  adjusted_se adjusted_t adjusted_lower_CI adjusted_upper_CI\n",
       "1 0.0003843   3.916      0.0007516         0.002258         "
      ]
     },
     "metadata": {},
     "output_type": "display_data"
    }
   ],
   "source": [
    "sense.rf.chd.ldltrig <- sensemakr(model = reduced.form.chd,\n",
    "                              treatment = \"prs_std_hdl\",\n",
    "                              benchmark_covariates = list(`LDL + Triglycerides` = c(ldl, trig)),\n",
    "                              kd = c(1))\n",
    "sense.rf.chd.ldltrig$bounds"
   ]
  },
  {
   "cell_type": "code",
   "execution_count": 37,
   "metadata": {},
   "outputs": [
    {
     "data": {
      "text/html": [
       "<table class=\"dataframe\">\n",
       "<caption>A ovb_bounds: 1 × 9</caption>\n",
       "<thead>\n",
       "\t<tr><th scope=col>bound_label</th><th scope=col>r2dz.x</th><th scope=col>r2yz.dx</th><th scope=col>treatment</th><th scope=col>adjusted_estimate</th><th scope=col>adjusted_se</th><th scope=col>adjusted_t</th><th scope=col>adjusted_lower_CI</th><th scope=col>adjusted_upper_CI</th></tr>\n",
       "\t<tr><th scope=col>&lt;chr&gt;</th><th scope=col>&lt;dbl&gt;</th><th scope=col>&lt;dbl&gt;</th><th scope=col>&lt;chr&gt;</th><th scope=col>&lt;dbl&gt;</th><th scope=col>&lt;dbl&gt;</th><th scope=col>&lt;numeric&gt;</th><th scope=col>&lt;dbl&gt;</th><th scope=col>&lt;dbl&gt;</th></tr>\n",
       "</thead>\n",
       "<tbody>\n",
       "\t<tr><td>1x LDL</td><td>0.0001567</td><td>0.04112</td><td>prs_std_hdl</td><td>-0.002125</td><td>0.0003825</td><td>-5.556</td><td>-0.002875</td><td>-0.001375</td></tr>\n",
       "</tbody>\n",
       "</table>\n"
      ],
      "text/latex": [
       "A ovb\\_bounds: 1 × 9\n",
       "\\begin{tabular}{lllllllll}\n",
       " bound\\_label & r2dz.x & r2yz.dx & treatment & adjusted\\_estimate & adjusted\\_se & adjusted\\_t & adjusted\\_lower\\_CI & adjusted\\_upper\\_CI\\\\\n",
       " <chr> & <dbl> & <dbl> & <chr> & <dbl> & <dbl> & <numeric> & <dbl> & <dbl>\\\\\n",
       "\\hline\n",
       "\t 1x LDL & 0.0001567 & 0.04112 & prs\\_std\\_hdl & -0.002125 & 0.0003825 & -5.556 & -0.002875 & -0.001375\\\\\n",
       "\\end{tabular}\n"
      ],
      "text/markdown": [
       "\n",
       "A ovb_bounds: 1 × 9\n",
       "\n",
       "| bound_label &lt;chr&gt; | r2dz.x &lt;dbl&gt; | r2yz.dx &lt;dbl&gt; | treatment &lt;chr&gt; | adjusted_estimate &lt;dbl&gt; | adjusted_se &lt;dbl&gt; | adjusted_t &lt;numeric&gt; | adjusted_lower_CI &lt;dbl&gt; | adjusted_upper_CI &lt;dbl&gt; |\n",
       "|---|---|---|---|---|---|---|---|---|\n",
       "| 1x LDL | 0.0001567 | 0.04112 | prs_std_hdl | -0.002125 | 0.0003825 | -5.556 | -0.002875 | -0.001375 |\n",
       "\n"
      ],
      "text/plain": [
       "  bound_label r2dz.x    r2yz.dx treatment   adjusted_estimate adjusted_se\n",
       "1 1x LDL      0.0001567 0.04112 prs_std_hdl -0.002125         0.0003825  \n",
       "  adjusted_t adjusted_lower_CI adjusted_upper_CI\n",
       "1 -5.556     -0.002875         -0.001375        "
      ]
     },
     "metadata": {},
     "output_type": "display_data"
    }
   ],
   "source": [
    "sense.rf.chd.ldl <- sensemakr(model = reduced.form.chd,\n",
    "                              treatment = \"prs_std_hdl\",\n",
    "                              benchmark_covariates = list(`LDL` = ldl),\n",
    "                              kd = c(1))\n",
    "sense.rf.chd.ldl$bounds"
   ]
  },
  {
   "cell_type": "code",
   "execution_count": 38,
   "metadata": {},
   "outputs": [
    {
     "data": {
      "text/html": [
       "<table class=\"dataframe\">\n",
       "<caption>A ovb_bounds: 1 × 9</caption>\n",
       "<thead>\n",
       "\t<tr><th scope=col>bound_label</th><th scope=col>r2dz.x</th><th scope=col>r2yz.dx</th><th scope=col>treatment</th><th scope=col>adjusted_estimate</th><th scope=col>adjusted_se</th><th scope=col>adjusted_t</th><th scope=col>adjusted_lower_CI</th><th scope=col>adjusted_upper_CI</th></tr>\n",
       "\t<tr><th scope=col>&lt;chr&gt;</th><th scope=col>&lt;dbl&gt;</th><th scope=col>&lt;dbl&gt;</th><th scope=col>&lt;chr&gt;</th><th scope=col>&lt;dbl&gt;</th><th scope=col>&lt;dbl&gt;</th><th scope=col>&lt;numeric&gt;</th><th scope=col>&lt;dbl&gt;</th><th scope=col>&lt;dbl&gt;</th></tr>\n",
       "</thead>\n",
       "<tbody>\n",
       "\t<tr><td>1x Triglycerides</td><td>0.01026</td><td>0.002605</td><td>prs_std_hdl</td><td>-0.001603</td><td>0.0003921</td><td>-4.089</td><td>-0.002372</td><td>-0.0008347</td></tr>\n",
       "</tbody>\n",
       "</table>\n"
      ],
      "text/latex": [
       "A ovb\\_bounds: 1 × 9\n",
       "\\begin{tabular}{lllllllll}\n",
       " bound\\_label & r2dz.x & r2yz.dx & treatment & adjusted\\_estimate & adjusted\\_se & adjusted\\_t & adjusted\\_lower\\_CI & adjusted\\_upper\\_CI\\\\\n",
       " <chr> & <dbl> & <dbl> & <chr> & <dbl> & <dbl> & <numeric> & <dbl> & <dbl>\\\\\n",
       "\\hline\n",
       "\t 1x Triglycerides & 0.01026 & 0.002605 & prs\\_std\\_hdl & -0.001603 & 0.0003921 & -4.089 & -0.002372 & -0.0008347\\\\\n",
       "\\end{tabular}\n"
      ],
      "text/markdown": [
       "\n",
       "A ovb_bounds: 1 × 9\n",
       "\n",
       "| bound_label &lt;chr&gt; | r2dz.x &lt;dbl&gt; | r2yz.dx &lt;dbl&gt; | treatment &lt;chr&gt; | adjusted_estimate &lt;dbl&gt; | adjusted_se &lt;dbl&gt; | adjusted_t &lt;numeric&gt; | adjusted_lower_CI &lt;dbl&gt; | adjusted_upper_CI &lt;dbl&gt; |\n",
       "|---|---|---|---|---|---|---|---|---|\n",
       "| 1x Triglycerides | 0.01026 | 0.002605 | prs_std_hdl | -0.001603 | 0.0003921 | -4.089 | -0.002372 | -0.0008347 |\n",
       "\n"
      ],
      "text/plain": [
       "  bound_label      r2dz.x  r2yz.dx  treatment   adjusted_estimate adjusted_se\n",
       "1 1x Triglycerides 0.01026 0.002605 prs_std_hdl -0.001603         0.0003921  \n",
       "  adjusted_t adjusted_lower_CI adjusted_upper_CI\n",
       "1 -4.089     -0.002372         -0.0008347       "
      ]
     },
     "metadata": {},
     "output_type": "display_data"
    }
   ],
   "source": [
    "sense.rf.chd.trig <- sensemakr(model = reduced.form.chd,\n",
    "                              treatment = \"prs_std_hdl\",\n",
    "                              benchmark_covariates = list(`Triglycerides` = trig),\n",
    "                              kd = c(1))\n",
    "sense.rf.chd.trig$bounds"
   ]
  },
  {
   "cell_type": "code",
   "execution_count": 39,
   "metadata": {},
   "outputs": [
    {
     "data": {
      "text/html": [
       "<table class=\"dataframe\">\n",
       "<caption>A ovb_bounds: 1 × 9</caption>\n",
       "<thead>\n",
       "\t<tr><th scope=col>bound_label</th><th scope=col>r2dz.x</th><th scope=col>r2yz.dx</th><th scope=col>treatment</th><th scope=col>adjusted_estimate</th><th scope=col>adjusted_se</th><th scope=col>adjusted_t</th><th scope=col>adjusted_lower_CI</th><th scope=col>adjusted_upper_CI</th></tr>\n",
       "\t<tr><th scope=col>&lt;chr&gt;</th><th scope=col>&lt;dbl&gt;</th><th scope=col>&lt;dbl&gt;</th><th scope=col>&lt;chr&gt;</th><th scope=col>&lt;dbl&gt;</th><th scope=col>&lt;dbl&gt;</th><th scope=col>&lt;numeric&gt;</th><th scope=col>&lt;dbl&gt;</th><th scope=col>&lt;dbl&gt;</th></tr>\n",
       "</thead>\n",
       "<tbody>\n",
       "\t<tr><td>1x Pop. Strat.</td><td>0.0008269</td><td>0.0003324</td><td>prs_std_hdl</td><td>0.2135</td><td>0.0015</td><td>142.4</td><td>0.2106</td><td>0.2165</td></tr>\n",
       "</tbody>\n",
       "</table>\n"
      ],
      "text/latex": [
       "A ovb\\_bounds: 1 × 9\n",
       "\\begin{tabular}{lllllllll}\n",
       " bound\\_label & r2dz.x & r2yz.dx & treatment & adjusted\\_estimate & adjusted\\_se & adjusted\\_t & adjusted\\_lower\\_CI & adjusted\\_upper\\_CI\\\\\n",
       " <chr> & <dbl> & <dbl> & <chr> & <dbl> & <dbl> & <numeric> & <dbl> & <dbl>\\\\\n",
       "\\hline\n",
       "\t 1x Pop. Strat. & 0.0008269 & 0.0003324 & prs\\_std\\_hdl & 0.2135 & 0.0015 & 142.4 & 0.2106 & 0.2165\\\\\n",
       "\\end{tabular}\n"
      ],
      "text/markdown": [
       "\n",
       "A ovb_bounds: 1 × 9\n",
       "\n",
       "| bound_label &lt;chr&gt; | r2dz.x &lt;dbl&gt; | r2yz.dx &lt;dbl&gt; | treatment &lt;chr&gt; | adjusted_estimate &lt;dbl&gt; | adjusted_se &lt;dbl&gt; | adjusted_t &lt;numeric&gt; | adjusted_lower_CI &lt;dbl&gt; | adjusted_upper_CI &lt;dbl&gt; |\n",
       "|---|---|---|---|---|---|---|---|---|\n",
       "| 1x Pop. Strat. | 0.0008269 | 0.0003324 | prs_std_hdl | 0.2135 | 0.0015 | 142.4 | 0.2106 | 0.2165 |\n",
       "\n"
      ],
      "text/plain": [
       "  bound_label    r2dz.x    r2yz.dx   treatment   adjusted_estimate adjusted_se\n",
       "1 1x Pop. Strat. 0.0008269 0.0003324 prs_std_hdl 0.2135            0.0015     \n",
       "  adjusted_t adjusted_lower_CI adjusted_upper_CI\n",
       "1 142.4      0.2106            0.2165           "
      ]
     },
     "metadata": {},
     "output_type": "display_data"
    }
   ],
   "source": [
    "sense.fs.chd.pcs <- sensemakr(model = first.stage,\n",
    "                              treatment = \"prs_std_hdl\",\n",
    "                              benchmark_covariates = list(`Pop. Strat.` = PCs),\n",
    "                              kd = c(1))\n",
    "sense.fs.chd.pcs$bounds"
   ]
  },
  {
   "cell_type": "code",
   "execution_count": 40,
   "metadata": {},
   "outputs": [
    {
     "data": {
      "text/html": [
       "<table class=\"dataframe\">\n",
       "<caption>A ovb_bounds: 1 × 9</caption>\n",
       "<thead>\n",
       "\t<tr><th scope=col>bound_label</th><th scope=col>r2dz.x</th><th scope=col>r2yz.dx</th><th scope=col>treatment</th><th scope=col>adjusted_estimate</th><th scope=col>adjusted_se</th><th scope=col>adjusted_t</th><th scope=col>adjusted_lower_CI</th><th scope=col>adjusted_upper_CI</th></tr>\n",
       "\t<tr><th scope=col>&lt;chr&gt;</th><th scope=col>&lt;dbl&gt;</th><th scope=col>&lt;dbl&gt;</th><th scope=col>&lt;chr&gt;</th><th scope=col>&lt;dbl&gt;</th><th scope=col>&lt;dbl&gt;</th><th scope=col>&lt;numeric&gt;</th><th scope=col>&lt;dbl&gt;</th><th scope=col>&lt;dbl&gt;</th></tr>\n",
       "</thead>\n",
       "<tbody>\n",
       "\t<tr><td>1x Centre + Batch</td><td>0.0005622</td><td>0.003805</td><td>prs_std_hdl</td><td>0.2128</td><td>0.001497</td><td>142.2</td><td>0.2099</td><td>0.2158</td></tr>\n",
       "</tbody>\n",
       "</table>\n"
      ],
      "text/latex": [
       "A ovb\\_bounds: 1 × 9\n",
       "\\begin{tabular}{lllllllll}\n",
       " bound\\_label & r2dz.x & r2yz.dx & treatment & adjusted\\_estimate & adjusted\\_se & adjusted\\_t & adjusted\\_lower\\_CI & adjusted\\_upper\\_CI\\\\\n",
       " <chr> & <dbl> & <dbl> & <chr> & <dbl> & <dbl> & <numeric> & <dbl> & <dbl>\\\\\n",
       "\\hline\n",
       "\t 1x Centre + Batch & 0.0005622 & 0.003805 & prs\\_std\\_hdl & 0.2128 & 0.001497 & 142.2 & 0.2099 & 0.2158\\\\\n",
       "\\end{tabular}\n"
      ],
      "text/markdown": [
       "\n",
       "A ovb_bounds: 1 × 9\n",
       "\n",
       "| bound_label &lt;chr&gt; | r2dz.x &lt;dbl&gt; | r2yz.dx &lt;dbl&gt; | treatment &lt;chr&gt; | adjusted_estimate &lt;dbl&gt; | adjusted_se &lt;dbl&gt; | adjusted_t &lt;numeric&gt; | adjusted_lower_CI &lt;dbl&gt; | adjusted_upper_CI &lt;dbl&gt; |\n",
       "|---|---|---|---|---|---|---|---|---|\n",
       "| 1x Centre + Batch | 0.0005622 | 0.003805 | prs_std_hdl | 0.2128 | 0.001497 | 142.2 | 0.2099 | 0.2158 |\n",
       "\n"
      ],
      "text/plain": [
       "  bound_label       r2dz.x    r2yz.dx  treatment   adjusted_estimate\n",
       "1 1x Centre + Batch 0.0005622 0.003805 prs_std_hdl 0.2128           \n",
       "  adjusted_se adjusted_t adjusted_lower_CI adjusted_upper_CI\n",
       "1 0.001497    142.2      0.2099            0.2158           "
      ]
     },
     "metadata": {},
     "output_type": "display_data"
    }
   ],
   "source": [
    "sense.fs.chd.batch <- sensemakr(model = first.stage,\n",
    "                              treatment = \"prs_std_hdl\",\n",
    "                              benchmark_covariates = list(`Centre + Batch` = c(assessment_centre, batch_effects)),\n",
    "                              kd = c(1))\n",
    "sense.fs.chd.batch$bounds"
   ]
  },
  {
   "cell_type": "code",
   "execution_count": 41,
   "metadata": {},
   "outputs": [
    {
     "data": {
      "text/html": [
       "<table class=\"dataframe\">\n",
       "<caption>A ovb_bounds: 1 × 9</caption>\n",
       "<thead>\n",
       "\t<tr><th scope=col>bound_label</th><th scope=col>r2dz.x</th><th scope=col>r2yz.dx</th><th scope=col>treatment</th><th scope=col>adjusted_estimate</th><th scope=col>adjusted_se</th><th scope=col>adjusted_t</th><th scope=col>adjusted_lower_CI</th><th scope=col>adjusted_upper_CI</th></tr>\n",
       "\t<tr><th scope=col>&lt;chr&gt;</th><th scope=col>&lt;dbl&gt;</th><th scope=col>&lt;dbl&gt;</th><th scope=col>&lt;chr&gt;</th><th scope=col>&lt;dbl&gt;</th><th scope=col>&lt;dbl&gt;</th><th scope=col>&lt;numeric&gt;</th><th scope=col>&lt;dbl&gt;</th><th scope=col>&lt;dbl&gt;</th></tr>\n",
       "</thead>\n",
       "<tbody>\n",
       "\t<tr><td>1x LDL + Triglycerides</td><td>0.01042</td><td>0.2175</td><td>prs_std_hdl</td><td>0.1779</td><td>0.001333</td><td>133.4</td><td>0.1752</td><td>0.1805</td></tr>\n",
       "</tbody>\n",
       "</table>\n"
      ],
      "text/latex": [
       "A ovb\\_bounds: 1 × 9\n",
       "\\begin{tabular}{lllllllll}\n",
       " bound\\_label & r2dz.x & r2yz.dx & treatment & adjusted\\_estimate & adjusted\\_se & adjusted\\_t & adjusted\\_lower\\_CI & adjusted\\_upper\\_CI\\\\\n",
       " <chr> & <dbl> & <dbl> & <chr> & <dbl> & <dbl> & <numeric> & <dbl> & <dbl>\\\\\n",
       "\\hline\n",
       "\t 1x LDL + Triglycerides & 0.01042 & 0.2175 & prs\\_std\\_hdl & 0.1779 & 0.001333 & 133.4 & 0.1752 & 0.1805\\\\\n",
       "\\end{tabular}\n"
      ],
      "text/markdown": [
       "\n",
       "A ovb_bounds: 1 × 9\n",
       "\n",
       "| bound_label &lt;chr&gt; | r2dz.x &lt;dbl&gt; | r2yz.dx &lt;dbl&gt; | treatment &lt;chr&gt; | adjusted_estimate &lt;dbl&gt; | adjusted_se &lt;dbl&gt; | adjusted_t &lt;numeric&gt; | adjusted_lower_CI &lt;dbl&gt; | adjusted_upper_CI &lt;dbl&gt; |\n",
       "|---|---|---|---|---|---|---|---|---|\n",
       "| 1x LDL + Triglycerides | 0.01042 | 0.2175 | prs_std_hdl | 0.1779 | 0.001333 | 133.4 | 0.1752 | 0.1805 |\n",
       "\n"
      ],
      "text/plain": [
       "  bound_label            r2dz.x  r2yz.dx treatment   adjusted_estimate\n",
       "1 1x LDL + Triglycerides 0.01042 0.2175  prs_std_hdl 0.1779           \n",
       "  adjusted_se adjusted_t adjusted_lower_CI adjusted_upper_CI\n",
       "1 0.001333    133.4      0.1752            0.1805           "
      ]
     },
     "metadata": {},
     "output_type": "display_data"
    }
   ],
   "source": [
    "sense.fs.chd.ldltrig <- sensemakr(model = first.stage,\n",
    "                              treatment = \"prs_std_hdl\",\n",
    "                              benchmark_covariates = list(`LDL + Triglycerides` = c(ldl, trig)),\n",
    "                              kd = c(1))\n",
    "sense.fs.chd.ldltrig$bounds"
   ]
  },
  {
   "cell_type": "code",
   "execution_count": 42,
   "metadata": {
    "collapsed": true
   },
   "outputs": [],
   "source": [
    "#\n",
    "#\n",
    "#\n",
    "#######################\n",
    "# END HDL ; BELOW LDL #\n",
    "#######################\n",
    "#\n",
    "#\n",
    "#"
   ]
  },
  {
   "cell_type": "code",
   "execution_count": 54,
   "metadata": {
    "collapsed": true
   },
   "outputs": [],
   "source": [
    "ldl_X_age_sex_only  <- model.matrix(~ age + I(age^2) + sex, data=data)"
   ]
  },
  {
   "cell_type": "code",
   "execution_count": 55,
   "metadata": {},
   "outputs": [
    {
     "name": "stderr",
     "output_type": "stream",
     "text": [
      "Warning message in ivmodel(Y = data$chd, D = data$ldl_std, Z = data$prs_std_ldl, :\n",
      "“Trying to add the intercept term of ones, \n",
      "                    but X already contains a constant covariate! Check your X. For now,\n",
      "                    we'll not add an intercept term in X to avoid rank deficiency.”\n"
     ]
    }
   ],
   "source": [
    "ldl_ivmodel.chd.age_sex_only <- ivmodel(Y = data$chd, D = data$ldl_std, Z = data$prs_std_ldl, X = ldl_X_age_sex_only)"
   ]
  },
  {
   "cell_type": "code",
   "execution_count": 56,
   "metadata": {},
   "outputs": [
    {
     "data": {
      "text/plain": [
       "\n",
       "Call:\n",
       "ivmodel(Y = data$chd, D = data$ldl_std, Z = data$prs_std_ldl, \n",
       "    X = ldl_X_age_sex_only)\n",
       "sample size: 252854\n",
       "_ _ _ _ _ _ _ _ _ _ _ _ _ _ _ _ _ _ _ _ _ _ _ _ _ _ _ _ _ _ \n",
       "\n",
       "First Stage Regression Result:\n",
       "\n",
       "F=3513, df1=1, df2=252849, p-value is <0.0000000000000002\n",
       "R-squared=0.0137,   Adjusted R-squared=0.0137\n",
       "Residual standard error: 0.983 on 252850 degrees of freedom\n",
       "_ _ _ _ _ _ _ _ _ _ _ _ _ _ _ _ _ _ _ _ _ _ _ _ _ _ _ _ _ _ \n",
       "\n",
       "Coefficients of k-Class Estimators:\n",
       "\n",
       "               k  Estimate Std. Error t value            Pr(>|t|)    \n",
       "OLS     0.000000 -0.039031   0.000394   -99.1 <0.0000000000000002 ***\n",
       "Fuller  0.999996  0.037613   0.003609    10.4 <0.0000000000000002 ***\n",
       "TSLS    1.000000  0.037635   0.003609    10.4 <0.0000000000000002 ***\n",
       "LIML    1.000000  0.037635   0.003609    10.4 <0.0000000000000002 ***\n",
       "---\n",
       "Signif. codes:  0 ‘***’ 0.001 ‘**’ 0.01 ‘*’ 0.05 ‘.’ 0.1 ‘ ’ 1\n",
       "_ _ _ _ _ _ _ _ _ _ _ _ _ _ _ _ _ _ _ _ _ _ _ _ _ _ _ _ _ _ \n",
       "\n",
       "Alternative tests for the treatment effect under H_0: beta=0.\n",
       "\n",
       "Anderson-Rubin test (under F distribution):\n",
       "F=120.4, df1=1, df2=252849, p-value is <0.0000000000000002\n",
       "95 percent confidence interval:\n",
       " [0.0306418641798628, 0.0447985202459146]\n",
       "\n",
       "Conditional Likelihood Ratio test (under Normal approximation):\n",
       "Test Stat=120.4, p-value is <0.0000000000000002\n",
       "95 percent confidence interval:\n",
       " [0.0306418641830492, 0.0447985202425653]"
      ]
     },
     "metadata": {},
     "output_type": "display_data"
    },
    {
     "data": {
      "text/html": [
       "<table class=\"dataframe\">\n",
       "<caption>A matrix: 6 × 2 of type dbl</caption>\n",
       "<thead>\n",
       "\t<tr><th></th><th scope=col>2.5%</th><th scope=col>97.5%</th></tr>\n",
       "</thead>\n",
       "<tbody>\n",
       "\t<tr><th scope=row>OLS</th><td>-0.03980</td><td>-0.03826</td></tr>\n",
       "\t<tr><th scope=row>Fuller</th><td> 0.03054</td><td> 0.04469</td></tr>\n",
       "\t<tr><th scope=row>TSLS</th><td> 0.03056</td><td> 0.04471</td></tr>\n",
       "\t<tr><th scope=row>LIML</th><td> 0.03056</td><td> 0.04471</td></tr>\n",
       "\t<tr><th scope=row>AR</th><td> 0.03064</td><td> 0.04480</td></tr>\n",
       "\t<tr><th scope=row>CLR</th><td> 0.03064</td><td> 0.04480</td></tr>\n",
       "</tbody>\n",
       "</table>\n"
      ],
      "text/latex": [
       "A matrix: 6 × 2 of type dbl\n",
       "\\begin{tabular}{r|ll}\n",
       "  & 2.5\\% & 97.5\\%\\\\\n",
       "\\hline\n",
       "\tOLS & -0.03980 & -0.03826\\\\\n",
       "\tFuller &  0.03054 &  0.04469\\\\\n",
       "\tTSLS &  0.03056 &  0.04471\\\\\n",
       "\tLIML &  0.03056 &  0.04471\\\\\n",
       "\tAR &  0.03064 &  0.04480\\\\\n",
       "\tCLR &  0.03064 &  0.04480\\\\\n",
       "\\end{tabular}\n"
      ],
      "text/markdown": [
       "\n",
       "A matrix: 6 × 2 of type dbl\n",
       "\n",
       "| <!--/--> | 2.5% | 97.5% |\n",
       "|---|---|---|\n",
       "| OLS | -0.03980 | -0.03826 |\n",
       "| Fuller |  0.03054 |  0.04469 |\n",
       "| TSLS |  0.03056 |  0.04471 |\n",
       "| LIML |  0.03056 |  0.04471 |\n",
       "| AR |  0.03064 |  0.04480 |\n",
       "| CLR |  0.03064 |  0.04480 |\n",
       "\n"
      ],
      "text/plain": [
       "       2.5%     97.5%   \n",
       "OLS    -0.03980 -0.03826\n",
       "Fuller  0.03054  0.04469\n",
       "TSLS    0.03056  0.04471\n",
       "LIML    0.03056  0.04471\n",
       "AR      0.03064  0.04480\n",
       "CLR     0.03064  0.04480"
      ]
     },
     "metadata": {},
     "output_type": "display_data"
    }
   ],
   "source": [
    "summary(ldl_ivmodel.chd.age_sex_only)\n",
    "confint(ldl_ivmodel.chd.age_sex_only)"
   ]
  },
  {
   "cell_type": "code",
   "execution_count": 20,
   "metadata": {
    "collapsed": true
   },
   "outputs": [],
   "source": [
    "ldl_X_no_hdl_trig <- model.matrix(~ age + I(age^2) + sex +\n",
    "                         #hdl_std + trig_std +\n",
    "                         #alcohol + smoking +\n",
    "                         assessment_centre + genotype_batch +\n",
    "                         PC1 + PC2 + PC3 +  PC4 + PC5 + PC6 +\n",
    "                         PC7 + PC8 + PC9 + PC10 + PC11 +\n",
    "                         PC12 + PC13 + PC14 + PC15 + PC16 + PC17 +\n",
    "                         PC18 + PC19 + PC20, data= data)"
   ]
  },
  {
   "cell_type": "code",
   "execution_count": 21,
   "metadata": {},
   "outputs": [
    {
     "name": "stderr",
     "output_type": "stream",
     "text": [
      "Warning message in ivmodel(Y = data$chd, D = data$ldl_std, Z = data$prs_std_ldl, :\n",
      "“Trying to add the intercept term of ones, \n",
      "                    but X already contains a constant covariate! Check your X. For now,\n",
      "                    we'll not add an intercept term in X to avoid rank deficiency.”\n"
     ]
    }
   ],
   "source": [
    "ldl_ivmodel.chd.no_hdl_trig <- ivmodel(Y = data$chd, D = data$ldl_std, Z = data$prs_std_ldl, X = ldl_X_no_hdl_trig)"
   ]
  },
  {
   "cell_type": "code",
   "execution_count": 22,
   "metadata": {},
   "outputs": [
    {
     "data": {
      "text/plain": [
       "\n",
       "Call:\n",
       "ivmodel(Y = data$chd, D = data$ldl_std, Z = data$prs_std_ldl, \n",
       "    X = ldl_X_no_hdl_trig)\n",
       "sample size: 252854\n",
       "_ _ _ _ _ _ _ _ _ _ _ _ _ _ _ _ _ _ _ _ _ _ _ _ _ _ _ _ _ _ \n",
       "\n",
       "First Stage Regression Result:\n",
       "\n",
       "F=3557, df1=1, df2=252704, p-value is <0.0000000000000002\n",
       "R-squared=0.01388,   Adjusted R-squared=0.01388\n",
       "Residual standard error: 0.9818 on 252705 degrees of freedom\n",
       "_ _ _ _ _ _ _ _ _ _ _ _ _ _ _ _ _ _ _ _ _ _ _ _ _ _ _ _ _ _ \n",
       "\n",
       "Coefficients of k-Class Estimators:\n",
       "\n",
       "               k  Estimate Std. Error t value            Pr(>|t|)    \n",
       "OLS     0.000000 -0.039006   0.000394  -99.02 <0.0000000000000002 ***\n",
       "Fuller  0.999996  0.034746   0.003568    9.74 <0.0000000000000002 ***\n",
       "TSLS    1.000000  0.034767   0.003568    9.74 <0.0000000000000002 ***\n",
       "LIML    1.000000  0.034767   0.003568    9.74 <0.0000000000000002 ***\n",
       "---\n",
       "Signif. codes:  0 ‘***’ 0.001 ‘**’ 0.01 ‘*’ 0.05 ‘.’ 0.1 ‘ ’ 1\n",
       "_ _ _ _ _ _ _ _ _ _ _ _ _ _ _ _ _ _ _ _ _ _ _ _ _ _ _ _ _ _ \n",
       "\n",
       "Alternative tests for the treatment effect under H_0: beta=0.\n",
       "\n",
       "Anderson-Rubin test (under F distribution):\n",
       "F=104.1, df1=1, df2=252704, p-value is <0.0000000000000002\n",
       "95 percent confidence interval:\n",
       " [0.0278506261962205, 0.041846013974729]\n",
       "\n",
       "Conditional Likelihood Ratio test (under Normal approximation):\n",
       "Test Stat=104.1, p-value is <0.0000000000000002\n",
       "95 percent confidence interval:\n",
       " [0.0278506261976907, 0.0418460139731862]"
      ]
     },
     "metadata": {},
     "output_type": "display_data"
    },
    {
     "data": {
      "text/html": [
       "<table class=\"dataframe\">\n",
       "<caption>A matrix: 6 × 2 of type dbl</caption>\n",
       "<thead>\n",
       "\t<tr><th></th><th scope=col>2.5%</th><th scope=col>97.5%</th></tr>\n",
       "</thead>\n",
       "<tbody>\n",
       "\t<tr><th scope=row>OLS</th><td>-0.03978</td><td>-0.03823</td></tr>\n",
       "\t<tr><th scope=row>Fuller</th><td> 0.02775</td><td> 0.04174</td></tr>\n",
       "\t<tr><th scope=row>TSLS</th><td> 0.02777</td><td> 0.04176</td></tr>\n",
       "\t<tr><th scope=row>LIML</th><td> 0.02777</td><td> 0.04176</td></tr>\n",
       "\t<tr><th scope=row>AR</th><td> 0.02785</td><td> 0.04185</td></tr>\n",
       "\t<tr><th scope=row>CLR</th><td> 0.02785</td><td> 0.04185</td></tr>\n",
       "</tbody>\n",
       "</table>\n"
      ],
      "text/latex": [
       "A matrix: 6 × 2 of type dbl\n",
       "\\begin{tabular}{r|ll}\n",
       "  & 2.5\\% & 97.5\\%\\\\\n",
       "\\hline\n",
       "\tOLS & -0.03978 & -0.03823\\\\\n",
       "\tFuller &  0.02775 &  0.04174\\\\\n",
       "\tTSLS &  0.02777 &  0.04176\\\\\n",
       "\tLIML &  0.02777 &  0.04176\\\\\n",
       "\tAR &  0.02785 &  0.04185\\\\\n",
       "\tCLR &  0.02785 &  0.04185\\\\\n",
       "\\end{tabular}\n"
      ],
      "text/markdown": [
       "\n",
       "A matrix: 6 × 2 of type dbl\n",
       "\n",
       "| <!--/--> | 2.5% | 97.5% |\n",
       "|---|---|---|\n",
       "| OLS | -0.03978 | -0.03823 |\n",
       "| Fuller |  0.02775 |  0.04174 |\n",
       "| TSLS |  0.02777 |  0.04176 |\n",
       "| LIML |  0.02777 |  0.04176 |\n",
       "| AR |  0.02785 |  0.04185 |\n",
       "| CLR |  0.02785 |  0.04185 |\n",
       "\n"
      ],
      "text/plain": [
       "       2.5%     97.5%   \n",
       "OLS    -0.03978 -0.03823\n",
       "Fuller  0.02775  0.04174\n",
       "TSLS    0.02777  0.04176\n",
       "LIML    0.02777  0.04176\n",
       "AR      0.02785  0.04185\n",
       "CLR     0.02785  0.04185"
      ]
     },
     "metadata": {},
     "output_type": "display_data"
    }
   ],
   "source": [
    "summary(ldl_ivmodel.chd.no_hdl_trig)\n",
    "confint(ldl_ivmodel.chd.no_hdl_trig)"
   ]
  },
  {
   "cell_type": "code",
   "execution_count": 23,
   "metadata": {
    "collapsed": true
   },
   "outputs": [],
   "source": [
    "ldl_X <- model.matrix(~age + I(age^2) + sex +\n",
    "                         hdl_std + trig_std +\n",
    "                         #alcohol + smoking +\n",
    "                         assessment_centre + genotype_batch +\n",
    "                         PC1 + PC2 + PC3 +  PC4 + PC5 + PC6 +\n",
    "                         PC7 + PC8 + PC9 + PC10 + PC11 +\n",
    "                         PC12 + PC13 + PC14 + PC15 + PC16 + PC17 +\n",
    "                         PC18 + PC19 + PC20, data= data)"
   ]
  },
  {
   "cell_type": "code",
   "execution_count": 24,
   "metadata": {},
   "outputs": [
    {
     "name": "stderr",
     "output_type": "stream",
     "text": [
      "Warning message in ivmodel(Y = data$chd, D = data$ldl_std, Z = data$prs_std_ldl, :\n",
      "“Trying to add the intercept term of ones, \n",
      "                    but X already contains a constant covariate! Check your X. For now,\n",
      "                    we'll not add an intercept term in X to avoid rank deficiency.”\n"
     ]
    }
   ],
   "source": [
    "ldl_ivmodel.chd <- ivmodel(Y = data$chd, D = data$ldl_std, Z = data$prs_std_ldl, X = ldl_X)"
   ]
  },
  {
   "cell_type": "code",
   "execution_count": 25,
   "metadata": {},
   "outputs": [
    {
     "data": {
      "text/plain": [
       "\n",
       "Call:\n",
       "ivmodel(Y = data$chd, D = data$ldl_std, Z = data$prs_std_ldl, \n",
       "    X = ldl_X)\n",
       "sample size: 252854\n",
       "_ _ _ _ _ _ _ _ _ _ _ _ _ _ _ _ _ _ _ _ _ _ _ _ _ _ _ _ _ _ \n",
       "\n",
       "First Stage Regression Result:\n",
       "\n",
       "F=4091, df1=1, df2=252702, p-value is <0.0000000000000002\n",
       "R-squared=0.01593,   Adjusted R-squared=0.01593\n",
       "Residual standard error: 0.9361 on 252703 degrees of freedom\n",
       "_ _ _ _ _ _ _ _ _ _ _ _ _ _ _ _ _ _ _ _ _ _ _ _ _ _ _ _ _ _ \n",
       "\n",
       "Coefficients of k-Class Estimators:\n",
       "\n",
       "               k  Estimate Std. Error t value             Pr(>|t|)    \n",
       "OLS     0.000000 -0.039480   0.000411  -96.04 < 0.0000000000000002 ***\n",
       "Fuller  0.999996  0.021325   0.003395    6.28        0.00000000034 ***\n",
       "LIML    1.000000  0.021340   0.003395    6.29        0.00000000033 ***\n",
       "TSLS    1.000000  0.021340   0.003395    6.29        0.00000000033 ***\n",
       "---\n",
       "Signif. codes:  0 ‘***’ 0.001 ‘**’ 0.01 ‘*’ 0.05 ‘.’ 0.1 ‘ ’ 1\n",
       "_ _ _ _ _ _ _ _ _ _ _ _ _ _ _ _ _ _ _ _ _ _ _ _ _ _ _ _ _ _ \n",
       "\n",
       "Alternative tests for the treatment effect under H_0: beta=0.\n",
       "\n",
       "Anderson-Rubin test (under F distribution):\n",
       "F=41.42, df1=1, df2=252702, p-value is 0.00000000012\n",
       "95 percent confidence interval:\n",
       " [0.0147402141657059, 0.0280559699076035]\n",
       "\n",
       "Conditional Likelihood Ratio test (under Normal approximation):\n",
       "Test Stat=41.42, p-value is 0.00000000012\n",
       "95 percent confidence interval:\n",
       " [0.0147402032412086, 0.0280559812201274]"
      ]
     },
     "metadata": {},
     "output_type": "display_data"
    },
    {
     "data": {
      "text/html": [
       "<table class=\"dataframe\">\n",
       "<caption>A matrix: 6 × 2 of type dbl</caption>\n",
       "<thead>\n",
       "\t<tr><th></th><th scope=col>2.5%</th><th scope=col>97.5%</th></tr>\n",
       "</thead>\n",
       "<tbody>\n",
       "\t<tr><th scope=row>OLS</th><td>-0.04029</td><td>-0.03867</td></tr>\n",
       "\t<tr><th scope=row>Fuller</th><td> 0.01467</td><td> 0.02798</td></tr>\n",
       "\t<tr><th scope=row>LIML</th><td> 0.01469</td><td> 0.02799</td></tr>\n",
       "\t<tr><th scope=row>TSLS</th><td> 0.01469</td><td> 0.02799</td></tr>\n",
       "\t<tr><th scope=row>AR</th><td> 0.01474</td><td> 0.02806</td></tr>\n",
       "\t<tr><th scope=row>CLR</th><td> 0.01474</td><td> 0.02806</td></tr>\n",
       "</tbody>\n",
       "</table>\n"
      ],
      "text/latex": [
       "A matrix: 6 × 2 of type dbl\n",
       "\\begin{tabular}{r|ll}\n",
       "  & 2.5\\% & 97.5\\%\\\\\n",
       "\\hline\n",
       "\tOLS & -0.04029 & -0.03867\\\\\n",
       "\tFuller &  0.01467 &  0.02798\\\\\n",
       "\tLIML &  0.01469 &  0.02799\\\\\n",
       "\tTSLS &  0.01469 &  0.02799\\\\\n",
       "\tAR &  0.01474 &  0.02806\\\\\n",
       "\tCLR &  0.01474 &  0.02806\\\\\n",
       "\\end{tabular}\n"
      ],
      "text/markdown": [
       "\n",
       "A matrix: 6 × 2 of type dbl\n",
       "\n",
       "| <!--/--> | 2.5% | 97.5% |\n",
       "|---|---|---|\n",
       "| OLS | -0.04029 | -0.03867 |\n",
       "| Fuller |  0.01467 |  0.02798 |\n",
       "| LIML |  0.01469 |  0.02799 |\n",
       "| TSLS |  0.01469 |  0.02799 |\n",
       "| AR |  0.01474 |  0.02806 |\n",
       "| CLR |  0.01474 |  0.02806 |\n",
       "\n"
      ],
      "text/plain": [
       "       2.5%     97.5%   \n",
       "OLS    -0.04029 -0.03867\n",
       "Fuller  0.01467  0.02798\n",
       "LIML    0.01469  0.02799\n",
       "TSLS    0.01469  0.02799\n",
       "AR      0.01474  0.02806\n",
       "CLR     0.01474  0.02806"
      ]
     },
     "metadata": {},
     "output_type": "display_data"
    }
   ],
   "source": [
    "summary(ldl_ivmodel.chd)\n",
    "confint(ldl_ivmodel.chd)"
   ]
  },
  {
   "cell_type": "code",
   "execution_count": 26,
   "metadata": {
    "collapsed": true
   },
   "outputs": [],
   "source": [
    "# First Stage\n",
    "ldl_first.stage <- lm(ldl_std ~ prs_std_ldl + age + I(age^2) + sex +\n",
    "                         hdl_std + trig_std +\n",
    "                         alcohol + smoking  +\n",
    "                         assessment_centre + genotype_batch +\n",
    "                         PC1 + PC2 + PC3 +  PC4 + PC5 + PC6 +\n",
    "                         PC7 + PC8 + PC9 + PC10 + PC11 +\n",
    "                         PC12 + PC13 + PC14 + PC15 + PC16 + PC17 +\n",
    "                         PC18 + PC19 + PC20,\n",
    "                         data = data)"
   ]
  },
  {
   "cell_type": "code",
   "execution_count": 27,
   "metadata": {
    "collapsed": true
   },
   "outputs": [],
   "source": [
    "# redefine covariate variable group to include hdl instead of ldl\n",
    "hdl <- grep(\"hdl_std\",names(coef(ldl_first.stage)), value = T)\n",
    "ldl_all <- c(assessment_centre, batch_effects, PCs, smoking, alcohol, age, sex, hdl, trig)"
   ]
  },
  {
   "cell_type": "code",
   "execution_count": 28,
   "metadata": {
    "collapsed": true
   },
   "outputs": [],
   "source": [
    "# we can use for checking partial association of PRS with other variables\n",
    "ldl_instrument.model <- lm(prs_std_ldl ~  age + I(age^2) + sex +\n",
    "                         hdl_std + trig_std +\n",
    "                         alcohol + smoking  +\n",
    "                         assessment_centre + genotype_batch +\n",
    "                         PC1 + PC2 + PC3 +  PC4 + PC5 + PC6 +\n",
    "                         PC7 + PC8 + PC9 + PC10 + PC11 +\n",
    "                         PC12 + PC13 + PC14 + PC15 + PC16 + PC17 +\n",
    "                         PC18 + PC19 + PC20,\n",
    "                         data = data)"
   ]
  },
  {
   "cell_type": "code",
   "execution_count": 29,
   "metadata": {},
   "outputs": [
    {
     "data": {
      "text/html": [
       "<table class=\"dataframe\">\n",
       "<caption>A data.frame: 1 × 9</caption>\n",
       "<thead>\n",
       "\t<tr><th scope=col>treatment</th><th scope=col>estimate</th><th scope=col>se</th><th scope=col>t_statistic</th><th scope=col>r2yd.x</th><th scope=col>rv_q</th><th scope=col>rv_qa</th><th scope=col>f2yd.x</th><th scope=col>dof</th></tr>\n",
       "\t<tr><th scope=col>&lt;chr&gt;</th><th scope=col>&lt;dbl&gt;</th><th scope=col>&lt;dbl&gt;</th><th scope=col>&lt;dbl&gt;</th><th scope=col>&lt;dbl&gt;</th><th scope=col>&lt;numeric&gt;</th><th scope=col>&lt;numeric&gt;</th><th scope=col>&lt;dbl&gt;</th><th scope=col>&lt;int&gt;</th></tr>\n",
       "</thead>\n",
       "<tbody>\n",
       "\t<tr><td>prs_std_ldl</td><td>-0.1202</td><td>0.001874</td><td>-64.14</td><td>0.01602</td><td>0.1197</td><td>0.1163</td><td>0.01628</td><td>252695</td></tr>\n",
       "</tbody>\n",
       "</table>\n"
      ],
      "text/latex": [
       "A data.frame: 1 × 9\n",
       "\\begin{tabular}{lllllllll}\n",
       " treatment & estimate & se & t\\_statistic & r2yd.x & rv\\_q & rv\\_qa & f2yd.x & dof\\\\\n",
       " <chr> & <dbl> & <dbl> & <dbl> & <dbl> & <numeric> & <numeric> & <dbl> & <int>\\\\\n",
       "\\hline\n",
       "\t prs\\_std\\_ldl & -0.1202 & 0.001874 & -64.14 & 0.01602 & 0.1197 & 0.1163 & 0.01628 & 252695\\\\\n",
       "\\end{tabular}\n"
      ],
      "text/markdown": [
       "\n",
       "A data.frame: 1 × 9\n",
       "\n",
       "| treatment &lt;chr&gt; | estimate &lt;dbl&gt; | se &lt;dbl&gt; | t_statistic &lt;dbl&gt; | r2yd.x &lt;dbl&gt; | rv_q &lt;numeric&gt; | rv_qa &lt;numeric&gt; | f2yd.x &lt;dbl&gt; | dof &lt;int&gt; |\n",
       "|---|---|---|---|---|---|---|---|---|\n",
       "| prs_std_ldl | -0.1202 | 0.001874 | -64.14 | 0.01602 | 0.1197 | 0.1163 | 0.01628 | 252695 |\n",
       "\n"
      ],
      "text/plain": [
       "  treatment   estimate se       t_statistic r2yd.x  rv_q   rv_qa  f2yd.x \n",
       "1 prs_std_ldl -0.1202  0.001874 -64.14      0.01602 0.1197 0.1163 0.01628\n",
       "  dof   \n",
       "1 252695"
      ]
     },
     "metadata": {},
     "output_type": "display_data"
    }
   ],
   "source": [
    "sensitivity_stats(model = ldl_first.stage,  treatment = \"prs_std_ldl\")"
   ]
  },
  {
   "cell_type": "code",
   "execution_count": 30,
   "metadata": {},
   "outputs": [
    {
     "data": {
      "text/html": [
       "0.112010433554599"
      ],
      "text/latex": [
       "0.112010433554599"
      ],
      "text/markdown": [
       "0.112010433554599"
      ],
      "text/plain": [
       "[1] 0.112"
      ]
     },
     "metadata": {},
     "output_type": "display_data"
    }
   ],
   "source": [
    "group_partial_r2(model = ldl_first.stage, covariates = ldl_all)"
   ]
  },
  {
   "cell_type": "code",
   "execution_count": 31,
   "metadata": {},
   "outputs": [
    {
     "data": {
      "text/html": [
       "0.0146325516595257"
      ],
      "text/latex": [
       "0.0146325516595257"
      ],
      "text/markdown": [
       "0.0146325516595257"
      ],
      "text/plain": [
       "[1] 0.01463"
      ]
     },
     "metadata": {},
     "output_type": "display_data"
    },
    {
     "data": {
      "text/html": [
       "0.0146325516595258"
      ],
      "text/latex": [
       "0.0146325516595258"
      ],
      "text/markdown": [
       "0.0146325516595258"
      ],
      "text/plain": [
       "[1] 0.01463"
      ]
     },
     "metadata": {},
     "output_type": "display_data"
    }
   ],
   "source": [
    "summary(ldl_instrument.model)$r.\n",
    "group_partial_r2(model = ldl_instrument.model, covariates = ldl_all)"
   ]
  },
  {
   "cell_type": "code",
   "execution_count": 32,
   "metadata": {},
   "outputs": [
    {
     "data": {
      "text/plain": [
       "\n",
       "Call:\n",
       "lm(formula = ldl_std ~ prs_std_ldl + age + I(age^2) + sex + hdl_std + \n",
       "    trig_std + alcohol + smoking + assessment_centre + genotype_batch + \n",
       "    PC1 + PC2 + PC3 + PC4 + PC5 + PC6 + PC7 + PC8 + PC9 + PC10 + \n",
       "    PC11 + PC12 + PC13 + PC14 + PC15 + PC16 + PC17 + PC18 + PC19 + \n",
       "    PC20, data = data)\n",
       "\n",
       "Residuals:\n",
       "   Min     1Q Median     3Q    Max \n",
       "-4.649 -0.652 -0.029  0.607  7.171 \n",
       "\n",
       "Coefficients:\n",
       "                                    Estimate Std. Error t value\n",
       "(Intercept)                       -4.2236573  0.0961084  -43.95\n",
       "prs_std_ldl                       -0.1201993  0.0018741  -64.14\n",
       "age                                0.1530469  0.0034030   44.97\n",
       "I(age^2)                          -0.0013710  0.0000307  -44.72\n",
       "sexMale                           -0.1029102  0.0043018  -23.92\n",
       "hdl_std                            0.2232011  0.0023616   94.51\n",
       "trig_std                           0.3246552  0.0020950  154.96\n",
       "alcoholNever                      -0.0008594  0.0086081   -0.10\n",
       "alcoholOnce or twice a week        0.0504502  0.0056018    9.01\n",
       "alcoholOne to three times a month  0.0766273  0.0071391   10.73\n",
       "alcoholPrefer not to answer       -0.0016001  0.0687506   -0.02\n",
       "alcoholSpecial occasions only      0.0413537  0.0073521    5.62\n",
       "alcoholThree or four times a week  0.0361555  0.0055672    6.49\n",
       "smoking                           -0.0261400  0.0027071   -9.66\n",
       "assessment_centreBirmingham        0.0025045  0.0155991    0.16\n",
       "assessment_centreBristol           0.0775287  0.0145286    5.34\n",
       "assessment_centreBury             -0.0113072  0.0154468   -0.73\n",
       "assessment_centreCardiff           0.0456940  0.0166052    2.75\n",
       "assessment_centreCroydon           0.0132740  0.0154672    0.86\n",
       "assessment_centreEdinburgh         0.1083868  0.0167027    6.49\n",
       "assessment_centreGlasgow           0.0499028  0.0167962    2.97\n",
       "assessment_centreHounslow         -0.0203362  0.0155282   -1.31\n",
       "assessment_centreLeeds             0.0496988  0.0146801    3.39\n",
       "assessment_centreLiverpool        -0.0195505  0.0152854   -1.28\n",
       "assessment_centreManchester       -0.0160012  0.0172855   -0.93\n",
       "assessment_centreMiddlesborough    0.0911209  0.0161838    5.63\n",
       "assessment_centreNewcastle         0.0462418  0.0151659    3.05\n",
       "assessment_centreNottingham        0.0516890  0.0149488    3.46\n",
       "assessment_centreOxford            0.0790866  0.0168272    4.70\n",
       "assessment_centreReading           0.0790691  0.0149293    5.30\n",
       "assessment_centreSheffield         0.0604673  0.0152358    3.97\n",
       "assessment_centreStoke             0.0602927  0.0164690    3.66\n",
       "assessment_centreSwansea           0.0395097  0.0291459    1.36\n",
       "assessment_centreWrexham           0.0112807  0.0508460    0.22\n",
       "genotype_batchBatch_b002           0.0009628  0.0269029    0.04\n",
       "genotype_batchBatch_b003           0.0263707  0.0269564    0.98\n",
       "genotype_batchBatch_b004           0.0207164  0.0268257    0.77\n",
       "genotype_batchBatch_b005           0.0478843  0.0268095    1.79\n",
       "genotype_batchBatch_b006           0.0061449  0.0267071    0.23\n",
       "genotype_batchBatch_b007           0.0495579  0.0268405    1.85\n",
       "genotype_batchBatch_b008           0.0361039  0.0267004    1.35\n",
       "genotype_batchBatch_b009           0.0505601  0.0267163    1.89\n",
       "genotype_batchBatch_b010           0.0143659  0.0269462    0.53\n",
       "genotype_batchBatch_b011           0.0904538  0.0266850    3.39\n",
       "genotype_batchBatch_b012           0.0233161  0.0267797    0.87\n",
       "genotype_batchBatch_b013           0.0148608  0.0267936    0.55\n",
       "genotype_batchBatch_b014           0.0474302  0.0266808    1.78\n",
       "genotype_batchBatch_b015           0.0508008  0.0267635    1.90\n",
       "genotype_batchBatch_b016           0.0332821  0.0269511    1.23\n",
       "genotype_batchBatch_b017           0.0442597  0.0269929    1.64\n",
       "genotype_batchBatch_b018           0.0405320  0.0268485    1.51\n",
       "genotype_batchBatch_b019           0.0423596  0.0269461    1.57\n",
       "genotype_batchBatch_b020           0.0330676  0.0270629    1.22\n",
       "genotype_batchBatch_b021           0.0564371  0.0269547    2.09\n",
       "genotype_batchBatch_b022           0.0289253  0.0268794    1.08\n",
       "genotype_batchBatch_b023           0.0558357  0.0268044    2.08\n",
       "genotype_batchBatch_b024           0.0439380  0.0268825    1.63\n",
       "genotype_batchBatch_b025           0.0134459  0.0270331    0.50\n",
       "genotype_batchBatch_b026           0.0497640  0.0267657    1.86\n",
       "genotype_batchBatch_b027           0.0196433  0.0271767    0.72\n",
       "genotype_batchBatch_b028           0.0474733  0.0266522    1.78\n",
       "genotype_batchBatch_b029           0.0432812  0.0269661    1.61\n",
       "genotype_batchBatch_b030           0.0277681  0.0268140    1.04\n",
       "genotype_batchBatch_b031           0.0322006  0.0267380    1.20\n",
       "genotype_batchBatch_b032           0.0432720  0.0267067    1.62\n",
       "genotype_batchBatch_b033           0.0672981  0.0270052    2.49\n",
       "genotype_batchBatch_b034           0.0383155  0.0269946    1.42\n",
       "genotype_batchBatch_b035           0.0180342  0.0269286    0.67\n",
       "genotype_batchBatch_b036           0.0722887  0.0269014    2.69\n",
       "genotype_batchBatch_b037           0.0361860  0.0269349    1.34\n",
       "genotype_batchBatch_b038           0.0429277  0.0268667    1.60\n",
       "genotype_batchBatch_b039           0.0317167  0.0270488    1.17\n",
       "genotype_batchBatch_b040           0.0312313  0.0268723    1.16\n",
       "genotype_batchBatch_b041           0.0404534  0.0269168    1.50\n",
       "genotype_batchBatch_b042           0.0451310  0.0269539    1.67\n",
       "genotype_batchBatch_b043           0.0516080  0.0268397    1.92\n",
       "genotype_batchBatch_b044           0.0372220  0.0268182    1.39\n",
       "genotype_batchBatch_b045           0.0883283  0.0268754    3.29\n",
       "genotype_batchBatch_b046           0.0323886  0.0268326    1.21\n",
       "genotype_batchBatch_b047           0.0610871  0.0271271    2.25\n",
       "genotype_batchBatch_b048           0.0511682  0.0269447    1.90\n",
       "genotype_batchBatch_b049           0.0093956  0.0271084    0.35\n",
       "genotype_batchBatch_b050           0.0375742  0.0269239    1.40\n",
       "genotype_batchBatch_b051           0.0300377  0.0267748    1.12\n",
       "genotype_batchBatch_b052           0.0451303  0.0271707    1.66\n",
       "genotype_batchBatch_b053           0.0319558  0.0269824    1.18\n",
       "genotype_batchBatch_b054           0.0597511  0.0268331    2.23\n",
       "genotype_batchBatch_b055           0.0541005  0.0270075    2.00\n",
       "genotype_batchBatch_b056           0.0706459  0.0269058    2.63\n",
       "genotype_batchBatch_b057           0.0216342  0.0271770    0.80\n",
       "genotype_batchBatch_b058          -0.0077314  0.0267615   -0.29\n",
       "genotype_batchBatch_b059           0.0684446  0.0269311    2.54\n",
       "genotype_batchBatch_b060           0.0214502  0.0268734    0.80\n",
       "genotype_batchBatch_b061           0.0415648  0.0270289    1.54\n",
       "genotype_batchBatch_b062           0.0195390  0.0267545    0.73\n",
       "genotype_batchBatch_b063           0.0321167  0.0268652    1.20\n",
       "genotype_batchBatch_b064           0.0710631  0.0268982    2.64\n",
       "genotype_batchBatch_b065           0.0376795  0.0269861    1.40\n",
       "genotype_batchBatch_b066           0.0572787  0.0272180    2.10\n",
       "genotype_batchBatch_b067          -0.0097380  0.0268678   -0.36\n",
       "genotype_batchBatch_b068           0.0312290  0.0269829    1.16\n",
       "genotype_batchBatch_b069           0.0332471  0.0269693    1.23\n",
       "genotype_batchBatch_b070           0.0122033  0.0268411    0.45\n",
       "genotype_batchBatch_b071           0.0662299  0.0269269    2.46\n",
       "genotype_batchBatch_b072           0.0247875  0.0271637    0.91\n",
       "genotype_batchBatch_b073           0.0509427  0.0269055    1.89\n",
       "genotype_batchBatch_b074           0.0564126  0.0269225    2.10\n",
       "genotype_batchBatch_b075           0.0492316  0.0270530    1.82\n",
       "genotype_batchBatch_b076           0.0548521  0.0272555    2.01\n",
       "genotype_batchBatch_b077           0.0641212  0.0269918    2.38\n",
       "genotype_batchBatch_b078           0.0553333  0.0268119    2.06\n",
       "genotype_batchBatch_b079           0.0455092  0.0270812    1.68\n",
       "genotype_batchBatch_b080           0.0616710  0.0269268    2.29\n",
       "genotype_batchBatch_b081           0.0480140  0.0269773    1.78\n",
       "genotype_batchBatch_b082           0.0204979  0.0268554    0.76\n",
       "genotype_batchBatch_b083           0.0389166  0.0270016    1.44\n",
       "genotype_batchBatch_b084           0.0402025  0.0272534    1.48\n",
       "genotype_batchBatch_b085           0.0295132  0.0265826    1.11\n",
       "genotype_batchBatch_b086           0.0423211  0.0269422    1.57\n",
       "genotype_batchBatch_b087           0.0209707  0.0270004    0.78\n",
       "genotype_batchBatch_b088           0.0218350  0.0269175    0.81\n",
       "genotype_batchBatch_b089           0.0366110  0.0270972    1.35\n",
       "genotype_batchBatch_b090          -0.0194079  0.0267104   -0.73\n",
       "genotype_batchBatch_b091           0.0323218  0.0272010    1.19\n",
       "genotype_batchBatch_b092           0.0048884  0.0270557    0.18\n",
       "genotype_batchBatch_b093           0.0520840  0.0268259    1.94\n",
       "genotype_batchBatch_b094           0.0241177  0.0338336    0.71\n",
       "genotype_batchBatch_b095           0.0373903  0.0285425    1.31\n",
       "genotype_batchUKBiLEVEAX_b1        0.0081116  0.0266219    0.30\n",
       "genotype_batchUKBiLEVEAX_b10       0.0656028  0.0266307    2.46\n",
       "genotype_batchUKBiLEVEAX_b11       0.0522922  0.0265715    1.97\n",
       "genotype_batchUKBiLEVEAX_b2        0.0056361  0.0266354    0.21\n",
       "genotype_batchUKBiLEVEAX_b3        0.0085906  0.0266933    0.32\n",
       "genotype_batchUKBiLEVEAX_b4        0.0086641  0.0266899    0.32\n",
       "genotype_batchUKBiLEVEAX_b5        0.0058528  0.0264956    0.22\n",
       "genotype_batchUKBiLEVEAX_b6        0.0342394  0.0265878    1.29\n",
       "genotype_batchUKBiLEVEAX_b7        0.0397683  0.0266924    1.49\n",
       "genotype_batchUKBiLEVEAX_b8       -0.0034895  0.0264628   -0.13\n",
       "genotype_batchUKBiLEVEAX_b9        0.0258106  0.0266146    0.97\n",
       "PC1                                0.0001176  0.0005979    0.20\n",
       "PC2                               -0.0011705  0.0006793   -1.72\n",
       "PC3                                0.0006283  0.0009072    0.69\n",
       "PC4                               -0.0007308  0.0004474   -1.63\n",
       "PC5                               -0.0016143  0.0003262   -4.95\n",
       "PC6                                0.0010652  0.0010077    1.06\n",
       "PC7                                0.0002482  0.0006560    0.38\n",
       "PC8                                0.0001814  0.0007466    0.24\n",
       "PC9                               -0.0005429  0.0004665   -1.16\n",
       "PC10                               0.0005944  0.0009477    0.63\n",
       "PC11                              -0.0016332  0.0007555   -2.16\n",
       "PC12                              -0.0005072  0.0009739   -0.52\n",
       "PC13                              -0.0016502  0.0011355   -1.45\n",
       "PC14                               0.0029267  0.0006362    4.60\n",
       "PC15                               0.0019684  0.0010539    1.87\n",
       "PC16                               0.0007861  0.0006570    1.20\n",
       "PC17                              -0.0008711  0.0009259   -0.94\n",
       "PC18                               0.0001800  0.0006683    0.27\n",
       "PC19                               0.0015839  0.0006405    2.47\n",
       "PC20                              -0.0006495  0.0006545   -0.99\n",
       "                                              Pr(>|t|)    \n",
       "(Intercept)                       < 0.0000000000000002 ***\n",
       "prs_std_ldl                       < 0.0000000000000002 ***\n",
       "age                               < 0.0000000000000002 ***\n",
       "I(age^2)                          < 0.0000000000000002 ***\n",
       "sexMale                           < 0.0000000000000002 ***\n",
       "hdl_std                           < 0.0000000000000002 ***\n",
       "trig_std                          < 0.0000000000000002 ***\n",
       "alcoholNever                                   0.92048    \n",
       "alcoholOnce or twice a week       < 0.0000000000000002 ***\n",
       "alcoholOne to three times a month < 0.0000000000000002 ***\n",
       "alcoholPrefer not to answer                    0.98143    \n",
       "alcoholSpecial occasions only           0.000000018602 ***\n",
       "alcoholThree or four times a week       0.000000000084 ***\n",
       "smoking                           < 0.0000000000000002 ***\n",
       "assessment_centreBirmingham                    0.87244    \n",
       "assessment_centreBristol                0.000000094961 ***\n",
       "assessment_centreBury                          0.46417    \n",
       "assessment_centreCardiff                       0.00593 ** \n",
       "assessment_centreCroydon                       0.39078    \n",
       "assessment_centreEdinburgh              0.000000000086 ***\n",
       "assessment_centreGlasgow                       0.00297 ** \n",
       "assessment_centreHounslow                      0.19032    \n",
       "assessment_centreLeeds                         0.00071 ***\n",
       "assessment_centreLiverpool                     0.20089    \n",
       "assessment_centreManchester                    0.35460    \n",
       "assessment_centreMiddlesborough         0.000000017999 ***\n",
       "assessment_centreNewcastle                     0.00230 ** \n",
       "assessment_centreNottingham                    0.00054 ***\n",
       "assessment_centreOxford                 0.000002603836 ***\n",
       "assessment_centreReading                0.000000118309 ***\n",
       "assessment_centreSheffield              0.000072263750 ***\n",
       "assessment_centreStoke                         0.00025 ***\n",
       "assessment_centreSwansea                       0.17523    \n",
       "assessment_centreWrexham                       0.82442    \n",
       "genotype_batchBatch_b002                       0.97145    \n",
       "genotype_batchBatch_b003                       0.32794    \n",
       "genotype_batchBatch_b004                       0.43996    \n",
       "genotype_batchBatch_b005                       0.07409 .  \n",
       "genotype_batchBatch_b006                       0.81803    \n",
       "genotype_batchBatch_b007                       0.06484 .  \n",
       "genotype_batchBatch_b008                       0.17632    \n",
       "genotype_batchBatch_b009                       0.05843 .  \n",
       "genotype_batchBatch_b010                       0.59394    \n",
       "genotype_batchBatch_b011                       0.00070 ***\n",
       "genotype_batchBatch_b012                       0.38394    \n",
       "genotype_batchBatch_b013                       0.57914    \n",
       "genotype_batchBatch_b014                       0.07546 .  \n",
       "genotype_batchBatch_b015                       0.05768 .  \n",
       "genotype_batchBatch_b016                       0.21687    \n",
       "genotype_batchBatch_b017                       0.10107    \n",
       "genotype_batchBatch_b018                       0.13113    \n",
       "genotype_batchBatch_b019                       0.11595    \n",
       "genotype_batchBatch_b020                       0.22175    \n",
       "genotype_batchBatch_b021                       0.03628 *  \n",
       "genotype_batchBatch_b022                       0.28188    \n",
       "genotype_batchBatch_b023                       0.03725 *  \n",
       "genotype_batchBatch_b024                       0.10217    \n",
       "genotype_batchBatch_b025                       0.61892    \n",
       "genotype_batchBatch_b026                       0.06299 .  \n",
       "genotype_batchBatch_b027                       0.46981    \n",
       "genotype_batchBatch_b028                       0.07488 .  \n",
       "genotype_batchBatch_b029                       0.10849    \n",
       "genotype_batchBatch_b030                       0.30040    \n",
       "genotype_batchBatch_b031                       0.22847    \n",
       "genotype_batchBatch_b032                       0.10518    \n",
       "genotype_batchBatch_b033                       0.01270 *  \n",
       "genotype_batchBatch_b034                       0.15579    \n",
       "genotype_batchBatch_b035                       0.50305    \n",
       "genotype_batchBatch_b036                       0.00721 ** \n",
       "genotype_batchBatch_b037                       0.17912    \n",
       "genotype_batchBatch_b038                       0.11009    \n",
       "genotype_batchBatch_b039                       0.24097    \n",
       "genotype_batchBatch_b040                       0.24515    \n",
       "genotype_batchBatch_b041                       0.13286    \n",
       "genotype_batchBatch_b042                       0.09406 .  \n",
       "genotype_batchBatch_b043                       0.05450 .  \n",
       "genotype_batchBatch_b044                       0.16516    \n",
       "genotype_batchBatch_b045                       0.00101 ** \n",
       "genotype_batchBatch_b046                       0.22741    \n",
       "genotype_batchBatch_b047                       0.02433 *  \n",
       "genotype_batchBatch_b048                       0.05756 .  \n",
       "genotype_batchBatch_b049                       0.72890    \n",
       "genotype_batchBatch_b050                       0.16285    \n",
       "genotype_batchBatch_b051                       0.26192    \n",
       "genotype_batchBatch_b052                       0.09672 .  \n",
       "genotype_batchBatch_b053                       0.23629    \n",
       "genotype_batchBatch_b054                       0.02596 *  \n",
       "genotype_batchBatch_b055                       0.04516 *  \n",
       "genotype_batchBatch_b056                       0.00865 ** \n",
       "genotype_batchBatch_b057                       0.42601    \n",
       "genotype_batchBatch_b058                       0.77266    \n",
       "genotype_batchBatch_b059                       0.01104 *  \n",
       "genotype_batchBatch_b060                       0.42476    \n",
       "genotype_batchBatch_b061                       0.12410    \n",
       "genotype_batchBatch_b062                       0.46520    \n",
       "genotype_batchBatch_b063                       0.23190    \n",
       "genotype_batchBatch_b064                       0.00824 ** \n",
       "genotype_batchBatch_b065                       0.16264    \n",
       "genotype_batchBatch_b066                       0.03534 *  \n",
       "genotype_batchBatch_b067                       0.71702    \n",
       "genotype_batchBatch_b068                       0.24713    \n",
       "genotype_batchBatch_b069                       0.21766    \n",
       "genotype_batchBatch_b070                       0.64936    \n",
       "genotype_batchBatch_b071                       0.01391 *  \n",
       "genotype_batchBatch_b072                       0.36149    \n",
       "genotype_batchBatch_b073                       0.05831 .  \n",
       "genotype_batchBatch_b074                       0.03614 *  \n",
       "genotype_batchBatch_b075                       0.06879 .  \n",
       "genotype_batchBatch_b076                       0.04417 *  \n",
       "genotype_batchBatch_b077                       0.01752 *  \n",
       "genotype_batchBatch_b078                       0.03904 *  \n",
       "genotype_batchBatch_b079                       0.09287 .  \n",
       "genotype_batchBatch_b080                       0.02200 *  \n",
       "genotype_batchBatch_b081                       0.07511 .  \n",
       "genotype_batchBatch_b082                       0.44530    \n",
       "genotype_batchBatch_b083                       0.14951    \n",
       "genotype_batchBatch_b084                       0.14018    \n",
       "genotype_batchBatch_b085                       0.26689    \n",
       "genotype_batchBatch_b086                       0.11623    \n",
       "genotype_batchBatch_b087                       0.43735    \n",
       "genotype_batchBatch_b088                       0.41726    \n",
       "genotype_batchBatch_b089                       0.17667    \n",
       "genotype_batchBatch_b090                       0.46747    \n",
       "genotype_batchBatch_b091                       0.23473    \n",
       "genotype_batchBatch_b092                       0.85662    \n",
       "genotype_batchBatch_b093                       0.05219 .  \n",
       "genotype_batchBatch_b094                       0.47595    \n",
       "genotype_batchBatch_b095                       0.19020    \n",
       "genotype_batchUKBiLEVEAX_b1                    0.76060    \n",
       "genotype_batchUKBiLEVEAX_b10                   0.01376 *  \n",
       "genotype_batchUKBiLEVEAX_b11                   0.04907 *  \n",
       "genotype_batchUKBiLEVEAX_b2                    0.83242    \n",
       "genotype_batchUKBiLEVEAX_b3                    0.74758    \n",
       "genotype_batchUKBiLEVEAX_b4                    0.74547    \n",
       "genotype_batchUKBiLEVEAX_b5                    0.82517    \n",
       "genotype_batchUKBiLEVEAX_b6                    0.19782    \n",
       "genotype_batchUKBiLEVEAX_b7                    0.13626    \n",
       "genotype_batchUKBiLEVEAX_b8                    0.89509    \n",
       "genotype_batchUKBiLEVEAX_b9                    0.33215    \n",
       "PC1                                            0.84411    \n",
       "PC2                                            0.08490 .  \n",
       "PC3                                            0.48861    \n",
       "PC4                                            0.10236    \n",
       "PC5                                     0.000000749753 ***\n",
       "PC6                                            0.29048    \n",
       "PC7                                            0.70522    \n",
       "PC8                                            0.80801    \n",
       "PC9                                            0.24447    \n",
       "PC10                                           0.53057    \n",
       "PC11                                           0.03065 *  \n",
       "PC12                                           0.60254    \n",
       "PC13                                           0.14613    \n",
       "PC14                                    0.000004219582 ***\n",
       "PC15                                           0.06180 .  \n",
       "PC16                                           0.23148    \n",
       "PC17                                           0.34680    \n",
       "PC18                                           0.78763    \n",
       "PC19                                           0.01341 *  \n",
       "PC20                                           0.32098    \n",
       "---\n",
       "Signif. codes:  0 ‘***’ 0.001 ‘**’ 0.01 ‘*’ 0.05 ‘.’ 0.1 ‘ ’ 1\n",
       "\n",
       "Residual standard error: 0.936 on 252695 degrees of freedom\n",
       "Multiple R-squared:  0.124,\tAdjusted R-squared:  0.123 \n",
       "F-statistic:  226 on 158 and 252695 DF,  p-value: <0.0000000000000002\n"
      ]
     },
     "metadata": {},
     "output_type": "display_data"
    }
   ],
   "source": [
    "summary(ldl_first.stage)"
   ]
  },
  {
   "cell_type": "code",
   "execution_count": 33,
   "metadata": {},
   "outputs": [
    {
     "data": {
      "text/plain": [
       "\n",
       "Call:\n",
       "lm(formula = prs_std_ldl ~ age + I(age^2) + sex + hdl_std + trig_std + \n",
       "    alcohol + smoking + assessment_centre + genotype_batch + \n",
       "    PC1 + PC2 + PC3 + PC4 + PC5 + PC6 + PC7 + PC8 + PC9 + PC10 + \n",
       "    PC11 + PC12 + PC13 + PC14 + PC15 + PC16 + PC17 + PC18 + PC19 + \n",
       "    PC20, data = data)\n",
       "\n",
       "Residuals:\n",
       "   Min     1Q Median     3Q    Max \n",
       "-4.255 -0.673 -0.017  0.655  4.724 \n",
       "\n",
       "Coefficients:\n",
       "                                    Estimate Std. Error t value\n",
       "(Intercept)                        0.1200068  0.1020154    1.18\n",
       "age                               -0.0066803  0.0036122   -1.85\n",
       "I(age^2)                           0.0000593  0.0000325    1.82\n",
       "sexMale                            0.0932234  0.0045625   20.43\n",
       "hdl_std                            0.0974980  0.0024993   39.01\n",
       "trig_std                          -0.0099291  0.0022237   -4.47\n",
       "alcoholNever                       0.0849500  0.0091357    9.30\n",
       "alcoholOnce or twice a week        0.0594519  0.0059450   10.00\n",
       "alcoholOne to three times a month  0.0761674  0.0075764   10.05\n",
       "alcoholPrefer not to answer        0.0079590  0.0729763    0.11\n",
       "alcoholSpecial occasions only      0.0863504  0.0078022   11.07\n",
       "alcoholThree or four times a week  0.0317958  0.0059090    5.38\n",
       "smoking                            0.0111529  0.0028734    3.88\n",
       "assessment_centreBirmingham        0.0246248  0.0165578    1.49\n",
       "assessment_centreBristol           0.0050795  0.0154216    0.33\n",
       "assessment_centreBury              0.0177996  0.0163962    1.09\n",
       "assessment_centreCardiff           0.0304682  0.0176258    1.73\n",
       "assessment_centreCroydon          -0.0117147  0.0164179   -0.71\n",
       "assessment_centreEdinburgh         0.0074276  0.0177293    0.42\n",
       "assessment_centreGlasgow           0.0086470  0.0178286    0.49\n",
       "assessment_centreHounslow          0.0111438  0.0164827    0.68\n",
       "assessment_centreLeeds             0.0118314  0.0155824    0.76\n",
       "assessment_centreLiverpool         0.0241722  0.0162248    1.49\n",
       "assessment_centreManchester        0.0319611  0.0183479    1.74\n",
       "assessment_centreMiddlesborough    0.0137498  0.0171785    0.80\n",
       "assessment_centreNewcastle         0.0047843  0.0160981    0.30\n",
       "assessment_centreNottingham        0.0133482  0.0158676    0.84\n",
       "assessment_centreOxford            0.0059714  0.0178614    0.33\n",
       "assessment_centreReading           0.0238194  0.0158468    1.50\n",
       "assessment_centreSheffield         0.0221558  0.0161722    1.37\n",
       "assessment_centreStoke             0.0285358  0.0174812    1.63\n",
       "assessment_centreSwansea           0.0243904  0.0309373    0.79\n",
       "assessment_centreWrexham           0.0107205  0.0539713    0.20\n",
       "genotype_batchBatch_b002           0.0157492  0.0285565    0.55\n",
       "genotype_batchBatch_b003           0.0135480  0.0286132    0.47\n",
       "genotype_batchBatch_b004          -0.0112004  0.0284745   -0.39\n",
       "genotype_batchBatch_b005          -0.0109589  0.0284573   -0.39\n",
       "genotype_batchBatch_b006           0.0023001  0.0283487    0.08\n",
       "genotype_batchBatch_b007           0.0084499  0.0284902    0.30\n",
       "genotype_batchBatch_b008           0.0256521  0.0283415    0.91\n",
       "genotype_batchBatch_b009           0.0326075  0.0283583    1.15\n",
       "genotype_batchBatch_b010          -0.0034839  0.0286024   -0.12\n",
       "genotype_batchBatch_b011           0.0149992  0.0283252    0.53\n",
       "genotype_batchBatch_b012          -0.0099046  0.0284257   -0.35\n",
       "genotype_batchBatch_b013           0.0020459  0.0284405    0.07\n",
       "genotype_batchBatch_b014           0.0409711  0.0283206    1.45\n",
       "genotype_batchBatch_b015           0.0257115  0.0284085    0.91\n",
       "genotype_batchBatch_b016           0.0184707  0.0286076    0.65\n",
       "genotype_batchBatch_b017           0.0287671  0.0286519    1.00\n",
       "genotype_batchBatch_b018           0.0042180  0.0284988    0.15\n",
       "genotype_batchBatch_b019          -0.0014091  0.0286023   -0.05\n",
       "genotype_batchBatch_b020          -0.0043615  0.0287263   -0.15\n",
       "genotype_batchBatch_b021          -0.0264557  0.0286114   -0.92\n",
       "genotype_batchBatch_b022          -0.0051125  0.0285315   -0.18\n",
       "genotype_batchBatch_b023           0.0010982  0.0284519    0.04\n",
       "genotype_batchBatch_b024           0.0324139  0.0285347    1.14\n",
       "genotype_batchBatch_b025           0.0113891  0.0286947    0.40\n",
       "genotype_batchBatch_b026          -0.0345714  0.0284108   -1.22\n",
       "genotype_batchBatch_b027           0.0190136  0.0288471    0.66\n",
       "genotype_batchBatch_b028          -0.0071704  0.0282903   -0.25\n",
       "genotype_batchBatch_b029           0.0440478  0.0286234    1.54\n",
       "genotype_batchBatch_b030           0.0001911  0.0284621    0.01\n",
       "genotype_batchBatch_b031           0.0284605  0.0283814    1.00\n",
       "genotype_batchBatch_b032           0.0050368  0.0283482    0.18\n",
       "genotype_batchBatch_b033           0.0119842  0.0286650    0.42\n",
       "genotype_batchBatch_b034           0.0282241  0.0286538    0.99\n",
       "genotype_batchBatch_b035           0.0250664  0.0285837    0.88\n",
       "genotype_batchBatch_b036           0.0008729  0.0285549    0.03\n",
       "genotype_batchBatch_b037           0.0087962  0.0285904    0.31\n",
       "genotype_batchBatch_b038          -0.0349241  0.0285179   -1.22\n",
       "genotype_batchBatch_b039           0.0413247  0.0287112    1.44\n",
       "genotype_batchBatch_b040           0.0336505  0.0285239    1.18\n",
       "genotype_batchBatch_b041           0.0041504  0.0285712    0.15\n",
       "genotype_batchBatch_b042           0.0095757  0.0286106    0.33\n",
       "genotype_batchBatch_b043           0.0026358  0.0284893    0.09\n",
       "genotype_batchBatch_b044          -0.0126118  0.0284665   -0.44\n",
       "genotype_batchBatch_b045           0.0074143  0.0285273    0.26\n",
       "genotype_batchBatch_b046          -0.0197198  0.0284818   -0.69\n",
       "genotype_batchBatch_b047           0.0142261  0.0287944    0.49\n",
       "genotype_batchBatch_b048           0.0107657  0.0286008    0.38\n",
       "genotype_batchBatch_b049           0.0151689  0.0287745    0.53\n",
       "genotype_batchBatch_b050           0.0223820  0.0285788    0.78\n",
       "genotype_batchBatch_b051           0.0260254  0.0284205    0.92\n",
       "genotype_batchBatch_b052           0.0216033  0.0288407    0.75\n",
       "genotype_batchBatch_b053          -0.0187312  0.0286409   -0.65\n",
       "genotype_batchBatch_b054           0.0007057  0.0284824    0.02\n",
       "genotype_batchBatch_b055          -0.0068775  0.0286675   -0.24\n",
       "genotype_batchBatch_b056           0.0342626  0.0285595    1.20\n",
       "genotype_batchBatch_b057          -0.0113661  0.0288475   -0.39\n",
       "genotype_batchBatch_b058           0.0010368  0.0284063    0.04\n",
       "genotype_batchBatch_b059           0.0056895  0.0285864    0.20\n",
       "genotype_batchBatch_b060          -0.0318412  0.0285251   -1.12\n",
       "genotype_batchBatch_b061           0.0198327  0.0286902    0.69\n",
       "genotype_batchBatch_b062          -0.0136546  0.0283990   -0.48\n",
       "genotype_batchBatch_b063           0.0189055  0.0285164    0.66\n",
       "genotype_batchBatch_b064           0.0213362  0.0285514    0.75\n",
       "genotype_batchBatch_b065           0.0253836  0.0286447    0.89\n",
       "genotype_batchBatch_b066          -0.0044699  0.0288909   -0.15\n",
       "genotype_batchBatch_b067          -0.0144972  0.0285192   -0.51\n",
       "genotype_batchBatch_b068          -0.0111899  0.0286414   -0.39\n",
       "genotype_batchBatch_b069          -0.0045626  0.0286269   -0.16\n",
       "genotype_batchBatch_b070           0.0201957  0.0284909    0.71\n",
       "genotype_batchBatch_b071           0.0497054  0.0285818    1.74\n",
       "genotype_batchBatch_b072           0.0231163  0.0288332    0.80\n",
       "genotype_batchBatch_b073          -0.0314421  0.0285591   -1.10\n",
       "genotype_batchBatch_b074          -0.0061383  0.0285772   -0.21\n",
       "genotype_batchBatch_b075           0.0202468  0.0287158    0.71\n",
       "genotype_batchBatch_b076          -0.0154606  0.0289307   -0.53\n",
       "genotype_batchBatch_b077           0.0126615  0.0286508    0.44\n",
       "genotype_batchBatch_b078           0.0330268  0.0284598    1.16\n",
       "genotype_batchBatch_b079           0.0393848  0.0287456    1.37\n",
       "genotype_batchBatch_b080           0.0059730  0.0285819    0.21\n",
       "genotype_batchBatch_b081          -0.0135432  0.0286355   -0.47\n",
       "genotype_batchBatch_b082           0.0200690  0.0285060    0.70\n",
       "genotype_batchBatch_b083           0.0174461  0.0286612    0.61\n",
       "genotype_batchBatch_b084          -0.0068486  0.0289285   -0.24\n",
       "genotype_batchBatch_b085           0.0202185  0.0282164    0.72\n",
       "genotype_batchBatch_b086           0.0183456  0.0285982    0.64\n",
       "genotype_batchBatch_b087           0.0223700  0.0286600    0.78\n",
       "genotype_batchBatch_b088          -0.0004502  0.0285720   -0.02\n",
       "genotype_batchBatch_b089           0.0119221  0.0287627    0.41\n",
       "genotype_batchBatch_b090           0.0098703  0.0283521    0.35\n",
       "genotype_batchBatch_b091          -0.0215673  0.0288728   -0.75\n",
       "genotype_batchBatch_b092           0.0194731  0.0287187    0.68\n",
       "genotype_batchBatch_b093          -0.0030454  0.0284748   -0.11\n",
       "genotype_batchBatch_b094          -0.0078474  0.0359132   -0.22\n",
       "genotype_batchBatch_b095          -0.0182398  0.0302968   -0.60\n",
       "genotype_batchUKBiLEVEAX_b1        0.0053867  0.0282582    0.19\n",
       "genotype_batchUKBiLEVEAX_b10       0.0232107  0.0282675    0.82\n",
       "genotype_batchUKBiLEVEAX_b11       0.0304543  0.0282046    1.08\n",
       "genotype_batchUKBiLEVEAX_b2        0.0249837  0.0282725    0.88\n",
       "genotype_batchUKBiLEVEAX_b3        0.0165120  0.0283339    0.58\n",
       "genotype_batchUKBiLEVEAX_b4        0.0014514  0.0283304    0.05\n",
       "genotype_batchUKBiLEVEAX_b5        0.0547243  0.0281239    1.95\n",
       "genotype_batchUKBiLEVEAX_b6        0.0118747  0.0282220    0.42\n",
       "genotype_batchUKBiLEVEAX_b7        0.0212166  0.0283330    0.75\n",
       "genotype_batchUKBiLEVEAX_b8       -0.0033230  0.0280894   -0.12\n",
       "genotype_batchUKBiLEVEAX_b9        0.0352308  0.0282504    1.25\n",
       "PC1                                0.0035889  0.0006346    5.66\n",
       "PC2                               -0.0027752  0.0007211   -3.85\n",
       "PC3                                0.0043842  0.0009630    4.55\n",
       "PC4                               -0.0029563  0.0004748   -6.23\n",
       "PC5                               -0.0055607  0.0003461  -16.07\n",
       "PC6                               -0.0018563  0.0010696   -1.74\n",
       "PC7                               -0.0050437  0.0006963   -7.24\n",
       "PC8                                0.0022839  0.0007925    2.88\n",
       "PC9                               -0.0064167  0.0004950  -12.96\n",
       "PC10                              -0.0002081  0.0010060   -0.21\n",
       "PC11                              -0.0040225  0.0008019   -5.02\n",
       "PC12                               0.0010016  0.0010338    0.97\n",
       "PC13                              -0.0046469  0.0012052   -3.86\n",
       "PC14                              -0.0029812  0.0006753   -4.41\n",
       "PC15                               0.0001428  0.0011187    0.13\n",
       "PC16                              -0.0007901  0.0006974   -1.13\n",
       "PC17                               0.0017857  0.0009828    1.82\n",
       "PC18                              -0.0012995  0.0007093   -1.83\n",
       "PC19                              -0.0010884  0.0006799   -1.60\n",
       "PC20                               0.0046782  0.0006946    6.73\n",
       "                                              Pr(>|t|)    \n",
       "(Intercept)                                    0.23945    \n",
       "age                                            0.06440 .  \n",
       "I(age^2)                                       0.06863 .  \n",
       "sexMale                           < 0.0000000000000002 ***\n",
       "hdl_std                           < 0.0000000000000002 ***\n",
       "trig_std                              0.00000800698040 ***\n",
       "alcoholNever                      < 0.0000000000000002 ***\n",
       "alcoholOnce or twice a week       < 0.0000000000000002 ***\n",
       "alcoholOne to three times a month < 0.0000000000000002 ***\n",
       "alcoholPrefer not to answer                    0.91315    \n",
       "alcoholSpecial occasions only     < 0.0000000000000002 ***\n",
       "alcoholThree or four times a week     0.00000007418664 ***\n",
       "smoking                                        0.00010 ***\n",
       "assessment_centreBirmingham                    0.13696    \n",
       "assessment_centreBristol                       0.74187    \n",
       "assessment_centreBury                          0.27766    \n",
       "assessment_centreCardiff                       0.08388 .  \n",
       "assessment_centreCroydon                       0.47552    \n",
       "assessment_centreEdinburgh                     0.67526    \n",
       "assessment_centreGlasgow                       0.62767    \n",
       "assessment_centreHounslow                      0.49898    \n",
       "assessment_centreLeeds                         0.44769    \n",
       "assessment_centreLiverpool                     0.13627    \n",
       "assessment_centreManchester                    0.08152 .  \n",
       "assessment_centreMiddlesborough                0.42348    \n",
       "assessment_centreNewcastle                     0.76632    \n",
       "assessment_centreNottingham                    0.40022    \n",
       "assessment_centreOxford                        0.73814    \n",
       "assessment_centreReading                       0.13281    \n",
       "assessment_centreSheffield                     0.17069    \n",
       "assessment_centreStoke                         0.10260    \n",
       "assessment_centreSwansea                       0.43047    \n",
       "assessment_centreWrexham                       0.84255    \n",
       "genotype_batchBatch_b002                       0.58128    \n",
       "genotype_batchBatch_b003                       0.63587    \n",
       "genotype_batchBatch_b004                       0.69406    \n",
       "genotype_batchBatch_b005                       0.70016    \n",
       "genotype_batchBatch_b006                       0.93533    \n",
       "genotype_batchBatch_b007                       0.76678    \n",
       "genotype_batchBatch_b008                       0.36541    \n",
       "genotype_batchBatch_b009                       0.25021    \n",
       "genotype_batchBatch_b010                       0.90305    \n",
       "genotype_batchBatch_b011                       0.59643    \n",
       "genotype_batchBatch_b012                       0.72751    \n",
       "genotype_batchBatch_b013                       0.94265    \n",
       "genotype_batchBatch_b014                       0.14798    \n",
       "genotype_batchBatch_b015                       0.36543    \n",
       "genotype_batchBatch_b016                       0.51850    \n",
       "genotype_batchBatch_b017                       0.31537    \n",
       "genotype_batchBatch_b018                       0.88234    \n",
       "genotype_batchBatch_b019                       0.96071    \n",
       "genotype_batchBatch_b020                       0.87932    \n",
       "genotype_batchBatch_b021                       0.35515    \n",
       "genotype_batchBatch_b022                       0.85779    \n",
       "genotype_batchBatch_b023                       0.96921    \n",
       "genotype_batchBatch_b024                       0.25598    \n",
       "genotype_batchBatch_b025                       0.69144    \n",
       "genotype_batchBatch_b026                       0.22367    \n",
       "genotype_batchBatch_b027                       0.50982    \n",
       "genotype_batchBatch_b028                       0.79992    \n",
       "genotype_batchBatch_b029                       0.12384    \n",
       "genotype_batchBatch_b030                       0.99464    \n",
       "genotype_batchBatch_b031                       0.31596    \n",
       "genotype_batchBatch_b032                       0.85898    \n",
       "genotype_batchBatch_b033                       0.67589    \n",
       "genotype_batchBatch_b034                       0.32462    \n",
       "genotype_batchBatch_b035                       0.38052    \n",
       "genotype_batchBatch_b036                       0.97561    \n",
       "genotype_batchBatch_b037                       0.75834    \n",
       "genotype_batchBatch_b038                       0.22071    \n",
       "genotype_batchBatch_b039                       0.15006    \n",
       "genotype_batchBatch_b040                       0.23811    \n",
       "genotype_batchBatch_b041                       0.88450    \n",
       "genotype_batchBatch_b042                       0.73786    \n",
       "genotype_batchBatch_b043                       0.92629    \n",
       "genotype_batchBatch_b044                       0.65774    \n",
       "genotype_batchBatch_b045                       0.79494    \n",
       "genotype_batchBatch_b046                       0.48871    \n",
       "genotype_batchBatch_b047                       0.62127    \n",
       "genotype_batchBatch_b048                       0.70661    \n",
       "genotype_batchBatch_b049                       0.59808    \n",
       "genotype_batchBatch_b050                       0.43353    \n",
       "genotype_batchBatch_b051                       0.35981    \n",
       "genotype_batchBatch_b052                       0.45382    \n",
       "genotype_batchBatch_b053                       0.51311    \n",
       "genotype_batchBatch_b054                       0.98023    \n",
       "genotype_batchBatch_b055                       0.81040    \n",
       "genotype_batchBatch_b056                       0.23026    \n",
       "genotype_batchBatch_b057                       0.69358    \n",
       "genotype_batchBatch_b058                       0.97088    \n",
       "genotype_batchBatch_b059                       0.84224    \n",
       "genotype_batchBatch_b060                       0.26432    \n",
       "genotype_batchBatch_b061                       0.48940    \n",
       "genotype_batchBatch_b062                       0.63065    \n",
       "genotype_batchBatch_b063                       0.50735    \n",
       "genotype_batchBatch_b064                       0.45489    \n",
       "genotype_batchBatch_b065                       0.37554    \n",
       "genotype_batchBatch_b066                       0.87704    \n",
       "genotype_batchBatch_b067                       0.61122    \n",
       "genotype_batchBatch_b068                       0.69603    \n",
       "genotype_batchBatch_b069                       0.87337    \n",
       "genotype_batchBatch_b070                       0.47842    \n",
       "genotype_batchBatch_b071                       0.08203 .  \n",
       "genotype_batchBatch_b072                       0.42271    \n",
       "genotype_batchBatch_b073                       0.27092    \n",
       "genotype_batchBatch_b074                       0.82993    \n",
       "genotype_batchBatch_b075                       0.48076    \n",
       "genotype_batchBatch_b076                       0.59306    \n",
       "genotype_batchBatch_b077                       0.65854    \n",
       "genotype_batchBatch_b078                       0.24586    \n",
       "genotype_batchBatch_b079                       0.17065    \n",
       "genotype_batchBatch_b080                       0.83446    \n",
       "genotype_batchBatch_b081                       0.63625    \n",
       "genotype_batchBatch_b082                       0.48142    \n",
       "genotype_batchBatch_b083                       0.54272    \n",
       "genotype_batchBatch_b084                       0.81286    \n",
       "genotype_batchBatch_b085                       0.47365    \n",
       "genotype_batchBatch_b086                       0.52120    \n",
       "genotype_batchBatch_b087                       0.43508    \n",
       "genotype_batchBatch_b088                       0.98743    \n",
       "genotype_batchBatch_b089                       0.67851    \n",
       "genotype_batchBatch_b090                       0.72774    \n",
       "genotype_batchBatch_b091                       0.45508    \n",
       "genotype_batchBatch_b092                       0.49773    \n",
       "genotype_batchBatch_b093                       0.91483    \n",
       "genotype_batchBatch_b094                       0.82703    \n",
       "genotype_batchBatch_b095                       0.54715    \n",
       "genotype_batchUKBiLEVEAX_b1                    0.84882    \n",
       "genotype_batchUKBiLEVEAX_b10                   0.41158    \n",
       "genotype_batchUKBiLEVEAX_b11                   0.28025    \n",
       "genotype_batchUKBiLEVEAX_b2                    0.37687    \n",
       "genotype_batchUKBiLEVEAX_b3                    0.56005    \n",
       "genotype_batchUKBiLEVEAX_b4                    0.95914    \n",
       "genotype_batchUKBiLEVEAX_b5                    0.05168 .  \n",
       "genotype_batchUKBiLEVEAX_b6                    0.67393    \n",
       "genotype_batchUKBiLEVEAX_b7                    0.45396    \n",
       "genotype_batchUKBiLEVEAX_b8                    0.90583    \n",
       "genotype_batchUKBiLEVEAX_b9                    0.21237    \n",
       "PC1                                   0.00000001560067 ***\n",
       "PC2                                            0.00012 ***\n",
       "PC3                                   0.00000529442556 ***\n",
       "PC4                                   0.00000000047938 ***\n",
       "PC5                               < 0.0000000000000002 ***\n",
       "PC6                                            0.08266 .  \n",
       "PC7                                   0.00000000000044 ***\n",
       "PC8                                            0.00395 ** \n",
       "PC9                               < 0.0000000000000002 ***\n",
       "PC10                                           0.83612    \n",
       "PC11                                  0.00000052783036 ***\n",
       "PC12                                           0.33262    \n",
       "PC13                                           0.00012 ***\n",
       "PC14                                  0.00001011029433 ***\n",
       "PC15                                           0.89843    \n",
       "PC16                                           0.25725    \n",
       "PC17                                           0.06924 .  \n",
       "PC18                                           0.06695 .  \n",
       "PC19                                           0.10941    \n",
       "PC20                                  0.00000000001644 ***\n",
       "---\n",
       "Signif. codes:  0 ‘***’ 0.001 ‘**’ 0.01 ‘*’ 0.05 ‘.’ 0.1 ‘ ’ 1\n",
       "\n",
       "Residual standard error: 0.993 on 252696 degrees of freedom\n",
       "Multiple R-squared:  0.0146,\tAdjusted R-squared:  0.014 \n",
       "F-statistic: 23.9 on 157 and 252696 DF,  p-value: <0.0000000000000002\n"
      ]
     },
     "metadata": {},
     "output_type": "display_data"
    }
   ],
   "source": [
    "summary(ldl_instrument.model)"
   ]
  },
  {
   "cell_type": "code",
   "execution_count": 34,
   "metadata": {
    "collapsed": true
   },
   "outputs": [],
   "source": [
    "ldl_sens.first.stage.all <- sensemakr(model = ldl_first.stage,\n",
    "                              treatment = \"prs_std_ldl\",\n",
    "                              benchmark_covariates = list(`All` = ldl_all),\n",
    "                              kd = c(1, 2, 3))"
   ]
  },
  {
   "cell_type": "code",
   "execution_count": 35,
   "metadata": {},
   "outputs": [
    {
     "name": "stdout",
     "output_type": "stream",
     "text": [
      "Sensitivity Analysis to Unobserved Confounding\n",
      "\n",
      "Model Formula: ldl_std ~ prs_std_ldl + age + I(age^2) + sex + hdl_std + trig_std + \n",
      "    alcohol + smoking + assessment_centre + genotype_batch + \n",
      "    PC1 + PC2 + PC3 + PC4 + PC5 + PC6 + PC7 + PC8 + PC9 + PC10 + \n",
      "    PC11 + PC12 + PC13 + PC14 + PC15 + PC16 + PC17 + PC18 + PC19 + \n",
      "    PC20\n",
      "\n",
      "Null hypothesis: q = 1 and reduce = TRUE \n",
      "-- This means we are considering biases that reduce the absolute value of the current estimate.\n",
      "-- The null hypothesis deemed problematic is H0:tau = 0 \n",
      "\n",
      "Unadjusted Estimates of 'prs_std_ldl': \n",
      "  Coef. estimate: -0.12 \n",
      "  Standard Error: 0.002 \n",
      "  t-value (H0:tau = 0): -64.14 \n",
      "\n",
      "Sensitivity Statistics:\n",
      "  Partial R2 of treatment with outcome: 0.016 \n",
      "  Robustness Value, q = 1: 0.12 \n",
      "  Robustness Value, q = 1, alpha = 0.05: 0.116 \n",
      "\n",
      "Verbal interpretation of sensitivity statistics:\n",
      "\n",
      "-- Partial R2 of the treatment with the outcome: an extreme confounder (orthogonal to the covariates) that explains 100% of the residual variance of the outcome, would need to explain at least 1.6% of the residual variance of the treatment to fully account for the observed estimated effect.\n",
      "\n",
      "-- Robustness Value, q = 1: unobserved confounders (orthogonal to the covariates) that explain more than 12% of the residual variance of both the treatment and the outcome are strong enough to bring the point estimate to 0 (a bias of 100% of the original estimate). Conversely, unobserved confounders that do not explain more than 12% of the residual variance of both the treatment and the outcome are not strong enough to bring the point estimate to 0.\n",
      "\n",
      "-- Robustness Value, q = 1, alpha = 0.05: unobserved confounders (orthogonal to the covariates) that explain more than 11.6% of the residual variance of both the treatment and the outcome are strong enough to bring the estimate to a range where it is no longer 'statistically different' from 0 (a bias of 100% of the original estimate), at the significance level of alpha = 0.05. Conversely, unobserved confounders that do not explain more than 11.6% of the residual variance of both the treatment and the outcome are not strong enough to bring the estimate to a range where it is no longer 'statistically different' from 0, at the significance level of alpha = 0.05.\n",
      "\n",
      "Bounds on omitted variable bias:\n",
      "\n",
      "--The table below shows the maximum strength of unobserved confounders with association with the treatment and the outcome bounded by a multiple of the observed explanatory power of the chosen benchmark covariate(s).\n",
      "\n",
      " Bound Label R2dz.x R2yz.dx   Treatment Adjusted Estimate Adjusted Se\n",
      "      1x All  0.015    0.13 prs_std_ldl            -0.079       0.002\n",
      "      2x All  0.030    0.26 prs_std_ldl            -0.036       0.002\n",
      "      3x All  0.045    0.39 prs_std_ldl             0.007       0.001\n",
      " Adjusted T Adjusted Lower CI Adjusted Upper CI\n",
      "    -44.574            -0.082            -0.075\n",
      "    -22.091            -0.039            -0.033\n",
      "      4.589             0.004             0.010\n"
     ]
    }
   ],
   "source": [
    "summary(ldl_sens.first.stage.all)"
   ]
  },
  {
   "cell_type": "code",
   "execution_count": 36,
   "metadata": {},
   "outputs": [
    {
     "data": {
      "image/png": "[encoded data removed]",
      "text/plain": [
       "plot without title"
      ]
     },
     "metadata": {
      "image/png": {
       "height": 450,
       "width": 600
      }
     },
     "output_type": "display_data"
    }
   ],
   "source": [
    "options(repr.plot.width = 6, repr.plot.height = 4.5, repr.plot.res = 200)\n",
    "plot(ldl_sens.first.stage.all, sensitivity.of = \"t-value\", lim = 0.05)"
   ]
  },
  {
   "cell_type": "code",
   "execution_count": 37,
   "metadata": {
    "collapsed": true
   },
   "outputs": [],
   "source": [
    "# RF Coronary Heart Disease Sensitivity\n",
    "\n",
    "ldl_reduced.form.chd <- lm(chd ~ prs_std_ldl + age + I(age^2) + sex +\n",
    "                         hdl_std + trig_std +\n",
    "                         alcohol + smoking +\n",
    "                         assessment_centre + genotype_batch +\n",
    "                         PC1 + PC2 + PC3 +  PC4 + PC5 + PC6 +\n",
    "                         PC7 + PC8 + PC9 + PC10 + PC11 +\n",
    "                         PC12 + PC13 + PC14 + PC15 + PC16 + PC17 +\n",
    "                         PC18 + PC19 + PC20,\n",
    "                         data = data)"
   ]
  },
  {
   "cell_type": "code",
   "execution_count": 38,
   "metadata": {},
   "outputs": [
    {
     "data": {
      "text/html": [
       "<strong>prs_std_ldl:</strong> 0.000183315881661396"
      ],
      "text/latex": [
       "\\textbf{prs\\textbackslash{}\\_std\\textbackslash{}\\_ldl:} 0.000183315881661396"
      ],
      "text/markdown": [
       "**prs_std_ldl:** 0.000183315881661396"
      ],
      "text/plain": [
       "prs_std_ldl \n",
       "  0.0001833 "
      ]
     },
     "metadata": {},
     "output_type": "display_data"
    }
   ],
   "source": [
    "partial_r2(ldl_reduced.form.chd, covariates = \"prs_std_ldl\")"
   ]
  },
  {
   "cell_type": "code",
   "execution_count": 39,
   "metadata": {},
   "outputs": [
    {
     "data": {
      "text/html": [
       "<table class=\"dataframe\">\n",
       "<caption>A data.frame: 1 × 9</caption>\n",
       "<thead>\n",
       "\t<tr><th scope=col>treatment</th><th scope=col>estimate</th><th scope=col>se</th><th scope=col>t_statistic</th><th scope=col>r2yd.x</th><th scope=col>rv_q</th><th scope=col>rv_qa</th><th scope=col>f2yd.x</th><th scope=col>dof</th></tr>\n",
       "\t<tr><th scope=col>&lt;chr&gt;</th><th scope=col>&lt;dbl&gt;</th><th scope=col>&lt;dbl&gt;</th><th scope=col>&lt;dbl&gt;</th><th scope=col>&lt;dbl&gt;</th><th scope=col>&lt;numeric&gt;</th><th scope=col>&lt;numeric&gt;</th><th scope=col>&lt;dbl&gt;</th><th scope=col>&lt;int&gt;</th></tr>\n",
       "</thead>\n",
       "<tbody>\n",
       "\t<tr><td>prs_std_ldl</td><td>-0.002703</td><td>0.0003971</td><td>-6.807</td><td>0.0001833</td><td>0.01345</td><td>0.009595</td><td>0.0001833</td><td>252695</td></tr>\n",
       "</tbody>\n",
       "</table>\n"
      ],
      "text/latex": [
       "A data.frame: 1 × 9\n",
       "\\begin{tabular}{lllllllll}\n",
       " treatment & estimate & se & t\\_statistic & r2yd.x & rv\\_q & rv\\_qa & f2yd.x & dof\\\\\n",
       " <chr> & <dbl> & <dbl> & <dbl> & <dbl> & <numeric> & <numeric> & <dbl> & <int>\\\\\n",
       "\\hline\n",
       "\t prs\\_std\\_ldl & -0.002703 & 0.0003971 & -6.807 & 0.0001833 & 0.01345 & 0.009595 & 0.0001833 & 252695\\\\\n",
       "\\end{tabular}\n"
      ],
      "text/markdown": [
       "\n",
       "A data.frame: 1 × 9\n",
       "\n",
       "| treatment &lt;chr&gt; | estimate &lt;dbl&gt; | se &lt;dbl&gt; | t_statistic &lt;dbl&gt; | r2yd.x &lt;dbl&gt; | rv_q &lt;numeric&gt; | rv_qa &lt;numeric&gt; | f2yd.x &lt;dbl&gt; | dof &lt;int&gt; |\n",
       "|---|---|---|---|---|---|---|---|---|\n",
       "| prs_std_ldl | -0.002703 | 0.0003971 | -6.807 | 0.0001833 | 0.01345 | 0.009595 | 0.0001833 | 252695 |\n",
       "\n"
      ],
      "text/plain": [
       "  treatment   estimate  se        t_statistic r2yd.x    rv_q    rv_qa   \n",
       "1 prs_std_ldl -0.002703 0.0003971 -6.807      0.0001833 0.01345 0.009595\n",
       "  f2yd.x    dof   \n",
       "1 0.0001833 252695"
      ]
     },
     "metadata": {},
     "output_type": "display_data"
    }
   ],
   "source": [
    "sensitivity_stats(ldl_reduced.form.chd, treatment = \"prs_std_ldl\")"
   ]
  },
  {
   "cell_type": "code",
   "execution_count": 40,
   "metadata": {
    "collapsed": true
   },
   "outputs": [],
   "source": [
    "ldl_sense.rf.chd <- sensemakr(model = ldl_reduced.form.chd,\n",
    "                              treatment = \"prs_std_ldl\")#,\n",
    "                              #benchmark_covariates = list(`All` = all),\n",
    "                              #kd = c(1))"
   ]
  },
  {
   "cell_type": "code",
   "execution_count": 41,
   "metadata": {},
   "outputs": [
    {
     "name": "stdout",
     "output_type": "stream",
     "text": [
      "Sensitivity Analysis to Unobserved Confounding\n",
      "\n",
      "Model Formula: chd ~ prs_std_ldl + age + I(age^2) + sex + hdl_std + trig_std + \n",
      "    alcohol + smoking + assessment_centre + genotype_batch + \n",
      "    PC1 + PC2 + PC3 + PC4 + PC5 + PC6 + PC7 + PC8 + PC9 + PC10 + \n",
      "    PC11 + PC12 + PC13 + PC14 + PC15 + PC16 + PC17 + PC18 + PC19 + \n",
      "    PC20\n",
      "\n",
      "Null hypothesis: q = 1 and reduce = TRUE \n",
      "-- This means we are considering biases that reduce the absolute value of the current estimate.\n",
      "-- The null hypothesis deemed problematic is H0:tau = 0 \n",
      "\n",
      "Unadjusted Estimates of 'prs_std_ldl': \n",
      "  Coef. estimate: -0.003 \n",
      "  Standard Error: 0 \n",
      "  t-value (H0:tau = 0): -6.807 \n",
      "\n",
      "Sensitivity Statistics:\n",
      "  Partial R2 of treatment with outcome: 0 \n",
      "  Robustness Value, q = 1: 0.013 \n",
      "  Robustness Value, q = 1, alpha = 0.05: 0.01 \n",
      "\n",
      "Verbal interpretation of sensitivity statistics:\n",
      "\n",
      "-- Partial R2 of the treatment with the outcome: an extreme confounder (orthogonal to the covariates) that explains 100% of the residual variance of the outcome, would need to explain at least 0% of the residual variance of the treatment to fully account for the observed estimated effect.\n",
      "\n",
      "-- Robustness Value, q = 1: unobserved confounders (orthogonal to the covariates) that explain more than 1.3% of the residual variance of both the treatment and the outcome are strong enough to bring the point estimate to 0 (a bias of 100% of the original estimate). Conversely, unobserved confounders that do not explain more than 1.3% of the residual variance of both the treatment and the outcome are not strong enough to bring the point estimate to 0.\n",
      "\n",
      "-- Robustness Value, q = 1, alpha = 0.05: unobserved confounders (orthogonal to the covariates) that explain more than 1% of the residual variance of both the treatment and the outcome are strong enough to bring the estimate to a range where it is no longer 'statistically different' from 0 (a bias of 100% of the original estimate), at the significance level of alpha = 0.05. Conversely, unobserved confounders that do not explain more than 1% of the residual variance of both the treatment and the outcome are not strong enough to bring the estimate to a range where it is no longer 'statistically different' from 0, at the significance level of alpha = 0.05.\n",
      "\n"
     ]
    }
   ],
   "source": [
    "summary(ldl_sense.rf.chd)"
   ]
  },
  {
   "cell_type": "code",
   "execution_count": 42,
   "metadata": {},
   "outputs": [
    {
     "name": "stdout",
     "output_type": "stream",
     "text": [
      "'data.frame':\t1 obs. of  9 variables:\n",
      " $ treatment  : chr \"prs_std_ldl\"\n",
      " $ estimate   : num -0.0027\n",
      " $ se         : num 0.000397\n",
      " $ t_statistic: num -6.81\n",
      " $ r2yd.x     : num 0.000183\n",
      " $ rv_q       : num 0.0134\n",
      "  ..- attr(*, \"q\")= num 1\n",
      "  ..- attr(*, \"alpha\")= num 1\n",
      " $ rv_qa      : num 0.0096\n",
      "  ..- attr(*, \"q\")= num 1\n",
      "  ..- attr(*, \"alpha\")= num 0.05\n",
      " $ f2yd.x     : num 0.000183\n",
      " $ dof        : int 252695\n"
     ]
    }
   ],
   "source": [
    "str(ldl_sense.rf.chd$sensitivity_stats)"
   ]
  },
  {
   "cell_type": "code",
   "execution_count": 43,
   "metadata": {},
   "outputs": [
    {
     "data": {
      "image/png": "[encoded data removed]",
      "text/plain": [
       "plot without title"
      ]
     },
     "metadata": {
      "image/png": {
       "height": 450,
       "width": 600
      }
     },
     "output_type": "display_data"
    }
   ],
   "source": [
    "# Contour plot for bounding on Coronary Heart Disease (CHD)\n",
    "xlab <- expression(paste(\"Partial \", R^2, \" of unobservables with PRS\"))\n",
    "ylab <- expression(paste(\"Partial \", R^2, \" of unobservables with CHD\"))\n",
    "options(repr.plot.width = 6, repr.plot.height = 4.5, repr.plot.res = 200)\n",
    "plot(ldl_sense.rf.chd, \n",
    "     sensitivity.of = \"t-value\",\n",
    "     nlevels = 5,\n",
    "     lim = 0.06, lim.y = 0.06,\n",
    "     xlab=xlab, ylab=ylab)\n",
    "#add_bound_to_contour(model = ldl_reduced.form.chd,\n",
    "#                              treatment = \"prs_std_ldl\",\n",
    "#                              benchmark_covariates = list(`All` = ldl_all),\n",
    "#                              kd=1,\n",
    "#                              label.bump.x = -0.0005, label.bump.y = 0.0035) \n",
    "add_bound_to_contour(model = ldl_reduced.form.chd,\n",
    "                              treatment = \"prs_std_ldl\",\n",
    "                              benchmark_covariates = list(`HDL + Triglycerides` = c(hdl, trig)),\n",
    "                              kd=1,\n",
    "                              label.bump.x = 0.005, label.bump.y = 0.0020)\n",
    "add_bound_to_contour(model = ldl_reduced.form.chd,\n",
    "                              treatment = \"prs_std_ldl\",\n",
    "                              benchmark_covariates = list(`Obs. Centre + Batch` = c(assessment_centre, batch_effects)),\n",
    "                              kd=10,\n",
    "                              label.bump.x = 0.0135, label.bump.y = 0.0005)\n",
    "add_bound_to_contour(model = ldl_reduced.form.chd,\n",
    "                              treatment = \"prs_std_ldl\",\n",
    "                              benchmark_covariates = list(`First 20 Princ. Comp.` = PCs),\n",
    "                              kd=6,\n",
    "                              label.bump.x = 0.0110, label.bump.y = 0.0005)"
   ]
  },
  {
   "cell_type": "code",
   "execution_count": 44,
   "metadata": {},
   "outputs": [
    {
     "data": {
      "text/html": [
       "<strong>png:</strong> 2"
      ],
      "text/latex": [
       "\\textbf{png:} 2"
      ],
      "text/markdown": [
       "**png:** 2"
      ],
      "text/plain": [
       "png \n",
       "  2 "
      ]
     },
     "metadata": {},
     "output_type": "display_data"
    }
   ],
   "source": [
    "# Now do same plot but save to PDF (add pdf command at beginning and dev.off command at end)\n",
    "pdf(\"ldl_chd_rf_combined.pdf\", width = 4.5, height = 4.5)\n",
    "xlab <- expression(paste(\"Partial \", R^2, \" of unobservables with PRS\"))\n",
    "ylab <- expression(paste(\"Partial \", R^2, \" of unobservables with CHD\"))\n",
    "options(repr.plot.width = 6, repr.plot.height = 4.5, repr.plot.res = 200)\n",
    "plot(ldl_sense.rf.chd, \n",
    "     sensitivity.of = \"t-value\",\n",
    "     nlevels = 5,\n",
    "     lim = 0.06, lim.y = 0.06,\n",
    "     xlab=xlab, ylab=ylab)\n",
    "#add_bound_to_contour(model = ldl_reduced.form.chd,\n",
    "#                              treatment = \"prs_std_ldl\",\n",
    "#                              benchmark_covariates = list(`All` = ldl_all),\n",
    "#                              kd=1,\n",
    "#                              label.bump.x = -0.0005, label.bump.y = 0.0035) \n",
    "add_bound_to_contour(model = ldl_reduced.form.chd,\n",
    "                              treatment = \"prs_std_ldl\",\n",
    "                              benchmark_covariates = list(`HDL + Triglycerides` = c(hdl, trig)),\n",
    "                              kd=1,\n",
    "                              label.bump.x = 0.005, label.bump.y = 0.0020)\n",
    "add_bound_to_contour(model = ldl_reduced.form.chd,\n",
    "                              treatment = \"prs_std_ldl\",\n",
    "                              benchmark_covariates = list(`Obs. Centre + Batch` = c(assessment_centre, batch_effects)),\n",
    "                              kd=10,\n",
    "                              label.bump.x = 0.0135, label.bump.y = 0.0005)\n",
    "add_bound_to_contour(model = ldl_reduced.form.chd,\n",
    "                              treatment = \"prs_std_ldl\",\n",
    "                              benchmark_covariates = list(`First 20 Princ. Comp.` = PCs),\n",
    "                              kd=6,\n",
    "                              label.bump.x = 0.0110, label.bump.y = 0.0005)\n",
    "dev.off()"
   ]
  },
  {
   "cell_type": "code",
   "execution_count": 45,
   "metadata": {},
   "outputs": [
    {
     "data": {
      "text/html": [
       "<table class=\"dataframe\">\n",
       "<caption>A ovb_bounds: 1 × 9</caption>\n",
       "<thead>\n",
       "\t<tr><th scope=col>bound_label</th><th scope=col>r2dz.x</th><th scope=col>r2yz.dx</th><th scope=col>treatment</th><th scope=col>adjusted_estimate</th><th scope=col>adjusted_se</th><th scope=col>adjusted_t</th><th scope=col>adjusted_lower_CI</th><th scope=col>adjusted_upper_CI</th></tr>\n",
       "\t<tr><th scope=col>&lt;chr&gt;</th><th scope=col>&lt;dbl&gt;</th><th scope=col>&lt;dbl&gt;</th><th scope=col>&lt;chr&gt;</th><th scope=col>&lt;dbl&gt;</th><th scope=col>&lt;dbl&gt;</th><th scope=col>&lt;numeric&gt;</th><th scope=col>&lt;dbl&gt;</th><th scope=col>&lt;dbl&gt;</th></tr>\n",
       "</thead>\n",
       "<tbody>\n",
       "\t<tr><td>1x Pop. Strat.</td><td>0.005322</td><td>0.0003619</td><td>prs_std_ldl</td><td>-0.002425</td><td>0.0003981</td><td>-6.092</td><td>-0.003205</td><td>-0.001645</td></tr>\n",
       "</tbody>\n",
       "</table>\n"
      ],
      "text/latex": [
       "A ovb\\_bounds: 1 × 9\n",
       "\\begin{tabular}{lllllllll}\n",
       " bound\\_label & r2dz.x & r2yz.dx & treatment & adjusted\\_estimate & adjusted\\_se & adjusted\\_t & adjusted\\_lower\\_CI & adjusted\\_upper\\_CI\\\\\n",
       " <chr> & <dbl> & <dbl> & <chr> & <dbl> & <dbl> & <numeric> & <dbl> & <dbl>\\\\\n",
       "\\hline\n",
       "\t 1x Pop. Strat. & 0.005322 & 0.0003619 & prs\\_std\\_ldl & -0.002425 & 0.0003981 & -6.092 & -0.003205 & -0.001645\\\\\n",
       "\\end{tabular}\n"
      ],
      "text/markdown": [
       "\n",
       "A ovb_bounds: 1 × 9\n",
       "\n",
       "| bound_label &lt;chr&gt; | r2dz.x &lt;dbl&gt; | r2yz.dx &lt;dbl&gt; | treatment &lt;chr&gt; | adjusted_estimate &lt;dbl&gt; | adjusted_se &lt;dbl&gt; | adjusted_t &lt;numeric&gt; | adjusted_lower_CI &lt;dbl&gt; | adjusted_upper_CI &lt;dbl&gt; |\n",
       "|---|---|---|---|---|---|---|---|---|\n",
       "| 1x Pop. Strat. | 0.005322 | 0.0003619 | prs_std_ldl | -0.002425 | 0.0003981 | -6.092 | -0.003205 | -0.001645 |\n",
       "\n"
      ],
      "text/plain": [
       "  bound_label    r2dz.x   r2yz.dx   treatment   adjusted_estimate adjusted_se\n",
       "1 1x Pop. Strat. 0.005322 0.0003619 prs_std_ldl -0.002425         0.0003981  \n",
       "  adjusted_t adjusted_lower_CI adjusted_upper_CI\n",
       "1 -6.092     -0.003205         -0.001645        "
      ]
     },
     "metadata": {},
     "output_type": "display_data"
    }
   ],
   "source": [
    "ldl_sense.rf.chd.pcs <- sensemakr(model = ldl_reduced.form.chd,\n",
    "                              treatment = \"prs_std_ldl\",\n",
    "                              benchmark_covariates = list(`Pop. Strat.` = PCs),\n",
    "                              kd = c(1))\n",
    "ldl_sense.rf.chd.pcs$bounds"
   ]
  },
  {
   "cell_type": "code",
   "execution_count": 46,
   "metadata": {},
   "outputs": [
    {
     "data": {
      "text/html": [
       "<table class=\"dataframe\">\n",
       "<caption>A ovb_bounds: 1 × 9</caption>\n",
       "<thead>\n",
       "\t<tr><th scope=col>bound_label</th><th scope=col>r2dz.x</th><th scope=col>r2yz.dx</th><th scope=col>treatment</th><th scope=col>adjusted_estimate</th><th scope=col>adjusted_se</th><th scope=col>adjusted_t</th><th scope=col>adjusted_lower_CI</th><th scope=col>adjusted_upper_CI</th></tr>\n",
       "\t<tr><th scope=col>&lt;chr&gt;</th><th scope=col>&lt;dbl&gt;</th><th scope=col>&lt;dbl&gt;</th><th scope=col>&lt;chr&gt;</th><th scope=col>&lt;dbl&gt;</th><th scope=col>&lt;dbl&gt;</th><th scope=col>&lt;numeric&gt;</th><th scope=col>&lt;dbl&gt;</th><th scope=col>&lt;dbl&gt;</th></tr>\n",
       "</thead>\n",
       "<tbody>\n",
       "\t<tr><td>1x Centre + Batch</td><td>0.0004553</td><td>0.001851</td><td>prs_std_ldl</td><td>-0.002519</td><td>0.0003968</td><td>-6.35</td><td>-0.003297</td><td>-0.001742</td></tr>\n",
       "</tbody>\n",
       "</table>\n"
      ],
      "text/latex": [
       "A ovb\\_bounds: 1 × 9\n",
       "\\begin{tabular}{lllllllll}\n",
       " bound\\_label & r2dz.x & r2yz.dx & treatment & adjusted\\_estimate & adjusted\\_se & adjusted\\_t & adjusted\\_lower\\_CI & adjusted\\_upper\\_CI\\\\\n",
       " <chr> & <dbl> & <dbl> & <chr> & <dbl> & <dbl> & <numeric> & <dbl> & <dbl>\\\\\n",
       "\\hline\n",
       "\t 1x Centre + Batch & 0.0004553 & 0.001851 & prs\\_std\\_ldl & -0.002519 & 0.0003968 & -6.35 & -0.003297 & -0.001742\\\\\n",
       "\\end{tabular}\n"
      ],
      "text/markdown": [
       "\n",
       "A ovb_bounds: 1 × 9\n",
       "\n",
       "| bound_label &lt;chr&gt; | r2dz.x &lt;dbl&gt; | r2yz.dx &lt;dbl&gt; | treatment &lt;chr&gt; | adjusted_estimate &lt;dbl&gt; | adjusted_se &lt;dbl&gt; | adjusted_t &lt;numeric&gt; | adjusted_lower_CI &lt;dbl&gt; | adjusted_upper_CI &lt;dbl&gt; |\n",
       "|---|---|---|---|---|---|---|---|---|\n",
       "| 1x Centre + Batch | 0.0004553 | 0.001851 | prs_std_ldl | -0.002519 | 0.0003968 | -6.35 | -0.003297 | -0.001742 |\n",
       "\n"
      ],
      "text/plain": [
       "  bound_label       r2dz.x    r2yz.dx  treatment   adjusted_estimate\n",
       "1 1x Centre + Batch 0.0004553 0.001851 prs_std_ldl -0.002519        \n",
       "  adjusted_se adjusted_t adjusted_lower_CI adjusted_upper_CI\n",
       "1 0.0003968   -6.35      -0.003297         -0.001742        "
      ]
     },
     "metadata": {},
     "output_type": "display_data"
    }
   ],
   "source": [
    "ldl_sense.rf.chd.batch <- sensemakr(model = ldl_reduced.form.chd,\n",
    "                              treatment = \"prs_std_ldl\",\n",
    "                              benchmark_covariates = list(`Centre + Batch` = c(assessment_centre, batch_effects)),\n",
    "                              kd = c(1))\n",
    "ldl_sense.rf.chd.batch$bounds"
   ]
  },
  {
   "cell_type": "code",
   "execution_count": 47,
   "metadata": {},
   "outputs": [
    {
     "data": {
      "text/html": [
       "<table class=\"dataframe\">\n",
       "<caption>A ovb_bounds: 1 × 9</caption>\n",
       "<thead>\n",
       "\t<tr><th scope=col>bound_label</th><th scope=col>r2dz.x</th><th scope=col>r2yz.dx</th><th scope=col>treatment</th><th scope=col>adjusted_estimate</th><th scope=col>adjusted_se</th><th scope=col>adjusted_t</th><th scope=col>adjusted_lower_CI</th><th scope=col>adjusted_upper_CI</th></tr>\n",
       "\t<tr><th scope=col>&lt;chr&gt;</th><th scope=col>&lt;dbl&gt;</th><th scope=col>&lt;dbl&gt;</th><th scope=col>&lt;chr&gt;</th><th scope=col>&lt;dbl&gt;</th><th scope=col>&lt;dbl&gt;</th><th scope=col>&lt;numeric&gt;</th><th scope=col>&lt;dbl&gt;</th><th scope=col>&lt;dbl&gt;</th></tr>\n",
       "</thead>\n",
       "<tbody>\n",
       "\t<tr><td>1x HDL + Triglycerides</td><td>0.007887</td><td>0.008068</td><td>prs_std_ldl</td><td>-0.001104</td><td>0.000397</td><td>-2.781</td><td>-0.001882</td><td>-0.000326</td></tr>\n",
       "</tbody>\n",
       "</table>\n"
      ],
      "text/latex": [
       "A ovb\\_bounds: 1 × 9\n",
       "\\begin{tabular}{lllllllll}\n",
       " bound\\_label & r2dz.x & r2yz.dx & treatment & adjusted\\_estimate & adjusted\\_se & adjusted\\_t & adjusted\\_lower\\_CI & adjusted\\_upper\\_CI\\\\\n",
       " <chr> & <dbl> & <dbl> & <chr> & <dbl> & <dbl> & <numeric> & <dbl> & <dbl>\\\\\n",
       "\\hline\n",
       "\t 1x HDL + Triglycerides & 0.007887 & 0.008068 & prs\\_std\\_ldl & -0.001104 & 0.000397 & -2.781 & -0.001882 & -0.000326\\\\\n",
       "\\end{tabular}\n"
      ],
      "text/markdown": [
       "\n",
       "A ovb_bounds: 1 × 9\n",
       "\n",
       "| bound_label &lt;chr&gt; | r2dz.x &lt;dbl&gt; | r2yz.dx &lt;dbl&gt; | treatment &lt;chr&gt; | adjusted_estimate &lt;dbl&gt; | adjusted_se &lt;dbl&gt; | adjusted_t &lt;numeric&gt; | adjusted_lower_CI &lt;dbl&gt; | adjusted_upper_CI &lt;dbl&gt; |\n",
       "|---|---|---|---|---|---|---|---|---|\n",
       "| 1x HDL + Triglycerides | 0.007887 | 0.008068 | prs_std_ldl | -0.001104 | 0.000397 | -2.781 | -0.001882 | -0.000326 |\n",
       "\n"
      ],
      "text/plain": [
       "  bound_label            r2dz.x   r2yz.dx  treatment   adjusted_estimate\n",
       "1 1x HDL + Triglycerides 0.007887 0.008068 prs_std_ldl -0.001104        \n",
       "  adjusted_se adjusted_t adjusted_lower_CI adjusted_upper_CI\n",
       "1 0.000397    -2.781     -0.001882         -0.000326        "
      ]
     },
     "metadata": {},
     "output_type": "display_data"
    }
   ],
   "source": [
    "ldl_sense.rf.chd.hdltrig <- sensemakr(model = ldl_reduced.form.chd,\n",
    "                              treatment = \"prs_std_ldl\",\n",
    "                              benchmark_covariates = list(`HDL + Triglycerides` = c(hdl, trig)),\n",
    "                              kd = c(1))\n",
    "ldl_sense.rf.chd.hdltrig$bounds"
   ]
  },
  {
   "cell_type": "code",
   "execution_count": 48,
   "metadata": {},
   "outputs": [
    {
     "data": {
      "text/html": [
       "<table class=\"dataframe\">\n",
       "<caption>A ovb_bounds: 1 × 9</caption>\n",
       "<thead>\n",
       "\t<tr><th scope=col>bound_label</th><th scope=col>r2dz.x</th><th scope=col>r2yz.dx</th><th scope=col>treatment</th><th scope=col>adjusted_estimate</th><th scope=col>adjusted_se</th><th scope=col>adjusted_t</th><th scope=col>adjusted_lower_CI</th><th scope=col>adjusted_upper_CI</th></tr>\n",
       "\t<tr><th scope=col>&lt;chr&gt;</th><th scope=col>&lt;dbl&gt;</th><th scope=col>&lt;dbl&gt;</th><th scope=col>&lt;chr&gt;</th><th scope=col>&lt;dbl&gt;</th><th scope=col>&lt;dbl&gt;</th><th scope=col>&lt;numeric&gt;</th><th scope=col>&lt;dbl&gt;</th><th scope=col>&lt;dbl&gt;</th></tr>\n",
       "</thead>\n",
       "<tbody>\n",
       "\t<tr><td>1x HDL</td><td>0.006022</td><td>0.008036</td><td>prs_std_ldl</td><td>-0.00131</td><td>0.0003967</td><td>-3.302</td><td>-0.002087</td><td>-0.0005325</td></tr>\n",
       "</tbody>\n",
       "</table>\n"
      ],
      "text/latex": [
       "A ovb\\_bounds: 1 × 9\n",
       "\\begin{tabular}{lllllllll}\n",
       " bound\\_label & r2dz.x & r2yz.dx & treatment & adjusted\\_estimate & adjusted\\_se & adjusted\\_t & adjusted\\_lower\\_CI & adjusted\\_upper\\_CI\\\\\n",
       " <chr> & <dbl> & <dbl> & <chr> & <dbl> & <dbl> & <numeric> & <dbl> & <dbl>\\\\\n",
       "\\hline\n",
       "\t 1x HDL & 0.006022 & 0.008036 & prs\\_std\\_ldl & -0.00131 & 0.0003967 & -3.302 & -0.002087 & -0.0005325\\\\\n",
       "\\end{tabular}\n"
      ],
      "text/markdown": [
       "\n",
       "A ovb_bounds: 1 × 9\n",
       "\n",
       "| bound_label &lt;chr&gt; | r2dz.x &lt;dbl&gt; | r2yz.dx &lt;dbl&gt; | treatment &lt;chr&gt; | adjusted_estimate &lt;dbl&gt; | adjusted_se &lt;dbl&gt; | adjusted_t &lt;numeric&gt; | adjusted_lower_CI &lt;dbl&gt; | adjusted_upper_CI &lt;dbl&gt; |\n",
       "|---|---|---|---|---|---|---|---|---|\n",
       "| 1x HDL | 0.006022 | 0.008036 | prs_std_ldl | -0.00131 | 0.0003967 | -3.302 | -0.002087 | -0.0005325 |\n",
       "\n"
      ],
      "text/plain": [
       "  bound_label r2dz.x   r2yz.dx  treatment   adjusted_estimate adjusted_se\n",
       "1 1x HDL      0.006022 0.008036 prs_std_ldl -0.00131          0.0003967  \n",
       "  adjusted_t adjusted_lower_CI adjusted_upper_CI\n",
       "1 -3.302     -0.002087         -0.0005325       "
      ]
     },
     "metadata": {},
     "output_type": "display_data"
    }
   ],
   "source": [
    "ldl_sense.rf.chd.hdl <- sensemakr(model = ldl_reduced.form.chd,\n",
    "                              treatment = \"prs_std_ldl\",\n",
    "                              benchmark_covariates = list(`HDL` = hdl),\n",
    "                              kd = c(1))\n",
    "ldl_sense.rf.chd.hdl$bounds"
   ]
  },
  {
   "cell_type": "code",
   "execution_count": 49,
   "metadata": {},
   "outputs": [
    {
     "data": {
      "text/html": [
       "<table class=\"dataframe\">\n",
       "<caption>A ovb_bounds: 1 × 9</caption>\n",
       "<thead>\n",
       "\t<tr><th scope=col>bound_label</th><th scope=col>r2dz.x</th><th scope=col>r2yz.dx</th><th scope=col>treatment</th><th scope=col>adjusted_estimate</th><th scope=col>adjusted_se</th><th scope=col>adjusted_t</th><th scope=col>adjusted_lower_CI</th><th scope=col>adjusted_upper_CI</th></tr>\n",
       "\t<tr><th scope=col>&lt;chr&gt;</th><th scope=col>&lt;dbl&gt;</th><th scope=col>&lt;dbl&gt;</th><th scope=col>&lt;chr&gt;</th><th scope=col>&lt;dbl&gt;</th><th scope=col>&lt;dbl&gt;</th><th scope=col>&lt;numeric&gt;</th><th scope=col>&lt;dbl&gt;</th><th scope=col>&lt;dbl&gt;</th></tr>\n",
       "</thead>\n",
       "<tbody>\n",
       "\t<tr><td>1x Triglycerides</td><td>0.0000789</td><td>0.00115</td><td>prs_std_ldl</td><td>-0.002643</td><td>0.0003969</td><td>-6.659</td><td>-0.00342</td><td>-0.001865</td></tr>\n",
       "</tbody>\n",
       "</table>\n"
      ],
      "text/latex": [
       "A ovb\\_bounds: 1 × 9\n",
       "\\begin{tabular}{lllllllll}\n",
       " bound\\_label & r2dz.x & r2yz.dx & treatment & adjusted\\_estimate & adjusted\\_se & adjusted\\_t & adjusted\\_lower\\_CI & adjusted\\_upper\\_CI\\\\\n",
       " <chr> & <dbl> & <dbl> & <chr> & <dbl> & <dbl> & <numeric> & <dbl> & <dbl>\\\\\n",
       "\\hline\n",
       "\t 1x Triglycerides & 0.0000789 & 0.00115 & prs\\_std\\_ldl & -0.002643 & 0.0003969 & -6.659 & -0.00342 & -0.001865\\\\\n",
       "\\end{tabular}\n"
      ],
      "text/markdown": [
       "\n",
       "A ovb_bounds: 1 × 9\n",
       "\n",
       "| bound_label &lt;chr&gt; | r2dz.x &lt;dbl&gt; | r2yz.dx &lt;dbl&gt; | treatment &lt;chr&gt; | adjusted_estimate &lt;dbl&gt; | adjusted_se &lt;dbl&gt; | adjusted_t &lt;numeric&gt; | adjusted_lower_CI &lt;dbl&gt; | adjusted_upper_CI &lt;dbl&gt; |\n",
       "|---|---|---|---|---|---|---|---|---|\n",
       "| 1x Triglycerides | 0.0000789 | 0.00115 | prs_std_ldl | -0.002643 | 0.0003969 | -6.659 | -0.00342 | -0.001865 |\n",
       "\n"
      ],
      "text/plain": [
       "  bound_label      r2dz.x    r2yz.dx treatment   adjusted_estimate adjusted_se\n",
       "1 1x Triglycerides 0.0000789 0.00115 prs_std_ldl -0.002643         0.0003969  \n",
       "  adjusted_t adjusted_lower_CI adjusted_upper_CI\n",
       "1 -6.659     -0.00342          -0.001865        "
      ]
     },
     "metadata": {},
     "output_type": "display_data"
    }
   ],
   "source": [
    "ldl_sense.rf.chd.trig <- sensemakr(model = ldl_reduced.form.chd,\n",
    "                              treatment = \"prs_std_ldl\",\n",
    "                              benchmark_covariates = list(`Triglycerides` = trig),\n",
    "                              kd = c(1))\n",
    "ldl_sense.rf.chd.trig$bounds"
   ]
  },
  {
   "cell_type": "code",
   "execution_count": 50,
   "metadata": {},
   "outputs": [
    {
     "data": {
      "text/html": [
       "<table class=\"dataframe\">\n",
       "<caption>A ovb_bounds: 1 × 9</caption>\n",
       "<thead>\n",
       "\t<tr><th scope=col>bound_label</th><th scope=col>r2dz.x</th><th scope=col>r2yz.dx</th><th scope=col>treatment</th><th scope=col>adjusted_estimate</th><th scope=col>adjusted_se</th><th scope=col>adjusted_t</th><th scope=col>adjusted_lower_CI</th><th scope=col>adjusted_upper_CI</th></tr>\n",
       "\t<tr><th scope=col>&lt;chr&gt;</th><th scope=col>&lt;dbl&gt;</th><th scope=col>&lt;dbl&gt;</th><th scope=col>&lt;chr&gt;</th><th scope=col>&lt;dbl&gt;</th><th scope=col>&lt;dbl&gt;</th><th scope=col>&lt;numeric&gt;</th><th scope=col>&lt;dbl&gt;</th><th scope=col>&lt;dbl&gt;</th></tr>\n",
       "</thead>\n",
       "<tbody>\n",
       "\t<tr><td>1x Pop. Strat.</td><td>0.005322</td><td>0.0003552</td><td>prs_std_ldl</td><td>-0.1189</td><td>0.001879</td><td>-63.29</td><td>-0.1226</td><td>-0.1152</td></tr>\n",
       "</tbody>\n",
       "</table>\n"
      ],
      "text/latex": [
       "A ovb\\_bounds: 1 × 9\n",
       "\\begin{tabular}{lllllllll}\n",
       " bound\\_label & r2dz.x & r2yz.dx & treatment & adjusted\\_estimate & adjusted\\_se & adjusted\\_t & adjusted\\_lower\\_CI & adjusted\\_upper\\_CI\\\\\n",
       " <chr> & <dbl> & <dbl> & <chr> & <dbl> & <dbl> & <numeric> & <dbl> & <dbl>\\\\\n",
       "\\hline\n",
       "\t 1x Pop. Strat. & 0.005322 & 0.0003552 & prs\\_std\\_ldl & -0.1189 & 0.001879 & -63.29 & -0.1226 & -0.1152\\\\\n",
       "\\end{tabular}\n"
      ],
      "text/markdown": [
       "\n",
       "A ovb_bounds: 1 × 9\n",
       "\n",
       "| bound_label &lt;chr&gt; | r2dz.x &lt;dbl&gt; | r2yz.dx &lt;dbl&gt; | treatment &lt;chr&gt; | adjusted_estimate &lt;dbl&gt; | adjusted_se &lt;dbl&gt; | adjusted_t &lt;numeric&gt; | adjusted_lower_CI &lt;dbl&gt; | adjusted_upper_CI &lt;dbl&gt; |\n",
       "|---|---|---|---|---|---|---|---|---|\n",
       "| 1x Pop. Strat. | 0.005322 | 0.0003552 | prs_std_ldl | -0.1189 | 0.001879 | -63.29 | -0.1226 | -0.1152 |\n",
       "\n"
      ],
      "text/plain": [
       "  bound_label    r2dz.x   r2yz.dx   treatment   adjusted_estimate adjusted_se\n",
       "1 1x Pop. Strat. 0.005322 0.0003552 prs_std_ldl -0.1189           0.001879   \n",
       "  adjusted_t adjusted_lower_CI adjusted_upper_CI\n",
       "1 -63.29     -0.1226           -0.1152          "
      ]
     },
     "metadata": {},
     "output_type": "display_data"
    }
   ],
   "source": [
    "ldl_sense.fs.chd.pcs <- sensemakr(model = ldl_first.stage,\n",
    "                              treatment = \"prs_std_ldl\",\n",
    "                              benchmark_covariates = list(`Pop. Strat.` = PCs),\n",
    "                              kd = c(1))\n",
    "ldl_sense.fs.chd.pcs$bounds"
   ]
  },
  {
   "cell_type": "code",
   "execution_count": 51,
   "metadata": {},
   "outputs": [
    {
     "data": {
      "text/html": [
       "<table class=\"dataframe\">\n",
       "<caption>A ovb_bounds: 1 × 9</caption>\n",
       "<thead>\n",
       "\t<tr><th scope=col>bound_label</th><th scope=col>r2dz.x</th><th scope=col>r2yz.dx</th><th scope=col>treatment</th><th scope=col>adjusted_estimate</th><th scope=col>adjusted_se</th><th scope=col>adjusted_t</th><th scope=col>adjusted_lower_CI</th><th scope=col>adjusted_upper_CI</th></tr>\n",
       "\t<tr><th scope=col>&lt;chr&gt;</th><th scope=col>&lt;dbl&gt;</th><th scope=col>&lt;dbl&gt;</th><th scope=col>&lt;chr&gt;</th><th scope=col>&lt;dbl&gt;</th><th scope=col>&lt;dbl&gt;</th><th scope=col>&lt;numeric&gt;</th><th scope=col>&lt;dbl&gt;</th><th scope=col>&lt;dbl&gt;</th></tr>\n",
       "</thead>\n",
       "<tbody>\n",
       "\t<tr><td>1x Centre + Batch</td><td>0.0004553</td><td>0.001963</td><td>prs_std_ldl</td><td>-0.1193</td><td>0.001873</td><td>-63.71</td><td>-0.123</td><td>-0.1156</td></tr>\n",
       "</tbody>\n",
       "</table>\n"
      ],
      "text/latex": [
       "A ovb\\_bounds: 1 × 9\n",
       "\\begin{tabular}{lllllllll}\n",
       " bound\\_label & r2dz.x & r2yz.dx & treatment & adjusted\\_estimate & adjusted\\_se & adjusted\\_t & adjusted\\_lower\\_CI & adjusted\\_upper\\_CI\\\\\n",
       " <chr> & <dbl> & <dbl> & <chr> & <dbl> & <dbl> & <numeric> & <dbl> & <dbl>\\\\\n",
       "\\hline\n",
       "\t 1x Centre + Batch & 0.0004553 & 0.001963 & prs\\_std\\_ldl & -0.1193 & 0.001873 & -63.71 & -0.123 & -0.1156\\\\\n",
       "\\end{tabular}\n"
      ],
      "text/markdown": [
       "\n",
       "A ovb_bounds: 1 × 9\n",
       "\n",
       "| bound_label &lt;chr&gt; | r2dz.x &lt;dbl&gt; | r2yz.dx &lt;dbl&gt; | treatment &lt;chr&gt; | adjusted_estimate &lt;dbl&gt; | adjusted_se &lt;dbl&gt; | adjusted_t &lt;numeric&gt; | adjusted_lower_CI &lt;dbl&gt; | adjusted_upper_CI &lt;dbl&gt; |\n",
       "|---|---|---|---|---|---|---|---|---|\n",
       "| 1x Centre + Batch | 0.0004553 | 0.001963 | prs_std_ldl | -0.1193 | 0.001873 | -63.71 | -0.123 | -0.1156 |\n",
       "\n"
      ],
      "text/plain": [
       "  bound_label       r2dz.x    r2yz.dx  treatment   adjusted_estimate\n",
       "1 1x Centre + Batch 0.0004553 0.001963 prs_std_ldl -0.1193          \n",
       "  adjusted_se adjusted_t adjusted_lower_CI adjusted_upper_CI\n",
       "1 0.001873    -63.71     -0.123            -0.1156          "
      ]
     },
     "metadata": {},
     "output_type": "display_data"
    }
   ],
   "source": [
    "ldl_sense.fs.chd.batch <- sensemakr(model = ldl_first.stage,\n",
    "                              treatment = \"prs_std_ldl\",\n",
    "                              benchmark_covariates = list(`Centre + Batch` = c(assessment_centre, batch_effects)),\n",
    "                              kd = c(1))\n",
    "ldl_sense.fs.chd.batch$bounds"
   ]
  },
  {
   "cell_type": "code",
   "execution_count": 52,
   "metadata": {},
   "outputs": [
    {
     "data": {
      "text/html": [
       "<table class=\"dataframe\">\n",
       "<caption>A ovb_bounds: 1 × 9</caption>\n",
       "<thead>\n",
       "\t<tr><th scope=col>bound_label</th><th scope=col>r2dz.x</th><th scope=col>r2yz.dx</th><th scope=col>treatment</th><th scope=col>adjusted_estimate</th><th scope=col>adjusted_se</th><th scope=col>adjusted_t</th><th scope=col>adjusted_lower_CI</th><th scope=col>adjusted_upper_CI</th></tr>\n",
       "\t<tr><th scope=col>&lt;chr&gt;</th><th scope=col>&lt;dbl&gt;</th><th scope=col>&lt;dbl&gt;</th><th scope=col>&lt;chr&gt;</th><th scope=col>&lt;dbl&gt;</th><th scope=col>&lt;dbl&gt;</th><th scope=col>&lt;numeric&gt;</th><th scope=col>&lt;dbl&gt;</th><th scope=col>&lt;dbl&gt;</th></tr>\n",
       "</thead>\n",
       "<tbody>\n",
       "\t<tr><td>1x HDL + Triglycerides</td><td>0.007887</td><td>0.1018</td><td>prs_std_ldl</td><td>-0.09339</td><td>0.001783</td><td>-52.37</td><td>-0.09689</td><td>-0.0899</td></tr>\n",
       "</tbody>\n",
       "</table>\n"
      ],
      "text/latex": [
       "A ovb\\_bounds: 1 × 9\n",
       "\\begin{tabular}{lllllllll}\n",
       " bound\\_label & r2dz.x & r2yz.dx & treatment & adjusted\\_estimate & adjusted\\_se & adjusted\\_t & adjusted\\_lower\\_CI & adjusted\\_upper\\_CI\\\\\n",
       " <chr> & <dbl> & <dbl> & <chr> & <dbl> & <dbl> & <numeric> & <dbl> & <dbl>\\\\\n",
       "\\hline\n",
       "\t 1x HDL + Triglycerides & 0.007887 & 0.1018 & prs\\_std\\_ldl & -0.09339 & 0.001783 & -52.37 & -0.09689 & -0.0899\\\\\n",
       "\\end{tabular}\n"
      ],
      "text/markdown": [
       "\n",
       "A ovb_bounds: 1 × 9\n",
       "\n",
       "| bound_label &lt;chr&gt; | r2dz.x &lt;dbl&gt; | r2yz.dx &lt;dbl&gt; | treatment &lt;chr&gt; | adjusted_estimate &lt;dbl&gt; | adjusted_se &lt;dbl&gt; | adjusted_t &lt;numeric&gt; | adjusted_lower_CI &lt;dbl&gt; | adjusted_upper_CI &lt;dbl&gt; |\n",
       "|---|---|---|---|---|---|---|---|---|\n",
       "| 1x HDL + Triglycerides | 0.007887 | 0.1018 | prs_std_ldl | -0.09339 | 0.001783 | -52.37 | -0.09689 | -0.0899 |\n",
       "\n"
      ],
      "text/plain": [
       "  bound_label            r2dz.x   r2yz.dx treatment   adjusted_estimate\n",
       "1 1x HDL + Triglycerides 0.007887 0.1018  prs_std_ldl -0.09339         \n",
       "  adjusted_se adjusted_t adjusted_lower_CI adjusted_upper_CI\n",
       "1 0.001783    -52.37     -0.09689          -0.0899          "
      ]
     },
     "metadata": {},
     "output_type": "display_data"
    }
   ],
   "source": [
    "ldl_sense.fs.chd.hdltrig <- sensemakr(model = ldl_first.stage,\n",
    "                              treatment = \"prs_std_ldl\",\n",
    "                              benchmark_covariates = list(`HDL + Triglycerides` = c(hdl, trig)),\n",
    "                              kd = c(1))\n",
    "ldl_sense.fs.chd.hdltrig$bounds"
   ]
  },
  {
   "cell_type": "code",
   "execution_count": 53,
   "metadata": {},
   "outputs": [
    {
     "data": {
      "text/html": [
       "-0.11589011686084"
      ],
      "text/latex": [
       "-0.11589011686084"
      ],
      "text/markdown": [
       "-0.11589011686084"
      ],
      "text/plain": [
       "[1] -0.1159"
      ]
     },
     "metadata": {},
     "output_type": "display_data"
    },
    {
     "data": {
      "text/html": [
       "0.249067871460619"
      ],
      "text/latex": [
       "0.249067871460619"
      ],
      "text/markdown": [
       "0.249067871460619"
      ],
      "text/plain": [
       "[1] 0.2491"
      ]
     },
     "metadata": {},
     "output_type": "display_data"
    },
    {
     "data": {
      "text/html": [
       "-0.0209458047446124"
      ],
      "text/latex": [
       "-0.0209458047446124"
      ],
      "text/markdown": [
       "-0.0209458047446124"
      ],
      "text/plain": [
       "[1] -0.02095"
      ]
     },
     "metadata": {},
     "output_type": "display_data"
    },
    {
     "data": {
      "text/html": [
       "-0.0152199074414864"
      ],
      "text/latex": [
       "-0.0152199074414864"
      ],
      "text/markdown": [
       "-0.0152199074414864"
      ],
      "text/plain": [
       "[1] -0.01522"
      ]
     },
     "metadata": {},
     "output_type": "display_data"
    }
   ],
   "source": [
    "cor(data$prs_ldl, data$ldl_std)\n",
    "cor(data$prs_hdl, data$hdl_std)\n",
    "cor(data$prs_ldl, data$chd)\n",
    "cor(data$prs_hdl, data$chd)"
   ]
  },
  {
   "cell_type": "code",
   "execution_count": null,
   "metadata": {
    "collapsed": true
   },
   "outputs": [],
   "source": []
  }
 ],
 "metadata": {
  "kernelspec": {
   "display_name": "R",
   "language": "R",
   "name": "ir"
  },
  "language_info": {
   "codemirror_mode": "r",
   "file_extension": ".r",
   "mimetype": "text/x-r-source",
   "name": "R",
   "pygments_lexer": "r",
   "version": "3.6.0"
  }
 },
 "nbformat": 4,
 "nbformat_minor": 2
}
