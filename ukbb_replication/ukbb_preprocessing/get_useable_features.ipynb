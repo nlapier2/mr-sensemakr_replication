{
 "cells": [
  {
   "cell_type": "code",
   "execution_count": null,
   "metadata": {},
   "outputs": [],
   "source": [
    "import pandas as pd\n",
    "import numpy as np\n",
    "import os\n",
    "import glob\n",
    "import sys"
   ]
  },
  {
   "cell_type": "code",
   "execution_count": null,
   "metadata": {},
   "outputs": [],
   "source": [
    "data_f = \"/u/scratch/b/blhill/UKBB_phenotypes_merged.tsv\""
   ]
  },
  {
   "cell_type": "code",
   "execution_count": null,
   "metadata": {},
   "outputs": [],
   "source": [
    "df = pd.read_csv(data_f, header=0, sep=\"\\t\")\n",
    "print(df.shape)"
   ]
  },
  {
   "cell_type": "code",
   "execution_count": null,
   "metadata": {},
   "outputs": [],
   "source": [
    "# get only the columns that were taken at initial assessment \n",
    "df = df[list(df.columns.values[df.columns.str.contains(\"-0\")]) + list([\"Encoded anonymised participant ID_eid\"])]"
   ]
  },
  {
   "cell_type": "code",
   "execution_count": null,
   "metadata": {},
   "outputs": [],
   "source": [
    "columns_of_interest = {\n",
    "    \"Age completed full time education_845-0.0\": \"age_education\",\n",
    "    \"Age when attended assessment centre_21003-0.0\": \"age\",\n",
    "    \"Average total household income before tax_738-0.0\": \"average_income\",\n",
    "    \"Body fat percentage_23099-0.0\": \"body_fat\",\n",
    "    \"Body mass index (BMI)_21001-0.0\": \"bmi\",\n",
    "    #\"Current tobacco smoking_1239-0.0\": \"current_tobacco_smoking\",\n",
    "    \"Diabetes diagnosed by doctor_2443-0.0\": \"diabetes\",\n",
    "    \"Diastolic blood pressure, automated reading_4079-0.0\": \"diastolic_blood_pressure\",\n",
    "    \"Encoded anonymised participant ID_eid\": \"EID\",\n",
    "    \"Ethnic background_21000-0.0\": \"ethnicity\",\n",
    "    \"Frequency of drinking alcohol_20414-0.0\": \"frequency_alcohol\",\n",
    "    \"Alcohol intake frequency._1558-0.0\": \"alcohol_frequency\",\n",
    "    \"Genetic sex_22001-0.0\": \"genetic_sex\",\n",
    "    \"Genotype measurement batch_22000-0.0\": \"genotype_batch\",\n",
    "    \"Genotype measurement plate_22007-0.0\": \"genotype_plate\",\n",
    "    \"Genotype measurement well_22008-0.0\": \"genotype_well\",\n",
    "    #\"derived_job_class\": \"derived_job_class\",\n",
    "    \"derived_kinship\": \"derived_kinship\",\n",
    "    \"derived_medication_cholesterol_blood_pressure_diabetes\": \"derived_medication_cholesterol_blood_pressure_diabetes\",\n",
    "    \"Outliers for heterozygosity or missing rate_22027-0.0\": \"outliers_heterozygosity_missing_rate\",\n",
    "    \"Pulse rate, automated reading_102-0.0\": \"pulse_rate\",\n",
    "    \"derived_socioeconomic_status\": \"derived_socioeconomic_status\",\n",
    "    \"Sex chromosome aneuploidy_22019-0.0\": \"sex_chromosome_aneuploidy\",\n",
    "    \"Sex_31-0.0\": \"sex\",\n",
    "    \"Smoking status_20116-0.0\": \"smoking_status\",\n",
    "    \"Standing height_50-0.0\": \"height\",\n",
    "    \"Systolic blood pressure, automated reading_4080-0.0\": \"systolic_blood_pressure\",\n",
    "    \"Townsend deprivation index at recruitment_189-0.0\": \"townsend\",\n",
    "    \"UK Biobank assessment centre_54-0.0\": \"assessment_centre\",\n",
    "    \"derived_chd\": \"derived_chd\",\n",
    "    \"Weight_21002-0.0\": \"weight\"\n",
    "}\n",
    "\n",
    "for pc in df.columns.values[df.columns.str.startswith(\"Genetic principal components\")]:\n",
    "    pc_num = pc.split(\".\")[1]\n",
    "    columns_of_interest[pc] = \"PC{}\".format(pc_num)\n",
    "    \n",
    "for outcome in df[df.columns.values[df.columns.str.startswith(\"Vascular/heart problems diagnosed by doctor_6150-0\")]].iloc[:, 0].unique():\n",
    "    columns_of_interest[\"derived_{}\".format(outcome)] = \"derived_{}\".format(outcome)\n",
    "    \n",
    "for k, v in columns_of_interest.items():\n",
    "    print(k, v)"
   ]
  },
  {
   "cell_type": "markdown",
   "metadata": {},
   "source": [
    "# Genetic kinship"
   ]
  },
  {
   "cell_type": "code",
   "execution_count": null,
   "metadata": {},
   "outputs": [],
   "source": [
    "def get_kinship(row):\n",
    "    acceptable_values=[\"No kinship found\"]\n",
    "    if row in acceptable_values:\n",
    "        return 0\n",
    "    elif row in [\"Participant excluded from kinship inference process\"]:\n",
    "        return None\n",
    "    else:\n",
    "        return 1\n",
    "    \n",
    "cols_to_check = df.columns.values[df.columns.str.startswith(\"Genetic kinship to other participants_22021-0\")]\n",
    "\n",
    "for c in cols_to_check:\n",
    "    df[c] = df[c].apply(get_kinship)\n",
    "    \n",
    "df[\"derived_kinship\"] = df[cols_to_check].any(axis=\"columns\")"
   ]
  },
  {
   "cell_type": "markdown",
   "metadata": {},
   "source": [
    "# Heart problems"
   ]
  },
  {
   "cell_type": "code",
   "execution_count": null,
   "metadata": {},
   "outputs": [],
   "source": [
    "cols_to_check = df.columns.values[df.columns.str.startswith(\"Vascular/heart problems diagnosed by doctor_6150-0\")]\n",
    "\n",
    "def get_heart_probs(row, val=None):\n",
    "    if row in [val]:\n",
    "        return 1\n",
    "    elif row in [\"Prefer not to answer\"]:\n",
    "        return None\n",
    "    else:\n",
    "        return 0\n",
    "\n",
    "for outcome in df[df.columns.values[df.columns.str.startswith(\"Vascular/heart problems diagnosed by doctor_6150-0\")]].iloc[:, 0].unique():\n",
    "    print(outcome)\n",
    "    all_cols = []\n",
    "    for c in cols_to_check:\n",
    "        df[\"{}_{}\".format(c, outcome)] = df[c].apply(get_heart_probs, val=outcome)\n",
    "        print(c, df[\"{}_{}\".format(c, outcome)].sum())\n",
    "        all_cols.append(\"{}_{}\".format(c, outcome))\n",
    "    df[\"derived_{}\".format(outcome)] = df[all_cols].any(axis=\"columns\")"
   ]
  },
  {
   "cell_type": "markdown",
   "metadata": {},
   "source": [
    "# Blood pressure medication"
   ]
  },
  {
   "cell_type": "code",
   "execution_count": null,
   "metadata": {},
   "outputs": [],
   "source": [
    "# from BMJ paper: dichotomous variable, 1 if degree level == collge or professional, else 0\n",
    "def get_blood_pressure_medication(row):\n",
    "    acceptable_values=[\"Blood pressure medication\"]\n",
    "    if row in acceptable_values:\n",
    "        return 1\n",
    "    elif row in [\"Prefer not to answer\"]:\n",
    "        return None\n",
    "    else:\n",
    "        return 0\n",
    "    \n",
    "cols_to_check = df.columns.values[df.columns.str.startswith(\"Medication for cholesterol, blood pressure or diabetes_6177-0\")]\n",
    "\n",
    "for c in cols_to_check:\n",
    "    df[c] = df[c].apply(get_blood_pressure_medication)\n",
    "    \n",
    "df[\"derived_medication_cholesterol_blood_pressure_diabetes\"] = df[cols_to_check].any(axis=\"columns\")"
   ]
  },
  {
   "cell_type": "markdown",
   "metadata": {},
   "source": [
    "## Degree level variable"
   ]
  },
  {
   "cell_type": "code",
   "execution_count": null,
   "metadata": {},
   "outputs": [],
   "source": [
    "# from BMJ paper: dichotomous variable, 1 if degree level == collge or professional, else 0\n",
    "def get_socioeconomic_status(row):\n",
    "    acceptable_values=[\"College or University degree\", \"Other professional qualifications eg: nursing, teaching\"]\n",
    "    if row in acceptable_values:\n",
    "        return 1\n",
    "    elif row in [\"Prefer not to answer\"]:\n",
    "        return None\n",
    "    else:\n",
    "        return 0\n",
    "    \n",
    "cols_to_check = df.columns.values[df.columns.str.startswith(\"Qualifications\")]\n",
    "\n",
    "for c in cols_to_check:\n",
    "    df[c] = df[c].apply(get_socioeconomic_status)\n",
    "    \n",
    "df[\"derived_socioeconomic_status\"] = df[cols_to_check].any(axis=\"columns\")"
   ]
  },
  {
   "cell_type": "code",
   "execution_count": null,
   "metadata": {},
   "outputs": [],
   "source": [
    "df[\"derived_chd\"] = df[[\"derived_Heart attack\", \"derived_Angina\"]].any(axis=\"columns\")"
   ]
  },
  {
   "cell_type": "code",
   "execution_count": null,
   "metadata": {},
   "outputs": [],
   "source": [
    "# NOTE: commented this out to add in all (continuous) traits\n",
    "\n",
    "# get only the columns we want\n",
    "# df_filtered = df[columns_of_interest.keys()]\n",
    "df_filtered = df"
   ]
  },
  {
   "cell_type": "code",
   "execution_count": null,
   "metadata": {},
   "outputs": [],
   "source": [
    "df_filtered.rename(columns=columns_of_interest, inplace=True)"
   ]
  },
  {
   "cell_type": "code",
   "execution_count": null,
   "metadata": {},
   "outputs": [],
   "source": [
    "df_filtered.head()"
   ]
  },
  {
   "cell_type": "code",
   "execution_count": null,
   "metadata": {},
   "outputs": [],
   "source": [
    "# merge with PRS values\n",
    "split1_prs_df = pd.read_csv(\"/u/home/n/nlapier2/project-ukbiobank/data/mr_ukb_split/prs/jama_bmi_prs_split1.txt\", \n",
    "                            header=None, sep=\"\\t\")\n",
    "split1_prs_df.columns = [\"EID\", \"PRS_split1\"]\n",
    "\n",
    "split2_prs_df = pd.read_csv(\"/u/home/n/nlapier2/project-ukbiobank/data/mr_ukb_split/prs/jama_bmi_prs_split2.txt\", \n",
    "                            header=None, sep=\"\\t\")\n",
    "split2_prs_df.columns = [\"EID\", \"PRS_split2\"]"
   ]
  },
  {
   "cell_type": "code",
   "execution_count": null,
   "metadata": {},
   "outputs": [],
   "source": [
    "df_filtered = df_filtered.merge(right=split1_prs_df, on=\"EID\", how=\"left\")\n",
    "df_filtered = df_filtered.merge(right=split2_prs_df, on=\"EID\", how=\"left\")"
   ]
  },
  {
   "cell_type": "code",
   "execution_count": null,
   "metadata": {},
   "outputs": [],
   "source": [
    "print(df_filtered.shape)\n",
    "df_filtered.head()"
   ]
  },
  {
   "cell_type": "code",
   "execution_count": null,
   "metadata": {},
   "outputs": [],
   "source": [
    "df_filtered.to_csv(\"/u/scratch/b/blhill/UKBB_features.tsv\", header=True, sep=\"\\t\", index=False)"
   ]
  }
 ],
 "metadata": {
  "kernelspec": {
   "display_name": "Python 3",
   "language": "python",
   "name": "python3"
  },
  "language_info": {
   "codemirror_mode": {
    "name": "ipython",
    "version": 3
   },
   "file_extension": ".py",
   "mimetype": "text/x-python",
   "name": "python",
   "nbconvert_exporter": "python",
   "pygments_lexer": "ipython3",
   "version": "3.6.5"
  }
 },
 "nbformat": 4,
 "nbformat_minor": 2
}
